{
 "cells": [
  {
   "cell_type": "code",
   "execution_count": 1,
   "metadata": {
    "ExecuteTime": {
     "end_time": "2019-07-26T18:38:06.758405Z",
     "start_time": "2019-07-26T18:38:03.979805Z"
    }
   },
   "outputs": [
    {
     "name": "stdout",
     "output_type": "stream",
     "text": [
      "[[2. 1. 0. 0.]\n",
      " [0. 2. 1. 0.]\n",
      " [0. 0. 2. 1.]]\n"
     ]
    }
   ],
   "source": [
    "import numpy as np\n",
    "\n",
    "a = 2*np.eye(3, 4, 0)+np.eye(3, 4, 1)\n",
    "print(a)"
   ]
  },
  {
   "cell_type": "code",
   "execution_count": 11,
   "metadata": {
    "ExecuteTime": {
     "end_time": "2019-07-25T17:55:24.363520Z",
     "start_time": "2019-07-25T17:55:24.360520Z"
    }
   },
   "outputs": [
    {
     "name": "stdout",
     "output_type": "stream",
     "text": [
      "[[2.]\n",
      " [1.]\n",
      " [0.]\n",
      " [0.]\n",
      " [0.]\n",
      " [2.]\n",
      " [1.]\n",
      " [0.]\n",
      " [0.]\n",
      " [0.]\n",
      " [2.]\n",
      " [1.]]\n"
     ]
    }
   ],
   "source": [
    "mat = a\n",
    "print(mat.reshape(12,1))"
   ]
  },
  {
   "cell_type": "code",
   "execution_count": 9,
   "metadata": {
    "ExecuteTime": {
     "end_time": "2019-07-26T18:44:08.696645Z",
     "start_time": "2019-07-26T18:43:41.251642Z"
    }
   },
   "outputs": [
    {
     "name": "stdout",
     "output_type": "stream",
     "text": [
      "2 3\n",
      "8 7 7 14 4 6\n",
      "4 3\n",
      "5 5 1 5 2 6 3 3 9 1 4 6\n",
      "[[ 82  96 108  78]\n",
      " [ 96 114 108  66]]\n"
     ]
    }
   ],
   "source": [
    "x_shape = tuple(map(int, input().split()))\n",
    "X = np.fromiter(map(int, input().split()), np.int).reshape(x_shape)\n",
    "y_shape = tuple(map(int, input().split()))\n",
    "Y = np.fromiter(map(int, input().split()), np.int).reshape(y_shape)\n",
    "\n",
    "try:\n",
    "    n = np.dot(X, Y.T)\n",
    "    print(n)\n",
    "except:\n",
    "    print(\"matrix shapes do not match\")"
   ]
  },
  {
   "cell_type": "code",
   "execution_count": 8,
   "metadata": {
    "ExecuteTime": {
     "end_time": "2019-07-26T18:43:36.925518Z",
     "start_time": "2019-07-26T18:43:36.921520Z"
    }
   },
   "outputs": [
    {
     "name": "stdout",
     "output_type": "stream",
     "text": [
      "[[ 82  96 108  78]\n",
      " [ 96 114 108  66]]\n"
     ]
    }
   ],
   "source": [
    "n = np.dot(X, Y.T)\n",
    "print(n)"
   ]
  },
  {
   "cell_type": "code",
   "execution_count": 7,
   "metadata": {},
   "outputs": [
    {
     "name": "stdout",
     "output_type": "stream",
     "text": [
      "сумма квадратов отклонений 7.0\n",
      "сумма модулей отклонений 6.0\n",
      "Итоговый ответ 7.0\n"
     ]
    }
   ],
   "source": [
    "# 1.7 Линейная алгебра в деле. Exercise 3\n",
    "# посчитайте сумму квадратов отклонений и сумму модулей отклонений. В ответе напишите максимальное из этих двух значений\n",
    "\n",
    "arr = ((0.25, 0), (0.5, 1), (0.75, 0), (1.25, 0), (1.75, 1), (2,2))\n",
    "\n",
    "def func(x):\n",
    "    return 2*x-1\n",
    "\n",
    "sum_sq, sum_abs =0, 0\n",
    "\n",
    "for a in arr:\n",
    "    sum_sq += (func(a[0]) - a[1])**2\n",
    "    sum_abs += abs(func(a[0]) - a[1])\n",
    "    \n",
    "print('сумма квадратов отклонений', sum_sq)\n",
    "print('сумма модулей отклонений', sum_abs)\n",
    "print('Итоговый ответ', max(sum_sq,sum_abs))"
   ]
  },
  {
   "cell_type": "code",
   "execution_count": 1,
   "metadata": {},
   "outputs": [
    {
     "name": "stdout",
     "output_type": "stream",
     "text": [
      "7.0\n",
      "6.0 7.0\n"
     ]
    }
   ],
   "source": [
    "# 1.7 Линейная алгебра в деле. Exercise 3\n",
    "# чужая реализация предыдущей задачи с другим форматом входных данных (y и y^)\n",
    "arr = ((0, -0.5), (1, 0), (0, 0.5), (0, 1.5), (1, 2.5), (2,3))\n",
    "\n",
    "def sqerr(a, b):\n",
    "  return (a - b)**2\n",
    "\n",
    "def abserr(a, b):\n",
    "  return abs(a - b)\n",
    "\n",
    "def errsum(err_fun):\n",
    "  return sum(list(map(lambda pair: err_fun(pair[0], pair[1]), arr)))\n",
    "\n",
    "print(str(max(errsum(abserr), errsum(sqerr))))\n",
    "\n",
    "print(errsum(abserr), errsum(sqerr))"
   ]
  },
  {
   "cell_type": "code",
   "execution_count": 12,
   "metadata": {},
   "outputs": [
    {
     "name": "stdout",
     "output_type": "stream",
     "text": [
      "[-2.342] [0.195]\n"
     ]
    }
   ],
   "source": [
    "# 1.7 Линейная алгебра в деле. Exercise 5\n",
    "\n",
    "import numpy as np\n",
    "from numpy.linalg import inv\n",
    "\n",
    "y = np.array(((10,), (7,), (12,)))\n",
    "x = np.array(((1,60),(1,50),(1,75)))\n",
    "B = np.dot(np.dot(inv(np.dot(x.T,x)), x.T), y)\n",
    "print(*np.round(B,3))"
   ]
  },
  {
   "cell_type": "code",
   "execution_count": 21,
   "metadata": {},
   "outputs": [
    {
     "name": "stdout",
     "output_type": "stream",
     "text": [
      "-3.6558 -0.2164 0.0737 4.4125 -25.4684 7.1432 -1.3011\n"
     ]
    }
   ],
   "source": [
    "# 1.7 Линейная алгебра в деле. Exercise 7\n",
    "#Найдите оптимальные коэффициенты для построения линейной регрессии.\n",
    "#На вход вашему решению будет подано название csv-файла, из которого нужно считать данные. \n",
    "\n",
    "import urllib\n",
    "from urllib import request\n",
    "import numpy as np\n",
    "from numpy.linalg import inv\n",
    "\n",
    "fname = input()  # read file name from stdin\n",
    "#fname = r'https://stepic.org/media/attachments/lesson/16462/boston_houses.csv'\n",
    "f = urllib.request.urlopen(fname)  # open file from URL\n",
    "data = np.loadtxt(f, delimiter=',', skiprows=1)  # load data to work with\n",
    "y = data[:, 0]\n",
    "x = data[:, 1:]\n",
    "#print (x.shape)\n",
    "\n",
    "one = np.ones((len(x),1))\n",
    "#print(one.shape)\n",
    "x = np.concatenate((one, x), axis=1 )\n",
    "#print(x.shape)\n",
    "\n",
    "B = np.dot(np.dot(inv(np.dot(x.T,x)), x.T), y)\n",
    "print(*np.round(B,4))\n"
   ]
  },
  {
   "cell_type": "code",
   "execution_count": null,
   "metadata": {},
   "outputs": [],
   "source": [
    "#2.7 Однослойные модели. Exercise 1\n",
    "\n",
    "import numpy as np\n",
    "\n",
    "def vectorized_forward_pass(self, input_matrix):        \n",
    "    # your code goes here\n"
   ]
  },
  {
   "cell_type": "code",
   "execution_count": 12,
   "metadata": {},
   "outputs": [
    {
     "name": "stdout",
     "output_type": "stream",
     "text": [
      "Математическая ошибка. Значение операндов: y= 1 , y_hat= 1 , 1-y_i= 0 , 1-y_hat_i= 0\n",
      "0.033 0.154\n"
     ]
    }
   ],
   "source": [
    "#3.4 Целевые функции. Exercise 1 \n",
    "# Посчитайте значение квадратичной целевой функции и целевой функции cross entropy. \n",
    "import math\n",
    "\n",
    "y_hat = [1, 0.3, 0.1]\n",
    "y = [1,0,0]\n",
    "cross_entropy, square = 0,0\n",
    "for y_hat_i, y_i in zip(y_hat,y):\n",
    "    square += (y_i-y_hat_i)**2\n",
    "    try:\n",
    "        cross_entropy += (y_i*math.log(y_hat_i) + (1-y_i)*math.log(1-y_hat_i) )\n",
    "    except:\n",
    "        print('Математическая ошибка. Значение операндов: y=', y_i, ', y_hat=', y_hat_i, ', 1-y_i=', 1-y_i, \\\n",
    "              ', 1-y_hat_i=', 1-y_hat_i )\n",
    "        \n",
    "square /= len(y)\n",
    "cross_entropy /= -len(y)\n",
    "    \n",
    "print(round(square,3), round(cross_entropy,3))"
   ]
  },
  {
   "cell_type": "code",
   "execution_count": null,
   "metadata": {},
   "outputs": [],
   "source": []
  }
 ],
 "metadata": {
  "kernelspec": {
   "display_name": "Python 3",
   "language": "python",
   "name": "python3"
  },
  "language_info": {
   "codemirror_mode": {
    "name": "ipython",
    "version": 3
   },
   "file_extension": ".py",
   "mimetype": "text/x-python",
   "name": "python",
   "nbconvert_exporter": "python",
   "pygments_lexer": "ipython3",
   "version": "3.6.4"
  }
 },
 "nbformat": 4,
 "nbformat_minor": 2
}
