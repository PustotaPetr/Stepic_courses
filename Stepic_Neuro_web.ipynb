{
 "cells": [
  {
   "cell_type": "code",
   "execution_count": 1,
   "metadata": {
    "ExecuteTime": {
     "end_time": "2019-07-26T18:38:06.758405Z",
     "start_time": "2019-07-26T18:38:03.979805Z"
    }
   },
   "outputs": [
    {
     "name": "stdout",
     "output_type": "stream",
     "text": [
      "[[2. 1. 0. 0.]\n",
      " [0. 2. 1. 0.]\n",
      " [0. 0. 2. 1.]]\n"
     ]
    }
   ],
   "source": [
    "import numpy as np\n",
    "\n",
    "a = 2*np.eye(3, 4, 0)+np.eye(3, 4, 1)\n",
    "print(a)"
   ]
  },
  {
   "cell_type": "code",
   "execution_count": 11,
   "metadata": {
    "ExecuteTime": {
     "end_time": "2019-07-25T17:55:24.363520Z",
     "start_time": "2019-07-25T17:55:24.360520Z"
    }
   },
   "outputs": [
    {
     "name": "stdout",
     "output_type": "stream",
     "text": [
      "[[2.]\n",
      " [1.]\n",
      " [0.]\n",
      " [0.]\n",
      " [0.]\n",
      " [2.]\n",
      " [1.]\n",
      " [0.]\n",
      " [0.]\n",
      " [0.]\n",
      " [2.]\n",
      " [1.]]\n"
     ]
    }
   ],
   "source": [
    "mat = a\n",
    "print(mat.reshape(12,1))"
   ]
  },
  {
   "cell_type": "code",
   "execution_count": 9,
   "metadata": {
    "ExecuteTime": {
     "end_time": "2019-07-26T18:44:08.696645Z",
     "start_time": "2019-07-26T18:43:41.251642Z"
    }
   },
   "outputs": [
    {
     "name": "stdout",
     "output_type": "stream",
     "text": [
      "2 3\n",
      "8 7 7 14 4 6\n",
      "4 3\n",
      "5 5 1 5 2 6 3 3 9 1 4 6\n",
      "[[ 82  96 108  78]\n",
      " [ 96 114 108  66]]\n"
     ]
    }
   ],
   "source": [
    "x_shape = tuple(map(int, input().split()))\n",
    "X = np.fromiter(map(int, input().split()), np.int).reshape(x_shape)\n",
    "y_shape = tuple(map(int, input().split()))\n",
    "Y = np.fromiter(map(int, input().split()), np.int).reshape(y_shape)\n",
    "\n",
    "try:\n",
    "    n = np.dot(X, Y.T)\n",
    "    print(n)\n",
    "except:\n",
    "    print(\"matrix shapes do not match\")"
   ]
  },
  {
   "cell_type": "code",
   "execution_count": 8,
   "metadata": {
    "ExecuteTime": {
     "end_time": "2019-07-26T18:43:36.925518Z",
     "start_time": "2019-07-26T18:43:36.921520Z"
    }
   },
   "outputs": [
    {
     "name": "stdout",
     "output_type": "stream",
     "text": [
      "[[ 82  96 108  78]\n",
      " [ 96 114 108  66]]\n"
     ]
    }
   ],
   "source": [
    "n = np.dot(X, Y.T)\n",
    "print(n)"
   ]
  },
  {
   "cell_type": "code",
   "execution_count": null,
   "metadata": {},
   "outputs": [],
   "source": []
  }
 ],
 "metadata": {
  "kernelspec": {
   "display_name": "Python 3",
   "language": "python",
   "name": "python3"
  },
  "language_info": {
   "codemirror_mode": {
    "name": "ipython",
    "version": 3
   },
   "file_extension": ".py",
   "mimetype": "text/x-python",
   "name": "python",
   "nbconvert_exporter": "python",
   "pygments_lexer": "ipython3",
   "version": "3.6.4"
  }
 },
 "nbformat": 4,
 "nbformat_minor": 2
}
