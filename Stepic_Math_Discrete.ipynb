{
 "cells": [
  {
   "cell_type": "markdown",
   "metadata": {},
   "source": [
    "Задачи к курсу на Stepic \"Ликбез по дискретной математике\" https://stepik.org/course/91"
   ]
  },
  {
   "cell_type": "code",
   "execution_count": 35,
   "metadata": {},
   "outputs": [
    {
     "name": "stdout",
     "output_type": "stream",
     "text": [
      "[-4, 0, -2, 0, -4] длина :  6.0\n",
      "[1, -3, -1, -3, 4] длина :  6.0\n",
      "[3, 3, 3, 3, 0] длина :  6.0\n",
      "Периметр = 18.0\n"
     ]
    }
   ],
   "source": [
    "#2.2 Евклидово пространство Exercise 2\n",
    "# Найти периметр треугольника с вершинами в точках A(2, 4, 2, 4, 2), B(6, 4, 4, 4, 6), C(5, 7, 5, 7, 2).\n",
    "\n",
    "import math\n",
    "\n",
    "def len_vect(v):\n",
    "    # Calculation length of vector\n",
    "    # v - N-dim vector, iterable object with digit\n",
    "    return sum([x**2 for x in v])**0.5\n",
    "\n",
    "def subtraction_vect(v1, v2):\n",
    "    return [x-y for x, y in zip(v1,v2)]\n",
    "\n",
    "def addition_vect(v1, v2):\n",
    "    return [x+y for x, y in zip(v1,v2)]\n",
    "\n",
    "def multiplication_vect_on_digit(v1,a):\n",
    "    return [x*a for x in v1]\n",
    "\n",
    "def division_vect_on_digit(v1,a, round_num=3):\n",
    "    return [round(x/a,round_num) for x in v1]\n",
    "\n",
    "def scalar_product(a,b):\n",
    "    return sum([x*y for x,y in zip(a,b)])\n",
    "\n",
    "def angel_between_v(a, b, degree=1):\n",
    "    # calculation angel between vector.\n",
    "    # a and b - vectors(list) with the same dimension\n",
    "    # if degree = 1 - result in degree\n",
    "    # if degree != 1 - result in radian\n",
    "    alfa = math.acos(scalar_product(a,b)/(len_vect(a)*len_vect(b)))\n",
    "    if degree == 1:\n",
    "        return alfa*180/math.pi\n",
    "    else:\n",
    "        return alfa\n",
    "\n",
    "A = [2, 4, 2, 4, 2]\n",
    "B = [6, 4, 4, 4, 6]\n",
    "C = [5, 7, 5, 7, 2]\n",
    "vector_a = [a[0]-a[1] for a in zip(A, B)]\n",
    "vector_b = [a[0]-a[1] for a in zip(B, C)]\n",
    "vector_c = [a[0]-a[1] for a in zip(C, A)]\n",
    "\n",
    "print(vector_a, 'длина : ', len_vect(vector_a))\n",
    "print(vector_b, 'длина : ', len_vect(vector_b))\n",
    "print(vector_c, 'длина : ', len_vect(vector_c))\n",
    "P= len_vect(vector_a) + len_vect(vector_b)+ len_vect(vector_c)\n",
    "print('Периметр =',P)\n"
   ]
  },
  {
   "cell_type": "code",
   "execution_count": 2,
   "metadata": {},
   "outputs": [
    {
     "name": "stdout",
     "output_type": "stream",
     "text": [
      "90.0\n"
     ]
    }
   ],
   "source": [
    "# 2.2 Евклидово пространство Exercise 3\n",
    "# Найдите угол между векторами a=(2,−2,1) и b=(1,2,2).\n",
    "\n",
    "\n",
    "a = (2, -2, 1)\n",
    "b = (1, 2, 2)\n",
    "\n",
    "alfa = angel_between_v(a,b)\n",
    "print(alfa)\n"
   ]
  },
  {
   "cell_type": "code",
   "execution_count": 28,
   "metadata": {},
   "outputs": [
    {
     "name": "stdout",
     "output_type": "stream",
     "text": [
      "-0.333 109.47122063449069\n",
      "-0.816\n",
      "-0.816\n"
     ]
    }
   ],
   "source": [
    "# 2.2 Евклидово пространство Exercise 4\n",
    "#Молекула метана CH4 расположена в пространстве в виде пирамиды, в центре которой находится атом углерода, а \n",
    "#в вершинах — атомы водорода. Если вершины разместить в точках с координатами (0,0,0), (1,1,0), (1,0,1) и (0,1,1), \n",
    "#то получится правильный тетраэдр, длины всех ребер которого равны 2–√.  Каким будет косинус угла между любыми двумя \n",
    "#лучами, идущими из центра тетраэдра, расположенного в точке (1/2, 1/2, 1/2), к вершинам этого тетраэдра?\n",
    "\n",
    "A = [0,0,0]\n",
    "B = [1,1,0]\n",
    "C = [0.5, 0.5, 0.5]\n",
    "a = [a[0]-a[1] for a in zip(A, C)]\n",
    "b = [a[0]-a[1] for a in zip(B, C)]\n",
    "\n",
    "cos_alfa = scalar_product(a,b)/(len_vect(a)*len_vect(b))\n",
    "print(round(cos_alfa,3), angel_between_v(a,b))\n",
    "\n",
    "B = [1,0,1]\n",
    "a = [a[0]-a[1] for a in zip(A, B)]\n",
    "b = [a[0]-a[1] for a in zip(B, C)]\n",
    "cos_alfa = scalar_product(a,b)/(len_vect(a)*len_vect(b)) \n",
    "print(round(cos_alfa,3))\n",
    "\n",
    "A = [0,1,1]\n",
    "a = [a[0]-a[1] for a in zip(A, B)]\n",
    "b = [a[0]-a[1] for a in zip(B, C)]\n",
    "\n",
    "cos_alfa = scalar_product(a,b)/(len_vect(a)*len_vect(b)) \n",
    "print(round(cos_alfa,3))"
   ]
  },
  {
   "cell_type": "code",
   "execution_count": 3,
   "metadata": {},
   "outputs": [
    {
     "name": "stdout",
     "output_type": "stream",
     "text": [
      "[-0.7715167498104595, 0.6172133998483676, 0.1543033499620919] 0.9999999999999999\n"
     ]
    }
   ],
   "source": [
    "# 2.3 Ортогональный базис. Exercise 3\n",
    "# проверка результа расчета\n",
    "\n",
    "vect_a = [-5/(42**0.5), 4/(42**0.5), 1/(42**0.5)]\n",
    "print(vect_a, scalar_product(vect_a,vect_a))"
   ]
  },
  {
   "cell_type": "code",
   "execution_count": 6,
   "metadata": {},
   "outputs": [
    {
     "name": "stdout",
     "output_type": "stream",
     "text": [
      "[0.0, 1.0, -1.0]\n",
      "[1.3333333333333335, -0.33333333333333326, -0.33333333333333326]\n",
      "0.333 0.667 0.667 0.0 0.707 -0.707 0.943 -0.236 -0.236\n"
     ]
    }
   ],
   "source": [
    "# 2.3 Ортогональный базис. Exercise 5\n",
    "#С использованием процедуры Грама-Шмидта получите ортонормированный базис из базиса вида\n",
    "#f1=(1,2,2), f2=(1,3,1), f3=(2,1,1). \n",
    "#В качестве результата введите через пробел координаты полученных векторов, округленные до третьего знака после запятой.\n",
    "\n",
    "f1, f2, f3  = (1,2,2), (1,3,1), (2,1,1)\n",
    "\n",
    "e1 = f1\n",
    "alf1 = scalar_product(e1,f2)/scalar_product(e1,e1)\n",
    "e2 = subtraction_vect(f2, multiplication_vect_on_digit(e1,alf1))\n",
    "print(e2)\n",
    "\n",
    "bet1 = scalar_product(e1,f3)/scalar_product(e1,e1)\n",
    "bet2 = scalar_product(e2,f3)/scalar_product(e2,e2)\n",
    "e3 = subtraction_vect(subtraction_vect(f3, multiplication_vect_on_digit(e1,bet1)), multiplication_vect_on_digit(e2,bet2))\n",
    "print(e3)\n",
    "e1_norm = division_vect_on_digit(f1, len_vect(f1))\n",
    "e2_norm = division_vect_on_digit(e2, len_vect(e2))\n",
    "e3_norm = division_vect_on_digit(e3, len_vect(e3))\n",
    "\n",
    "print(*e1_norm, *e2_norm, *e3_norm, sep=' ' )"
   ]
  },
  {
   "cell_type": "code",
   "execution_count": 24,
   "metadata": {},
   "outputs": [
    {
     "name": "stdout",
     "output_type": "stream",
     "text": [
      "ортогональный базис (1, 1, -2) [2.333333333333333, 0.33333333333333326, 1.3333333333333335]\n",
      "[0.4082483, 0.4082483, -0.8164966]\n",
      "[0.8616404, 0.1230915, 0.492366]\n",
      "Проекции на заданный базис  -4.4907313 4.5543854 Итоговый результат (длина провекции на базис): 6.39602173077397\n"
     ]
    },
    {
     "data": {
      "image/png": "[encoded data removed]",
      "text/plain": [
       "<matplotlib.figure.Figure at 0x256db661b70>"
      ]
     },
     "metadata": {
      "needs_background": "light"
     },
     "output_type": "display_data"
    }
   ],
   "source": [
    "# 2.3 Ортогональный базис. Exercise 7\n",
    "\n",
    "#Вычислите длину проекции вектора (1,2,7)  на подпространство, базисом которого являются векторы (1, 1, -2) и (1, -1, 4). \n",
    "#Ответ округлите до третьего знака после запятой.  \n",
    "\n",
    "%matplotlib inline\n",
    "\n",
    "import matplotlib.pyplot as plt\n",
    "from mpl_toolkits.mplot3d import Axes3D\n",
    "\n",
    "v=(1,2,7)\n",
    "f1 = (1, 1, -2)\n",
    "f2 =  (1, -1, 4)\n",
    "\n",
    "#попытка визуализировать условия задачи\n",
    "fig = plt.figure()\n",
    "fig.set_size_inches((12,8))\n",
    "\n",
    "ax = fig.add_subplot(111, projection='3d')\n",
    "ax.plot([-5,9], [0,0], [0,0], c='b', label = 'axes')\n",
    "ax.plot([0,0], [-5,9], [0,0], c='b')\n",
    "ax.plot( [0,0], [0,0], [-5,9], c='b')\n",
    "ax.plot((0,1),(0,2), (0,7), c='r',  label = 'vector')\n",
    "ax.plot( *zip((0,0,0),f1), c='g')\n",
    "ax.plot( *zip((0,0,0),f2), c='g',  label = 'basis')\n",
    "\n",
    "\n",
    "#расчет ортонормированного базиса\n",
    "e1 = f1\n",
    "alf1 = scalar_product(e1,f2)/scalar_product(e1,e1)\n",
    "e2 = subtraction_vect(f2, multiplication_vect_on_digit(e1,alf1))\n",
    "e1_norm = division_vect_on_digit(e1, len_vect(e1), round_num=7)\n",
    "e2_norm = division_vect_on_digit(e2, len_vect(e2), round_num=7)\n",
    "\n",
    "print('ортогональный базис', e1, e2)\n",
    "print(e1_norm)\n",
    "\n",
    "print(e2_norm)\n",
    "\n",
    "x1 = scalar_product(v,e1_norm )\n",
    "x2 = scalar_product(v,e2_norm )\n",
    "x = len_vect((x1,x2))\n",
    "print('Проекции на заданный базис:',x1, x2, 'Итоговый результат (длина провекции на базис):', x)\n",
    "\n",
    "\n",
    "ax.plot( *zip((0,0,0),e1_norm), c='c')\n",
    "ax.plot( *zip((0,0,0),e2_norm), c='c', label = 'ortonorm basis')\n",
    "ax.legend()\n",
    "plt.show()"
   ]
  },
  {
   "cell_type": "code",
   "execution_count": 34,
   "metadata": {},
   "outputs": [
    {
     "name": "stdout",
     "output_type": "stream",
     "text": [
      "[[ 1.41421356 -0.70710678]\n",
      " [ 1.41421356  0.70710678]]\n",
      "[[ 4.121 -1.414]\n",
      " [ 2.121  2.414]]\n"
     ]
    },
    {
     "data": {
      "image/png": "[encoded data removed]",
      "text/plain": [
       "<matplotlib.figure.Figure at 0x1d222f7a898>"
      ]
     },
     "metadata": {
      "needs_background": "light"
     },
     "output_type": "display_data"
    }
   ],
   "source": [
    "# 2.4 Линейные операторы. Exercise 7\n",
    "#Найдите матрицу А оператора, который сначала растягивает вектор вдоль оси Ox в два раза, \n",
    "#а затем поворачивает его против часовой стрелки на 45 градусов. \n",
    "import numpy as np\n",
    "import matplotlib.pyplot as plt\n",
    "\n",
    "B = np.array([[2,0], [0,1]])\n",
    "A = np.array([[np.cos(np.pi/4), -np.sin(np.pi/4)], [np.sin(np.pi/4), np.cos(np.pi/4)]])\n",
    "\n",
    "#print(A)\n",
    "#print(B)\n",
    "\n",
    "C = A.dot(B)\n",
    "print(C)\n",
    "print(np.round(A+B+C, 3))\n",
    "\n",
    "x = np.linspace(-1, 1, 80)\n",
    "y =  np.sqrt(1-x**2)\n",
    "\n",
    "x = np.concatenate((x,x[::-1]))\n",
    "y = np.concatenate((y,-y[::-1]))\n",
    "xy = np.vstack((x, y))\n",
    "\n",
    "mod_xy = np.dot(C, xy)\n",
    "\n",
    "fig=plt.figure()\n",
    "ax = fig.add_subplot(111 , aspect=1)\n",
    "ax.plot(x,y)\n",
    "#ax.plot(x,-y)\n",
    "ax.plot(mod_xy[0],mod_xy[1])\n",
    "plt.show()"
   ]
  },
  {
   "cell_type": "code",
   "execution_count": 1,
   "metadata": {},
   "outputs": [
    {
     "ename": "NameError",
     "evalue": "name 'scalar_product' is not defined",
     "output_type": "error",
     "traceback": [
      "\u001b[1;31m---------------------------------------------------------------------------\u001b[0m",
      "\u001b[1;31mNameError\u001b[0m                                 Traceback (most recent call last)",
      "\u001b[1;32m<ipython-input-1-8205f86c5e2c>\u001b[0m in \u001b[0;36m<module>\u001b[1;34m\u001b[0m\n\u001b[0;32m      5\u001b[0m \u001b[0me2\u001b[0m\u001b[1;33m=\u001b[0m\u001b[1;33m[\u001b[0m\u001b[1;33m-\u001b[0m\u001b[1;36m1\u001b[0m\u001b[1;33m,\u001b[0m\u001b[1;36m0\u001b[0m\u001b[1;33m,\u001b[0m\u001b[1;36m1\u001b[0m\u001b[1;33m]\u001b[0m\u001b[1;33m\u001b[0m\u001b[0m\n\u001b[0;32m      6\u001b[0m \u001b[1;33m\u001b[0m\u001b[0m\n\u001b[1;32m----> 7\u001b[1;33m \u001b[0mfe1\u001b[0m \u001b[1;33m=\u001b[0m \u001b[0mscalar_product\u001b[0m\u001b[1;33m(\u001b[0m\u001b[0mf\u001b[0m\u001b[1;33m,\u001b[0m\u001b[0me1\u001b[0m\u001b[1;33m)\u001b[0m\u001b[1;33m\u001b[0m\u001b[0m\n\u001b[0m\u001b[0;32m      8\u001b[0m \u001b[0mfe2\u001b[0m \u001b[1;33m=\u001b[0m \u001b[0mscalar_product\u001b[0m\u001b[1;33m(\u001b[0m\u001b[0mf\u001b[0m\u001b[1;33m,\u001b[0m\u001b[0me2\u001b[0m\u001b[1;33m)\u001b[0m\u001b[1;33m\u001b[0m\u001b[0m\n\u001b[0;32m      9\u001b[0m \u001b[0me1e1\u001b[0m \u001b[1;33m=\u001b[0m \u001b[0mscalar_product\u001b[0m\u001b[1;33m(\u001b[0m\u001b[0me1\u001b[0m\u001b[1;33m,\u001b[0m\u001b[0me1\u001b[0m\u001b[1;33m)\u001b[0m\u001b[1;33m\u001b[0m\u001b[0m\n",
      "\u001b[1;31mNameError\u001b[0m: name 'scalar_product' is not defined"
     ]
    }
   ],
   "source": [
    "# 2.3 Ортогональный базис. Exercise 8\n",
    "\n",
    "f = [4,5,9]\n",
    "e1= [1,1,1]\n",
    "e2=[-1,0,1]\n",
    "\n",
    "fe1 = scalar_product(f,e1)\n",
    "fe2 = scalar_product(f,e2)\n",
    "e1e1 = scalar_product(e1,e1)\n",
    "e1e2 = scalar_product(e1,e2)\n",
    "e2e1 = scalar_product(e2,e1)\n",
    "e2e2 = scalar_product(e2,e2)\n",
    "print(fe1, '= c1 *', e1e1, '+ c2 *', e1e2)\n",
    "print(fe2, '= c1 *', e2e1, '+ c2 *', e2e2)"
   ]
  },
  {
   "cell_type": "code",
   "execution_count": 3,
   "metadata": {},
   "outputs": [
    {
     "name": "stdout",
     "output_type": "stream",
     "text": [
      "8144022047817960.0\n"
     ]
    }
   ],
   "source": [
    "# 3.5 K-сочетания из n-элементов. Exercise 2\n",
    "# Сколькими способами можно расставить 15 15 одинаковых шашек на доске размерами 9 \\times 9 9×9?\n",
    "\n",
    "import math\n",
    "\n",
    "def k_from_n(n, k):\n",
    "    if isinstance(n, int) and isinstance(k, int):\n",
    "        return math.factorial(n)/(math.factorial(k)*math.factorial(n-k))\n",
    "    else:\n",
    "        return 0\n",
    "    \n",
    "print(k_from_n(81,15))\n"
   ]
  },
  {
   "cell_type": "code",
   "execution_count": 11,
   "metadata": {},
   "outputs": [
    {
     "name": "stdout",
     "output_type": "stream",
     "text": [
      "2 3\n",
      "0 1\n",
      "0 2\n",
      "1 2\n"
     ]
    },
    {
     "data": {
      "text/plain": [
       "[None, None, None]"
      ]
     },
     "execution_count": 11,
     "metadata": {},
     "output_type": "execute_result"
    }
   ],
   "source": [
    "# 3.5 K-сочетания из n-элементов. Exercise 3\n",
    "# Нужно сгенерировать все возможные k-сочетания из n элементов.\n",
    "#Формат входных данных:\n",
    "#Два числа k и n через пробел. Для них гарантированно выполняется условие: 0 \\leq k \\leq n 0≤k≤n. \n",
    "#Формат выходных данных:\n",
    "#Необходимое число строк, в каждой из которых содержится k чисел из диапазона от 0 до n-1 включительно, \n",
    "#разделенных пробелом. \n",
    "\n",
    "from itertools import combinations\n",
    "\n",
    "k, n = map(int, input().split())\n",
    "\n",
    "data = list(combinations(range(n), k))\n",
    "#print(data)\n",
    "[print(*x) for x in data]\n"
   ]
  },
  {
   "cell_type": "code",
   "execution_count": 2,
   "metadata": {},
   "outputs": [
    {
     "name": "stdout",
     "output_type": "stream",
     "text": [
      "729\n"
     ]
    }
   ],
   "source": [
    "#4.2 k-перестановки из n элементов. Exercise 2\n",
    "#На перекрестке имеется 6 светофоров. Сколько существует различных состояний этих светофоров, если каждый из них \n",
    "#независимо от других имеет три возможных состояния — горит красный, горит желтый или горит зеленый?\n",
    "\n",
    "print(3**6)"
   ]
  },
  {
   "cell_type": "code",
   "execution_count": 1,
   "metadata": {},
   "outputs": [
    {
     "name": "stdout",
     "output_type": "stream",
     "text": [
      "28125\n"
     ]
    }
   ],
   "source": [
    "#4.2 k-перестановки из n элементов. Exercise 3\n",
    "#Сколько существует шестизначных чисел, все цифры которых имеют одинаковую четность? \n",
    "#Например, в числе 222222 все цифры четные.\n",
    "\n",
    "num_even = 4*5**5\n",
    "num_odd = 5**6\n",
    "print(num_even+num_odd)"
   ]
  },
  {
   "cell_type": "code",
   "execution_count": 1,
   "metadata": {},
   "outputs": [
    {
     "name": "stdout",
     "output_type": "stream",
     "text": [
      "45936\n"
     ]
    }
   ],
   "source": [
    "\n",
    "import math\n",
    "\n",
    "print(6**6 - math.factorial(6))"
   ]
  },
  {
   "cell_type": "code",
   "execution_count": 1,
   "metadata": {},
   "outputs": [
    {
     "name": "stdout",
     "output_type": "stream",
     "text": [
      "4 2\n",
      "0 1\n",
      "0 2\n",
      "0 3\n",
      "1 0\n",
      "1 2\n",
      "1 3\n",
      "2 0\n",
      "2 1\n",
      "2 3\n",
      "3 0\n",
      "3 1\n",
      "3 2\n"
     ]
    },
    {
     "data": {
      "text/plain": [
       "[None, None, None, None, None, None, None, None, None, None, None, None]"
      ]
     },
     "execution_count": 1,
     "metadata": {},
     "output_type": "execute_result"
    }
   ],
   "source": [
    "# 4.2 k-перестановки из n элементов. Exercise 8\n",
    "#Нужно сгенерировать все возможные k-перестановки n-элементов без повторений.\n",
    "#Формат входные данные:\n",
    "#Два числа n и k через пробел. Для них гарантированно выполняется условие: 0 < k ≤ n.\n",
    "#Формат выходных данных:\n",
    "#Необходимое число лексикографически упорядоченных строк, в каждой из которых содержится k чисел от 0 до n-1, \n",
    "#разделенных пробелом.\n",
    "\n",
    "from itertools import permutations\n",
    "\n",
    "n, k = map(int, input().split())\n",
    "\n",
    "data = list(permutations(range(n), k))\n",
    "#print(data)\n",
    "[print(*x) for x in data]\n"
   ]
  },
  {
   "cell_type": "code",
   "execution_count": null,
   "metadata": {},
   "outputs": [],
   "source": [
    "# 4.2 k-перестановки из n элементов. Exercise 8\n",
    "# Второй вариант реализации\n",
    "\n",
    "n, k = map(int, input().split())\n",
    "\n",
    "for i in range(n):\n",
    "    \n"
   ]
  },
  {
   "cell_type": "code",
   "execution_count": 6,
   "metadata": {},
   "outputs": [
    {
     "name": "stdout",
     "output_type": "stream",
     "text": [
      "-0.0\n",
      "5.0\n",
      "-1280.0\n",
      "21870.0\n",
      "-81920.0\n",
      "78125.0\n",
      "кол-во способов распределения : 16800\n"
     ]
    }
   ],
   "source": [
    "# 4.4 Подсчет отображений конечных множеств. Exercise 2\n",
    "#В начале учебного года на кафедре происходит распределение нагрузки. Имеется 5 преподавателей и 7 различных групп \n",
    "#студентов, которым эти преподаватели должны прочитать один и тот же курс. Любой преподаватель может вести занятия\n",
    "#в любой группе. Подсчитать количество способов распределения нагрузки между преподавателями при условии, что каждый \n",
    "#преподаватель должен вести занятия хотя бы в одной группе.\n",
    "\n",
    "#Подсчет кол-ва элементов сюръективного отображения\n",
    "from scipy.special import binom\n",
    "\n",
    "def surieciv_count(n,k):\n",
    "    sum_surieciv_count = 0\n",
    "    for i in range(k+1):\n",
    "        count_iter = (-1)**(k-i)*binom(k,i)*i**n\n",
    "        print(count_iter)\n",
    "        sum_surieciv_count +=count_iter\n",
    "    return sum_surieciv_count\n",
    "\n",
    "print('кол-во способов распределения :',int(surieciv_count(7,5)))"
   ]
  },
  {
   "cell_type": "code",
   "execution_count": 10,
   "metadata": {},
   "outputs": [
    {
     "data": {
      "text/plain": [
       "0.268"
      ]
     },
     "execution_count": 10,
     "metadata": {},
     "output_type": "execute_result"
    }
   ],
   "source": [
    "round(-(3)**0.5+4**0.5,3)"
   ]
  },
  {
   "cell_type": "markdown",
   "metadata": {},
   "source": [
    "Задачи к курсу на Stepic \"Линейная алгебра\" https://stepik.org/course/2461\n",
    "    "
   ]
  },
  {
   "cell_type": "code",
   "execution_count": 4,
   "metadata": {},
   "outputs": [
    {
     "name": "stdout",
     "output_type": "stream",
     "text": [
      "[[1, 2, 3, 4], [2, 4, 6, 8], [3, 6, 9, 12], [4, 8, 12, 16]]\n",
      "0.0\n"
     ]
    }
   ],
   "source": [
    "# 4.2 Свойства определителя (часть 1). Exercise 2\n",
    "#Определим матрицу a a размера n\\times n n×n, где n\\ge2 n≥2, следующим образом: для любых i,j\\in\\{1,\\ldots,n\\} i,j∈{1,…,n} положим a_{i,j}=i\\,j a \n",
    "#i,j =ij.\n",
    "\n",
    "#Найдите определитель матрицы a a.\n",
    "import numpy, numpy.linalg\n",
    "\n",
    "n = 4\n",
    "\n",
    "a = [[i*j for i in range(1,n+1)] for j in range(1,n+1)]\n",
    "print(a)\n",
    "m_a = numpy.array(a)\n",
    "print(numpy.linalg.det(m_a))\n"
   ]
  },
  {
   "cell_type": "code",
   "execution_count": 5,
   "metadata": {},
   "outputs": [
    {
     "name": "stdout",
     "output_type": "stream",
     "text": [
      "1.0 1.0 1.0 1.0\n"
     ]
    }
   ],
   "source": [
    "#4.2 Свойства определителя (часть 1). Exercise 5\n",
    "#Определим матрицу a a размера n\\times n n×n следующим образом: для любых i,j\\in\\{1,\\ldots,n\\} i,j∈{1,…,n} положим a_{i,j}=\\min(i,j) a \n",
    "#i,j  =min(i,j).\n",
    "#Найдите определитель матрицы a a.\n",
    "import numpy as np\n",
    "\n",
    "def det_min_ij(n):\n",
    "    a = [[min(i,j) for i in range(1,n+1)] for j in range(1,n+1)]\n",
    "    m = np.array(a)\n",
    "    return np.linalg.det(m)\n",
    "\n",
    "print(*[det_min_ij(n) for n in range(2,6)])\n",
    "0"
   ]
  },
  {
   "cell_type": "code",
   "execution_count": 6,
   "metadata": {},
   "outputs": [
    {
     "name": "stdout",
     "output_type": "stream",
     "text": [
      "Определитель при V_3=(1, -1, -5) равен 0.0\n",
      "Определитель при V_3=(2, 3, -5) равен 10.0\n",
      "Определитель при V_3=(0, 1, 2) равен -0.0\n"
     ]
    }
   ],
   "source": [
    "#Укажите все такие варианты столбца v_3 , что столбцы v_1, v_2, v_3  линейно независимы.\n",
    "import numpy as np\n",
    "\n",
    "v1 = (2,4,2)\n",
    "v2 = (3,5,1)\n",
    "\n",
    "v3_variant = ((1, -1, -5), (2, 3, -5), (0, 1, 2))\n",
    "\n",
    "for v3 in v3_variant:\n",
    "    a = np.array((v1,v2,v3))\n",
    "    print('Определитель при V_3=' + str(v3) + ' равен ' + str(round(np.linalg.det(a),7)))"
   ]
  },
  {
   "cell_type": "code",
   "execution_count": null,
   "metadata": {},
   "outputs": [],
   "source": []
  }
 ],
 "metadata": {
  "kernelspec": {
   "display_name": "Python 3",
   "language": "python",
   "name": "python3"
  },
  "language_info": {
   "codemirror_mode": {
    "name": "ipython",
    "version": 3
   },
   "file_extension": ".py",
   "mimetype": "text/x-python",
   "name": "python",
   "nbconvert_exporter": "python",
   "pygments_lexer": "ipython3",
   "version": "3.6.4"
  }
 },
 "nbformat": 4,
 "nbformat_minor": 2
}
