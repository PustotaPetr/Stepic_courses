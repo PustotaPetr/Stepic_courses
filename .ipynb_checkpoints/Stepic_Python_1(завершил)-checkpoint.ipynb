{
 "cells": [
  {
   "cell_type": "markdown",
   "metadata": {},
   "source": [
    "курс на Stepic \"Программирование на Python\"  https://stepik.org/course/67"
   ]
  },
  {
   "cell_type": "code",
   "execution_count": null,
   "metadata": {},
   "outputs": [],
   "source": [
    "4*3"
   ]
  },
  {
   "cell_type": "code",
   "execution_count": null,
   "metadata": {},
   "outputs": [],
   "source": [
    "2014.0**14"
   ]
  },
  {
   "cell_type": "code",
   "execution_count": null,
   "metadata": {},
   "outputs": [],
   "source": [
    "7/3"
   ]
  },
  {
   "cell_type": "code",
   "execution_count": null,
   "metadata": {},
   "outputs": [],
   "source": [
    "-7//3"
   ]
  },
  {
   "cell_type": "code",
   "execution_count": null,
   "metadata": {},
   "outputs": [],
   "source": [
    "int(2.99)"
   ]
  },
  {
   "cell_type": "code",
   "execution_count": 1,
   "metadata": {},
   "outputs": [
    {
     "data": {
      "text/plain": [
       "-1"
      ]
     },
     "execution_count": 1,
     "metadata": {},
     "output_type": "execute_result"
    }
   ],
   "source": [
    "int(-1.6)"
   ]
  },
  {
   "cell_type": "code",
   "execution_count": null,
   "metadata": {},
   "outputs": [],
   "source": [
    "9**19-int(float(9**19))"
   ]
  },
  {
   "cell_type": "code",
   "execution_count": 1,
   "metadata": {},
   "outputs": [
    {
     "name": "stdin",
     "output_type": "stream",
     "text": [
      "введи число 1 4\n",
      "введи число 2 5\n"
     ]
    },
    {
     "name": "stdout",
     "output_type": "stream",
     "text": [
      "Произведение 20\n"
     ]
    }
   ],
   "source": [
    "a=int(input('введи число 1'))\n",
    "b=int(input('введи число 2'))\n",
    "c=a*b\n",
    "print('Произведение',c)"
   ]
  },
  {
   "cell_type": "code",
   "execution_count": 4,
   "metadata": {},
   "outputs": [
    {
     "name": "stdin",
     "output_type": "stream",
     "text": [
      " 512\n"
     ]
    },
    {
     "name": "stdout",
     "output_type": "stream",
     "text": [
      "8\n",
      "32\n"
     ]
    }
   ],
   "source": [
    "X=int(input()) \n",
    "H=X//60 \n",
    "M=X%60 \n",
    "print(H) \n",
    "print(M)"
   ]
  },
  {
   "cell_type": "code",
   "execution_count": 5,
   "metadata": {},
   "outputs": [
    {
     "name": "stdin",
     "output_type": "stream",
     "text": [
      " 480\n",
      " 1\n",
      " 2\n"
     ]
    },
    {
     "name": "stdout",
     "output_type": "stream",
     "text": [
      "9\n",
      "2\n"
     ]
    }
   ],
   "source": [
    "X=int(input())\n",
    "H=int(input())\n",
    "M=int(input())\n",
    "WakeUpM=H*60+X+M\n",
    "print(WakeUpM//60)\n",
    "print(WakeUpM%60)"
   ]
  },
  {
   "cell_type": "code",
   "execution_count": 6,
   "metadata": {},
   "outputs": [
    {
     "data": {
      "text/plain": [
       "True"
      ]
     },
     "execution_count": 6,
     "metadata": {},
     "output_type": "execute_result"
    }
   ],
   "source": [
    "x = 5\n",
    "y = 10\n",
    "y > x * x or y >= 2 * x and x < y"
   ]
  },
  {
   "cell_type": "code",
   "execution_count": 7,
   "metadata": {},
   "outputs": [
    {
     "data": {
      "text/plain": [
       "False"
      ]
     },
     "execution_count": 7,
     "metadata": {},
     "output_type": "execute_result"
    }
   ],
   "source": [
    "a = True\n",
    "b = False\n",
    "a and b or not a and not b"
   ]
  },
  {
   "cell_type": "code",
   "execution_count": 3,
   "metadata": {},
   "outputs": [
    {
     "name": "stdin",
     "output_type": "stream",
     "text": [
      " 6\n",
      " 6\n",
      " 9\n"
     ]
    },
    {
     "name": "stdout",
     "output_type": "stream",
     "text": [
      "Пересып\n"
     ]
    }
   ],
   "source": [
    "A=int(input())\n",
    "B=int(input())\n",
    "H=int(input())\n",
    "if H<A:\n",
    "    print(\"Недосып\")\n",
    "elif H>B:\n",
    "    print(\"Пересып\")\n",
    "else:\n",
    "    print(\"Это нормально\")"
   ]
  },
  {
   "cell_type": "code",
   "execution_count": 8,
   "metadata": {},
   "outputs": [
    {
     "name": "stdin",
     "output_type": "stream",
     "text": [
      " 2400\n"
     ]
    },
    {
     "name": "stdout",
     "output_type": "stream",
     "text": [
      "Високосный\n"
     ]
    }
   ],
   "source": [
    "Y=int(input())\n",
    "if Y%400==0:\n",
    "    print(\"Високосный\")\n",
    "else:\n",
    "    if Y%100==0:\n",
    "        print(\"Обычный\")\n",
    "    else:\n",
    "        if Y%4==0:\n",
    "            print(\"Високосный\")\n",
    "        else:\n",
    "            print(\"Обычный\")"
   ]
  },
  {
   "cell_type": "code",
   "execution_count": 9,
   "metadata": {},
   "outputs": [
    {
     "name": "stdin",
     "output_type": "stream",
     "text": [
      " 3\n",
      " 4\n",
      " 5\n"
     ]
    },
    {
     "name": "stdout",
     "output_type": "stream",
     "text": [
      "6.0\n"
     ]
    }
   ],
   "source": [
    "A=int(input())\n",
    "B=int(input())\n",
    "C=int(input())\n",
    "P=(A+B+C)/2\n",
    "S=(P*(P-A)*(P-B)*(P-C))**0.5\n",
    "print(S)"
   ]
  },
  {
   "cell_type": "code",
   "execution_count": 3,
   "metadata": {},
   "outputs": [
    {
     "name": "stdout",
     "output_type": "stream",
     "text": [
      "090234\n",
      "Счастливый\n",
      "090\n",
      "234\n"
     ]
    }
   ],
   "source": [
    "s=input()\n",
    "if int(s[0])+int(s[1])+int(s[2])==int(s[3])+int(s[4])+int(s[5]):\n",
    "    print(\"Счастливый\")\n",
    "else:\n",
    "    print(\"Обычный\")\n"
   ]
  },
  {
   "cell_type": "code",
   "execution_count": 3,
   "metadata": {},
   "outputs": [
    {
     "name": "stdin",
     "output_type": "stream",
     "text": [
      " прямоугольник\n",
      " 2\n",
      " 3\n"
     ]
    },
    {
     "name": "stdout",
     "output_type": "stream",
     "text": [
      "6\n"
     ]
    }
   ],
   "source": [
    "fig=input()\n",
    "if fig==\"треугольник\":\n",
    "    A=int(input())\n",
    "    B=int(input())\n",
    "    C=int(input())\n",
    "    P=(A+B+C)/2\n",
    "    S=(P*(P-A)*(P-B)*(P-C))**0.5\n",
    "    print(S)\n",
    "elif fig==\"прямоугольник\":\n",
    "    A=int(input())\n",
    "    B=int(input())\n",
    "    S=A*B\n",
    "    print(S)\n",
    "elif fig==\"круг\":\n",
    "    r=int(input())\n",
    "    S=3.14*r**2\n",
    "    print(S)"
   ]
  },
  {
   "cell_type": "code",
   "execution_count": 10,
   "metadata": {},
   "outputs": [
    {
     "name": "stdin",
     "output_type": "stream",
     "text": [
      " 1\n",
      " 2\n",
      " 3\n"
     ]
    },
    {
     "name": "stdout",
     "output_type": "stream",
     "text": [
      "3\n",
      "1\n",
      "2\n"
     ]
    }
   ],
   "source": [
    "i1=int(input())\n",
    "i2=int(input())\n",
    "i3=int(input())\n",
    "if i1>i2 and i1>i3:\n",
    "    max=i1\n",
    "    maxp=1\n",
    "else:\n",
    "    if i2>i3:\n",
    "        max=i2\n",
    "        maxp=2\n",
    "    else:\n",
    "        max=i3\n",
    "        maxp=3\n",
    "if i1<i2 and i1<i3:\n",
    "    min=i1\n",
    "    minp=1\n",
    "else:\n",
    "    if i2<i3:\n",
    "        min=i2\n",
    "        minp=2\n",
    "    else:\n",
    "        min=i3  \n",
    "        minp=3\n",
    "if maxp+minp==3:\n",
    "    med=i3\n",
    "elif maxp+minp==4:\n",
    "    med=i2\n",
    "else:\n",
    "    med=i1\n",
    "        \n",
    "print(max)\n",
    "print(min)\n",
    "print(med)"
   ]
  },
  {
   "cell_type": "code",
   "execution_count": 2,
   "metadata": {},
   "outputs": [
    {
     "name": "stdin",
     "output_type": "stream",
     "text": [
      " 3\n",
      " -5\n",
      " 2\n",
      " 4\n",
      " 0\n"
     ]
    },
    {
     "name": "stdout",
     "output_type": "stream",
     "text": [
      "4\n"
     ]
    }
   ],
   "source": [
    "s=0\n",
    "i=int(input())\n",
    "while i!=0:\n",
    "    s+=i\n",
    "    i=int(input())\n",
    "print(s)"
   ]
  },
  {
   "cell_type": "code",
   "execution_count": 5,
   "metadata": {},
   "outputs": [
    {
     "name": "stdin",
     "output_type": "stream",
     "text": [
      " 3\n",
      " 4\n"
     ]
    },
    {
     "name": "stdout",
     "output_type": "stream",
     "text": [
      "12\n"
     ]
    }
   ],
   "source": [
    "a=int(input())\n",
    "b=int(input())\n",
    "i=1\n",
    "while i%a!=0 or i%b!=0:\n",
    "    i+=1\n",
    "print(i)"
   ]
  },
  {
   "cell_type": "code",
   "execution_count": 7,
   "metadata": {},
   "outputs": [
    {
     "name": "stdin",
     "output_type": "stream",
     "text": [
      " 1\n",
      " 12\n"
     ]
    },
    {
     "name": "stdout",
     "output_type": "stream",
     "text": [
      "12\n"
     ]
    },
    {
     "name": "stdin",
     "output_type": "stream",
     "text": [
      " 13\n"
     ]
    },
    {
     "name": "stdout",
     "output_type": "stream",
     "text": [
      "13\n"
     ]
    },
    {
     "name": "stdin",
     "output_type": "stream",
     "text": [
      " 101\n"
     ]
    }
   ],
   "source": [
    "i=0\n",
    "while i==0:\n",
    "    s=int(input())\n",
    "    if s<10:\n",
    "        continue\n",
    "    elif s>100:\n",
    "        break\n",
    "    else:\n",
    "        print(s)"
   ]
  },
  {
   "cell_type": "code",
   "execution_count": 14,
   "metadata": {},
   "outputs": [
    {
     "name": "stdin",
     "output_type": "stream",
     "text": [
      " 7\n",
      " 10\n",
      " 5\n",
      " 6\n"
     ]
    },
    {
     "name": "stdout",
     "output_type": "stream",
     "text": [
      "\t5\t6\t\n",
      "7\t35\t42\t\n",
      "8\t40\t48\t\n",
      "9\t45\t54\t\n",
      "10\t50\t60\t\n"
     ]
    }
   ],
   "source": [
    "a=int(input())\n",
    "b=int(input())\n",
    "c=int(input())\n",
    "d=int(input())\n",
    "\n",
    "print(\"\",end=\"\\t\")\n",
    "for i in range(c,d+1):\n",
    "    print(i, end=\"\\t\")\n",
    "print(\"\")\n",
    "\n",
    "for i in range(a,b+1):\n",
    "    print(i, end=\"\\t\")\n",
    "    for j in range(c,d+1):\n",
    "        print(i*j, end=\"\\t\")\n",
    "    print(\"\")"
   ]
  },
  {
   "cell_type": "code",
   "execution_count": 16,
   "metadata": {},
   "outputs": [
    {
     "name": "stdin",
     "output_type": "stream",
     "text": [
      " -5\n",
      " 12\n"
     ]
    },
    {
     "name": "stdout",
     "output_type": "stream",
     "text": [
      "4.5\n"
     ]
    }
   ],
   "source": [
    "a=int(input())\n",
    "b=int(input())\n",
    "s=0\n",
    "c=0\n",
    "for i in range(a, b+1):\n",
    "    if i%3==0:\n",
    "        s+=i\n",
    "        c+=1\n",
    "print(s/c)"
   ]
  },
  {
   "cell_type": "code",
   "execution_count": 3,
   "metadata": {},
   "outputs": [
    {
     "name": "stdout",
     "output_type": "stream",
     "text": [
      "def abcdef defghijk kjihgfedcba ijk abcde kigec\n"
     ]
    }
   ],
   "source": [
    "s = 'abcdefghijk'\n",
    "print(s[3:6], s[:6], s[3:], s[::-1], s[-3:], s[:-6], s[-1:-10:-2])"
   ]
  },
  {
   "cell_type": "code",
   "execution_count": 3,
   "metadata": {},
   "outputs": [
    {
     "name": "stdin",
     "output_type": "stream",
     "text": [
      " acggtgttat\n"
     ]
    },
    {
     "name": "stdout",
     "output_type": "stream",
     "text": [
      "0.4\n"
     ]
    }
   ],
   "source": [
    "s=input().upper()\n",
    "a=0\n",
    "for i in s:\n",
    "    if i==\"G\" or i==\"C\":\n",
    "        a+=1\n",
    "print(a/len(s)*100)"
   ]
  },
  {
   "cell_type": "code",
   "execution_count": null,
   "metadata": {},
   "outputs": [],
   "source": [
    "s=input()\n",
    "i=0\n",
    "c=1\n",
    "while i<len(s)-1:\n",
    "    if s[i]==s[i+1]:\n",
    "        c+=1\n",
    "    else:        \n",
    "        print(s[i]+str(c),end=\"\")\n",
    "        c=1\n",
    "    i+=1\n",
    "print(s[-1]+str(c),end=\"\")    \n"
   ]
  },
  {
   "cell_type": "code",
   "execution_count": 2,
   "metadata": {},
   "outputs": [
    {
     "name": "stdin",
     "output_type": "stream",
     "text": [
      " 4 -1 9 3\n"
     ]
    },
    {
     "name": "stdout",
     "output_type": "stream",
     "text": [
      "15\n"
     ]
    }
   ],
   "source": [
    "s=0\n",
    "a=[int(i) for i in input().split()]\n",
    "for i in a:\n",
    "    s+=i\n",
    "print(s)"
   ]
  },
  {
   "cell_type": "code",
   "execution_count": 1,
   "metadata": {},
   "outputs": [
    {
     "name": "stdin",
     "output_type": "stream",
     "text": [
      " 0\n"
     ]
    },
    {
     "name": "stdout",
     "output_type": "stream",
     "text": [
      "True\n"
     ]
    }
   ],
   "source": [
    "i=int(input())\n",
    "if -15<i<=12 or 14<i<17 or 19<=i:\n",
    "    print(True)\n",
    "else:\n",
    "    print(False)"
   ]
  },
  {
   "cell_type": "code",
   "execution_count": 2,
   "metadata": {},
   "outputs": [
    {
     "name": "stdin",
     "output_type": "stream",
     "text": [
      " 4\n",
      " 5\n",
      " +\n"
     ]
    },
    {
     "name": "stdout",
     "output_type": "stream",
     "text": [
      "9.0\n"
     ]
    }
   ],
   "source": [
    "a=float(input())\n",
    "b=float(input())\n",
    "do=input()\n",
    "if do==\"+\":\n",
    "    r=a+b\n",
    "elif do==\"-\":\n",
    "    r=a-b\n",
    "elif do==\"*\":\n",
    "    r=a*b\n",
    "elif do==\"pow\":\n",
    "    r=a**b\n",
    "elif do==\"/\" or do==\"mod\" or do==\"div\":\n",
    "    if b==0:\n",
    "        r=\"Деление на 0!\"\n",
    "    else:\n",
    "        if do==\"/\":\n",
    "            r=a/b\n",
    "        elif do==\"mod\":\n",
    "            r=a%b\n",
    "        elif do==\"div\":\n",
    "            r=a//b\n",
    "print(r)"
   ]
  },
  {
   "cell_type": "code",
   "execution_count": 7,
   "metadata": {},
   "outputs": [
    {
     "name": "stdout",
     "output_type": "stream",
     "text": [
      "-5.25\n"
     ]
    }
   ],
   "source": [
    "def f(x):\n",
    "    if x<=-2:\n",
    "        y=1-(x+2)**2\n",
    "        return y\n",
    "    elif -2<x<=2:\n",
    "        return -x/2\n",
    "    else:\n",
    "        return (x-2)**2+1\n",
    "\n",
    "z=f(-4.5)\n",
    "print(z)"
   ]
  },
  {
   "cell_type": "code",
   "execution_count": 9,
   "metadata": {},
   "outputs": [
    {
     "name": "stdout",
     "output_type": "stream",
     "text": [
      "None\n",
      "[1, 2, 3]\n"
     ]
    }
   ],
   "source": [
    "def modify_list(l):\n",
    "    y=0\n",
    "    while y<len(l):\n",
    "        if l[y]%2==0:\n",
    "            l[y]=int(l[y]/2)\n",
    "            y+=1\n",
    "        else:\n",
    "            l.pop(y)\n",
    "        \n",
    "        \n",
    "    \n",
    "    \n",
    "\n",
    "lst = [1, 2, 3, 4, 5, 6]\n",
    "print(modify_list(lst))  # None\n",
    "print(lst)   "
   ]
  },
  {
   "cell_type": "code",
   "execution_count": 14,
   "metadata": {},
   "outputs": [
    {
     "name": "stdout",
     "output_type": "stream",
     "text": [
      "None\n",
      "{2: [-1]}\n",
      "{2: [-1, -2]}\n",
      "{2: [-1, -2, -3]}\n"
     ]
    }
   ],
   "source": [
    "def update_dictionary(d, key, value):\n",
    "    if d.get(key)==None:\n",
    "        if d.get(2*key)==None:\n",
    "            d[2*key]=[value]\n",
    "        else:\n",
    "            d[2*key].append(value)\n",
    "    else:\n",
    "        d[key].append(value)\n",
    "    \n",
    "d = {}\n",
    "print(update_dictionary(d, 1, -1))  # None\n",
    "print(d)                            # {2: [-1]}\n",
    "update_dictionary(d, 2, -2)\n",
    "print(d)                            # {2: [-1, -2]}\n",
    "update_dictionary(d, 1, -3)\n",
    "print(d)                            # {2: [-1, -2, -3]}"
   ]
  },
  {
   "cell_type": "code",
   "execution_count": 17,
   "metadata": {},
   "outputs": [
    {
     "name": "stdin",
     "output_type": "stream",
     "text": [
      " a aa abC aa ac abc bcd a\n"
     ]
    },
    {
     "name": "stdout",
     "output_type": "stream",
     "text": [
      "a 2\n",
      "aa 2\n",
      "abc 2\n",
      "ac 1\n",
      "bcd 1\n"
     ]
    }
   ],
   "source": [
    "r={}\n",
    "for i in input().split():\n",
    "    if r.get(i.lower())!=None:\n",
    "        r[i.lower()]+=1\n",
    "    else:\n",
    "        r[i.lower()]=1\n",
    "for k,v in r.items():\n",
    "    print(k,str(v))\n"
   ]
  },
  {
   "cell_type": "code",
   "execution_count": 14,
   "metadata": {},
   "outputs": [
    {
     "name": "stdin",
     "output_type": "stream",
     "text": [
      " 3\n",
      " a\n",
      " bb\n",
      " cCc\n",
      " 2\n",
      " a bb aab aba ccc a bb aab aba ccc\n",
      " c bb aaa c bb aaa\n"
     ]
    },
    {
     "name": "stdout",
     "output_type": "stream",
     "text": [
      "aba\n",
      "aaa\n",
      "c\n",
      "aab\n"
     ]
    }
   ],
   "source": [
    "dic=[]\n",
    "un_word=set()\n",
    "for i in range(int(input())):\n",
    "    dic+=[input().lower()]\n",
    "for i in range(int(input())):\n",
    "    for j in input().lower().split():\n",
    "        if j not in dic:\n",
    "            un_word.add(j)\n",
    "\n",
    "\n",
    "for i in un_word:\n",
    "    print(i)\n",
    "\n",
    "\n",
    "\n"
   ]
  },
  {
   "cell_type": "code",
   "execution_count": 4,
   "metadata": {},
   "outputs": [
    {
     "name": "stdin",
     "output_type": "stream",
     "text": [
      " abcd\n",
      " *d%#\n",
      " abacabadaba\n"
     ]
    },
    {
     "name": "stdout",
     "output_type": "stream",
     "text": [
      "*d*%*d*#*d*\n"
     ]
    },
    {
     "name": "stdin",
     "output_type": "stream",
     "text": [
      " #*%*d*%\n"
     ]
    },
    {
     "name": "stdout",
     "output_type": "stream",
     "text": [
      "dacabac\n",
      "\n"
     ]
    }
   ],
   "source": [
    "begin_dic=[i  for i in input()]\n",
    "end_dic=[i  for i in input()]\n",
    "r=\"\"\n",
    "for i in input():\n",
    "    r+=end_dic[begin_dic.index(i)]\n",
    "r2=\"\"\n",
    "for i in input():\n",
    "    r2+=begin_dic[end_dic.index(i)]\n",
    "print(r)\n",
    "print(r2)"
   ]
  },
  {
   "cell_type": "code",
   "execution_count": 1,
   "metadata": {},
   "outputs": [
    {
     "name": "stdout",
     "output_type": "stream",
     "text": [
      "1346269\n"
     ]
    }
   ],
   "source": [
    "fib = lambda x : 1 if x <= 2 else fib(x - 1) + fib(x - 2)\n",
    "print(fib(31))"
   ]
  },
  {
   "cell_type": "code",
   "execution_count": 8,
   "metadata": {},
   "outputs": [
    {
     "name": "stdin",
     "output_type": "stream",
     "text": [
      " 1000\n"
     ]
    },
    {
     "name": "stdout",
     "output_type": "stream",
     "text": [
      "1000 программистов\n"
     ]
    }
   ],
   "source": [
    "i=int(input())\n",
    "if len(str(i))==1:\n",
    "    if i==0 or i>4:\n",
    "        print(i,\"программистов\")\n",
    "    elif i==1:\n",
    "        print(i,\"программист\")\n",
    "    elif 2<=i<=4:\n",
    "        print(i,\"программиста\")\n",
    "elif len(str(i))==3 or len(str(i))==2:\n",
    "    i2=i%100\n",
    "    if 6<i2<=20:\n",
    "        print(i,\"программистов\")\n",
    "    else:\n",
    "        i3=i2%10\n",
    "        if i3==0 or i3>4:\n",
    "            print(i,\"программистов\")\n",
    "        elif i3==1:\n",
    "            print(i,\"программист\")\n",
    "        elif 2<=i3<=4:\n",
    "            print(i,\"программиста\")       \n",
    "        \n",
    "else:\n",
    "     print(i,\"программистов\")"
   ]
  },
  {
   "cell_type": "code",
   "execution_count": 40,
   "metadata": {
    "ExecuteTime": {
     "end_time": "2019-10-09T20:02:53.383545Z",
     "start_time": "2019-10-09T20:02:51.135493Z"
    }
   },
   "outputs": [
    {
     "name": "stdout",
     "output_type": "stream",
     "text": [
      "1\n",
      "3 21 22\n",
      "10 6 19\n",
      "20 16 -1\n",
      "[[9, 5, 3], [0, 7, -1], [-5, 2, 9]]\n",
      "[[3, 21, 22], [10, 6, 19], [20, 16, -1]]\n"
     ]
    }
   ],
   "source": [
    "# 2.6 Задачи по материалам недели  Exercise 5\n",
    "import copy\n",
    "s = input()\n",
    "l=[]\n",
    "res_l=[]\n",
    "while s.lower()!=\"end\":\n",
    "    l.append(list(map(int,s.split())))\n",
    "    s=input()\n",
    "\n",
    "#l.append(list(map(int,'9 5 3'.split())))\n",
    "#l.append(list(map(int,'0 7 -1'.split())))\n",
    "#l.append(list(map(int,'-5 2 9'.split())))\n",
    "\n",
    "res_l=copy.deepcopy(l)\n",
    "for num_i,i in enumerate(l):\n",
    "    for num_j,j in enumerate(l[num_i]):\n",
    "        \n",
    "        res_l[num_i][num_j]=l[num_i-1][num_j]+l[num_i][num_j-1]+l[num_i][num_j+1 if num_j+1<len(i) else 0]+\\\n",
    "                l[num_i+1 if num_i+1<len(l) else 0][num_j]\n",
    "\n",
    "[print(*i) for i in res_l]\n"
   ]
  },
  {
   "cell_type": "code",
   "execution_count": 7,
   "metadata": {
    "ExecuteTime": {
     "end_time": "2019-10-09T17:41:27.514251Z",
     "start_time": "2019-10-09T17:41:24.383288Z"
    }
   },
   "outputs": [
    {
     "name": "stdout",
     "output_type": "stream",
     "text": [
      "6\n",
      "1 2 3 4 5 6 \n",
      "20 21 22 23 24 7 \n",
      "19 32 33 34 25 8 \n",
      "18 31 36 35 26 9 \n",
      "17 30 29 28 27 10 \n",
      "16 15 14 13 12 11 \n"
     ]
    }
   ],
   "source": [
    "# 2.6 Задачи по материалам недели  Exercise 5\n",
    "\n",
    "n=int(input())\n",
    "R=[[0]*n for i in range(n)]\n",
    "a=[0,n-1]\n",
    "b=[0,n-1]\n",
    "i=0\n",
    "c=1\n",
    "\n",
    "\n",
    "end_work=False\n",
    "while not end_work:\n",
    "    if i%4==0:\n",
    "        for j in range(a[0],a[1]+1):\n",
    "            R[b[0]][j]=c\n",
    "            c+=1\n",
    "        i+=1\n",
    "        b[0]+=1\n",
    "    elif i%4==1:\n",
    "        for j in range(b[0],b[1]+1):\n",
    "            R[j][a[1]]=c\n",
    "            c+=1\n",
    "        i+=1\n",
    "        a[1]-=1\n",
    "    elif i%4==2:\n",
    "        for j in range(a[1],a[0]-1,-1):\n",
    "            R[b[1]][j]=c\n",
    "            c+=1\n",
    "        i+=1\n",
    "        b[1]-=1\n",
    "    elif i%4==3:\n",
    "        for j in range(b[1],b[0]-1,-1):\n",
    "            R[j][a[0]]=c\n",
    "            c+=1\n",
    "        i+=1\n",
    "        a[0]+=1\n",
    "    if a[0]>a[1] or b[0]>b[1]:\n",
    "        end_work=True\n",
    "\n",
    "for i in range(n):\n",
    "    for j in range(n):\n",
    "        print(R[i][j], end=\" \")\n",
    "    print(\"\")\n",
    "\n",
    "\n",
    "        \n",
    "        \n",
    "        \n",
    "    "
   ]
  },
  {
   "cell_type": "code",
   "execution_count": 12,
   "metadata": {},
   "outputs": [
    {
     "name": "stdout",
     "output_type": "stream",
     "text": [
      "10\n"
     ]
    }
   ],
   "source": [
    "def closest_mod_5(x):\n",
    "    return x+5-(x%5)\n",
    "\n",
    "print(closest_mod_5(5))"
   ]
  },
  {
   "cell_type": "code",
   "execution_count": 25,
   "metadata": {},
   "outputs": [
    {
     "name": "stdout",
     "output_type": "stream",
     "text": [
      "d 8\n"
     ]
    }
   ],
   "source": [
    "# 3.4 Файловый ввод/вывод Exercise 2\n",
    "import collections\n",
    "\n",
    "c = collections.Counter()\n",
    "with open('d:\\\\1\\\\dataset_3363_3.txt', 'r') as f:\n",
    "    for l in f:\n",
    "        for s in l.lower().strip().split(' '):\n",
    "            c[s] += 1\n",
    "c_l=[]\n",
    "m=c.most_common()[1][1]\n",
    "for x in c.most_common():\n",
    "    if x[1] == m: c_l += x[0]\n",
    "    else: break\n",
    "\n",
    "c_l.sort()    \n",
    "print(c_l[0], c[c_l[0]])\n",
    "\n",
    "        \n",
    "        "
   ]
  },
  {
   "cell_type": "code",
   "execution_count": 46,
   "metadata": {},
   "outputs": [
    {
     "name": "stdout",
     "output_type": "stream",
     "text": [
      "72.0\n",
      "53.0\n",
      "92.0\n",
      "48.666666666666664\n",
      "69.33333333333333\n",
      "63.666666666666664\n",
      "80.33333333333333\n",
      "47.333333333333336\n",
      "64.0\n",
      "49.0\n",
      "64.66666666666667\n",
      "70.33333333333333\n",
      "50.0\n",
      "63.0\n",
      "60.333333333333336\n",
      "69.66666666666667\n",
      "65.0\n",
      "72.33333333333333\n",
      "53.666666666666664\n",
      "57.333333333333336\n",
      "66.33333333333333\n",
      "57.333333333333336\n",
      "71.66666666666667\n",
      "73.0\n",
      "81.66666666666667\n",
      "53.333333333333336\n",
      "51.0\n",
      "65.66666666666667 61.74074074074074 63.7037037037037\n"
     ]
    }
   ],
   "source": [
    "# 3.4 Файловый ввод/вывод Exercise 3\n",
    "\n",
    "stud = []\n",
    "with open('d:\\\\1\\\\3_4_3.txt', 'r') as f:\n",
    "    for line in f:\n",
    "        stud.append(tuple(line.strip().split(';')))\n",
    "        \n",
    "#print(stud)\n",
    "l = [print((int(a) + int(b) + int(c)) / 3) for fio, a, b, c in stud]\n",
    "print(sum([int(a) for fio, a, b, c in stud]) / len(stud), sum([int(b) for fio, a, b, c in stud]) / len(stud), sum([int(c) for fio, a, b, c in stud]) / len(stud))\n",
    "\n",
    "        "
   ]
  },
  {
   "cell_type": "code",
   "execution_count": 55,
   "metadata": {},
   "outputs": [
    {
     "name": "stdout",
     "output_type": "stream",
     "text": [
      "https://stepic.org/media/attachments/course67/3.6.2/989.txt\n",
      "\n",
      "67\n"
     ]
    }
   ],
   "source": [
    "# 3.6 Установка дополнительных модулей. Exercise 1\n",
    "\n",
    "import requests as r\n",
    "\n",
    "with open('d:\\\\1\\\\dataset_3378_2.txt', 'r') as f:\n",
    "    url=f.readline()\n",
    "    \n",
    "print(url)\n",
    "req = r.get(url.strip())\n",
    "print(len(req.text.splitlines()))\n",
    "#print(req.text)"
   ]
  },
  {
   "cell_type": "code",
   "execution_count": null,
   "metadata": {},
   "outputs": [],
   "source": [
    "# 3.6 Установка дополнительных модулей. Exercise 2\n",
    "\n",
    "import requests as r"
   ]
  },
  {
   "cell_type": "code",
   "execution_count": 2,
   "metadata": {
    "ExecuteTime": {
     "end_time": "2019-10-11T07:24:01.255212Z",
     "start_time": "2019-10-11T07:24:01.245215Z"
    }
   },
   "outputs": [
    {
     "name": "stdout",
     "output_type": "stream",
     "text": [
      "Зенит:2 2 0 0 6\n",
      "Спартак:2 0 1 1 1\n",
      "ЦСКА:2 0 1 1 1\n"
     ]
    }
   ],
   "source": [
    "# 3.7 Задачи по материалам недели Exercise 1\n",
    "table_tournament={}\n",
    "\n",
    "def add_match(game):\n",
    "    #print(game)\n",
    "    team_1,goal_1,team_2,goal_2=game.split(';')\n",
    "    team_1_string=table_tournament.get(team_1,[0]*5)\n",
    "    team_2_string=table_tournament.get(team_2,[0]*5)\n",
    "    team_1_string[0] += 1\n",
    "    team_2_string[0] += 1\n",
    "    if goal_2==goal_1:\n",
    "        team_1_string[2] +=1\n",
    "        team_2_string[2] +=1\n",
    "        team_1_string[4] +=1\n",
    "        team_2_string[4] +=1\n",
    "    elif goal_1 > goal_2:\n",
    "        team_1_string[1] +=1\n",
    "        team_2_string[3] +=1\n",
    "        team_1_string[4] +=3\n",
    "    else:\n",
    "        team_1_string[3] +=1\n",
    "        team_2_string[1] +=1\n",
    "        team_2_string[4] +=3       \n",
    "        \n",
    "    table_tournament[team_1] = team_1_string\n",
    "    table_tournament[team_2] = team_2_string\n",
    "\n",
    "#for i in range(int(input())):\n",
    "#    add_match(input())    \n",
    "    \n",
    "add_match('Зенит;3;Спартак;1')\n",
    "add_match('Спартак;1;ЦСКА;1')\n",
    "add_match('ЦСКА;0;Зенит;2')\n",
    "\n",
    "for k, i in table_tournament.items():\n",
    "    print(k,':',sep='',end='')\n",
    "    print(*i)"
   ]
  },
  {
   "cell_type": "code",
   "execution_count": 9,
   "metadata": {
    "ExecuteTime": {
     "end_time": "2019-10-11T07:48:16.894969Z",
     "start_time": "2019-10-11T07:48:16.887987Z"
    }
   },
   "outputs": [
    {
     "name": "stdout",
     "output_type": "stream",
     "text": [
      "северEE 15\n",
      "западEE 25\n",
      "югEE 35\n",
      "востокEE 45\n",
      "20 -20\n"
     ]
    }
   ],
   "source": [
    "# 3.7 Задачи по материалам недели Exercise 4\n",
    "\n",
    "res = [0]*2\n",
    "\n",
    "def add_direction(direction):\n",
    "    \n",
    "    orient, length = direction.split()\n",
    "    orient, length = orient.lower(), int(length)\n",
    "    print(orient+\"EE\", length+5)\n",
    "    if orient=='север':\n",
    "        res[1] += length\n",
    "    elif orient == \"юг\":\n",
    "        res[1] -= length\n",
    "    elif orient == 'восток':\n",
    "        res[0] += length\n",
    "    elif orient == 'запад':\n",
    "        res[0] -= length\n",
    "    else:\n",
    "        pass\n",
    "\n",
    "for i in range(int(input())):\n",
    "    add_direction(input())\n",
    "\n",
    "#add_direction('север 10')\n",
    "#add_direction('запад 20')\n",
    "#add_direction('юг 30')\n",
    "#add_direction('восток 40')\n",
    "\n",
    "print (*res)"
   ]
  },
  {
   "cell_type": "code",
   "execution_count": 21,
   "metadata": {
    "ExecuteTime": {
     "end_time": "2019-10-11T08:31:54.715943Z",
     "start_time": "2019-10-11T08:31:54.707945Z"
    }
   },
   "outputs": [
    {
     "name": "stdout",
     "output_type": "stream",
     "text": [
      "1 125.5\n",
      "2 129.85714285714286\n",
      "3 133.2\n",
      "4 140.33333333333334\n",
      "5 141.0\n",
      "6 154.33333333333334\n",
      "7 161.2\n",
      "8 166.6\n",
      "9 168.76923076923077\n",
      "10 169.4\n",
      "11 173.0\n"
     ]
    }
   ],
   "source": [
    "# 3.7 Задачи по материалам недели Exercise 5\n",
    "res = [[] for i in range(11)]\n",
    "\n",
    "\n",
    "def add_learner(learner):\n",
    "    learn_list = learner.split('\\t')\n",
    "    res[int(learn_list[0])-1].append(int(learn_list[2]))\n",
    "    \n",
    "\n",
    "#add_learner('6\tВяххи\t159')\n",
    "#add_learner('6\tВяххи\t185')\n",
    "#add_learner('11\tФедотов\t172')\n",
    "#add_learner('7\tБондарев\t158')\n",
    "#add_learner('6\tЧайкина\t153')\n",
    "\n",
    "with open(r'C:\\Users\\gy\\Downloads\\dataset_3380_5.txt', 'r') as f:\n",
    "    for line in f:\n",
    "        add_learner(line)\n",
    "\n",
    "for i, length in enumerate(res):\n",
    "    print(i+1,  sum(length)/len(length) if len(length)>0 else '-' )"
   ]
  },
  {
   "cell_type": "code",
   "execution_count": null,
   "metadata": {},
   "outputs": [],
   "source": []
  }
 ],
 "metadata": {
  "kernelspec": {
   "display_name": "Python 3",
   "language": "python",
   "name": "python3"
  },
  "language_info": {
   "codemirror_mode": {
    "name": "ipython",
    "version": 3
   },
   "file_extension": ".py",
   "mimetype": "text/x-python",
   "name": "python",
   "nbconvert_exporter": "python",
   "pygments_lexer": "ipython3",
   "version": "3.6.4"
  }
 },
 "nbformat": 4,
 "nbformat_minor": 2
}
