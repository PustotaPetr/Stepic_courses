{
 "cells": [
  {
   "cell_type": "markdown",
   "metadata": {},
   "source": [
    "Задачи к курсу на Stepic \"Математическая статистика\" https://stepik.org/course/326"
   ]
  },
  {
   "cell_type": "code",
   "execution_count": 8,
   "metadata": {},
   "outputs": [
    {
     "name": "stdout",
     "output_type": "stream",
     "text": [
      "0.08, 1.73, 5.0\n"
     ]
    }
   ],
   "source": [
    "inp_str='3.8, 1.73, 5.3, 5.0, 0.59, 0.08, 3.81, 3.52'\n",
    "int_list = [float(x) for x in inp_str.replace(',','').split()]\n",
    "int_list.sort()\n",
    "print(str(int_list[0])+', '+str(int_list[2])+',', int_list[6])"
   ]
  },
  {
   "cell_type": "code",
   "execution_count": 5,
   "metadata": {},
   "outputs": [
    {
     "name": "stdout",
     "output_type": "stream",
     "text": [
      "1, 1, 1, 1, 2, 2, 2, 2, 2, 2, 2, 3, 3, 3, 3, 3, 3, 3, 4, 4, 4, 4, 4, 4, 4, 4, 5, 5, 5, 8, \n",
      "30\n"
     ]
    }
   ],
   "source": [
    "x = {1:4, 2:7, 3:7, 4:8, 5:3, 8:1}\n",
    "z= ''\n",
    "for i in x.keys():\n",
    "    z += (str(i)+', ')* x[i]\n",
    "print(z)\n",
    "print(sum([j for j in x.values()]))"
   ]
  },
  {
   "cell_type": "code",
   "execution_count": 38,
   "metadata": {},
   "outputs": [
    {
     "name": "stdout",
     "output_type": "stream",
     "text": [
      "[ 0  3  4 12  9  7  3  2] [15.   15.75 16.5  17.25 18.   18.75 19.5  20.25 21.  ]\n",
      "0.000, 0.075, 0.100, 0.300, 0.225, 0.175, 0.075, 0.050    кол-во элементов :   40\n"
     ]
    }
   ],
   "source": [
    "#1.4 Описательная статистика. Exercise 4\n",
    "# По предложенной выборке постройте гистограмму, используя интервалы\n",
    "#[15, 15.75], (15.75, 16.5], (16.5, 17.25], (17.25, 18.0], (18.0, 18.75], (18.75, 19.5], (19.5, 20.25], (20.25, 21.0]\n",
    "import numpy as np\n",
    "\n",
    "dat = [18.76, 17.88, 18.95, 18.13, 16.51, 18.63, 18.32, 17.6, 17.73, 17.9, 19.85, 16.05, 18.01, 17.0, 16.66, 17.54, 18.47, 20.43, 17.62, 18.48, 20.86, 19.61, 17.5, \n",
    "       19.06, 17.56, 16.16, 19.1, 15.77, 19.56, 18.82, 17.47, 16.74, 17.98, 17.96, 18.53, 18.78, 18.3, 18.85, 18.26, 17.78]\n",
    "\n",
    "hist, bin_age = np.histogram(dat, range = (15, 21), bins=8)\n",
    "print(hist, bin_age)\n",
    "print(', '.join(['{:.3f}'.format(x) for x in list(hist/len(dat))]), \"   кол-во элементов :  \", len(dat))\n"
   ]
  },
  {
   "cell_type": "code",
   "execution_count": 7,
   "metadata": {},
   "outputs": [
    {
     "name": "stdout",
     "output_type": "stream",
     "text": [
      "22.71, 4.35, 22.00, 21.00, 24.00\n"
     ]
    }
   ],
   "source": [
    "#1.4 Описательная статистика. Exercise 5\n",
    "#Какая будет средняя дневная температура июля в Санкт-Петербурге в этом году? \n",
    "#Ответить на поставленный вопрос вам помогут следующие выборочные характеристики:\n",
    "#выборочное среднее,\n",
    "#выборочная дисперсия,\n",
    "#выборочная медиана,\n",
    "#первый квартиль,\n",
    "#третий квартиль \n",
    "import numpy as np \n",
    "dat = [23, 24, 21, 23, 22, 21, 20, 21, 28, 25, 22, 22, 25, 21]\n",
    "#print(sorted(dat))\n",
    "v_mean = np.mean(dat)\n",
    "v_median = np.median(dat)\n",
    "v_dispers = np.var(dat)\n",
    "#print( '{:.3f}'.format(v_mean),   '{:.3f}'.format(v_median), np.var(dat),np.std(dat)**2, np.std(dat))\n",
    "kvart25, kvart75 = np.percentile(dat, [25,75 ], interpolation='higher')\n",
    "\n",
    "print(', '.join(['{:.2f}'.format(x) for x in [v_mean, v_dispers, v_median, kvart25, kvart75]]))\n"
   ]
  },
  {
   "cell_type": "code",
   "execution_count": 12,
   "metadata": {},
   "outputs": [
    {
     "name": "stdout",
     "output_type": "stream",
     "text": [
      "[[1.       0.858899]\n",
      " [0.858899 1.      ]]\n"
     ]
    }
   ],
   "source": [
    "#1.4 Описательная статистика. Exercise 7\n",
    "#Найдите выборочный коэффициент корреляции между ростом и весом по данным  измерений роста и веса 10 мужчин. (Единицы измерений рост - см, вес - кг)  \n",
    "import numpy as np\n",
    "\n",
    "dat =[(170, 66), (182, 74),  (183, 77),  (180, 72), (175, 67), (181, 77), (187, 76), (181, 77), (178, 72), (187, 76)]\n",
    "\n",
    "cor=np.corrcoef(dat, rowvar=False)\n",
    "print(cor)"
   ]
  },
  {
   "cell_type": "code",
   "execution_count": 30,
   "metadata": {},
   "outputs": [
    {
     "name": "stdout",
     "output_type": "stream",
     "text": [
      "5017.0, 4736.0, 1345096.1\n",
      "1159.7827765960697\n"
     ]
    }
   ],
   "source": [
    "# 1.5 Задание на тему описательной статистики Exercise 3\n",
    "#\"13е число\"\n",
    "#Найдите: выборочное среднее, выборочную медиану и выборочную дисперсию \n",
    "#числа покупателей 13го числа.\n",
    "import pandas as pd\n",
    "\n",
    "dataset= pd.read_csv(r'D:\\1\\stepic_lesson\\stepic_stats\\13_6',sep='\\t', header=None)\n",
    "dat=dataset[3]\n",
    "\n",
    "v_mean = np.mean(dat)\n",
    "v_median = np.median(dat)\n",
    "v_dispers = np.var(dat)\n",
    "print(', '.join(['{:.1f}'.format(x) for x in [v_mean, v_median, v_dispers]]))\n",
    "\n"
   ]
  },
  {
   "cell_type": "code",
   "execution_count": 36,
   "metadata": {},
   "outputs": [
    {
     "name": "stdout",
     "output_type": "stream",
     "text": [
      "46.49, 4.96, 1.47\n"
     ]
    }
   ],
   "source": [
    "# 1.5 Задание на тему описательной статистики Exercise 3\n",
    "#Постройте выборку из разницы числа людей, приходящих в магазин  13го и 6го числа каждого месяца\n",
    "#Найдите выборочное среднее, выборочный коэффициент эксцесса (kurtosis), выборочный коэффициент асимметрии\n",
    "# разницы числа покупателей (13 - 6).\n",
    "import pandas as pd\n",
    "from scipy.stats import kurtosis, skew\n",
    "\n",
    "\n",
    "dataset= pd.read_csv(r'D:\\1\\stepic_lesson\\stepic_stats\\13_6',sep='\\t', header=None)\n",
    "\n",
    "dat = dataset[3]-dataset[2]\n",
    "v_mean = np.mean(dat)\n",
    "v_kurtos = kurtosis(dat)\n",
    "v_skewness = skew(dat)\n",
    "\n",
    "print(', '.join(['{:.2f}'.format(x) for x in [v_mean, v_kurtos,v_skewness]]))\n"
   ]
  },
  {
   "cell_type": "code",
   "execution_count": 61,
   "metadata": {},
   "outputs": [
    {
     "data": {
      "text/html": [
       "<div>\n",
       "<style scoped>\n",
       "    .dataframe tbody tr th:only-of-type {\n",
       "        vertical-align: middle;\n",
       "    }\n",
       "\n",
       "    .dataframe tbody tr th {\n",
       "        vertical-align: top;\n",
       "    }\n",
       "\n",
       "    .dataframe thead th {\n",
       "        text-align: right;\n",
       "    }\n",
       "</style>\n",
       "<table border=\"1\" class=\"dataframe\">\n",
       "  <thead>\n",
       "    <tr style=\"text-align: right;\">\n",
       "      <th></th>\n",
       "      <th>2</th>\n",
       "      <th>3</th>\n",
       "      <th>5</th>\n",
       "    </tr>\n",
       "  </thead>\n",
       "  <tbody>\n",
       "    <tr>\n",
       "      <th>0</th>\n",
       "      <td>4942</td>\n",
       "      <td>4882</td>\n",
       "      <td>-60</td>\n",
       "    </tr>\n",
       "    <tr>\n",
       "      <th>1</th>\n",
       "      <td>4895</td>\n",
       "      <td>4736</td>\n",
       "      <td>-159</td>\n",
       "    </tr>\n",
       "    <tr>\n",
       "      <th>2</th>\n",
       "      <td>4805</td>\n",
       "      <td>4784</td>\n",
       "      <td>-21</td>\n",
       "    </tr>\n",
       "    <tr>\n",
       "      <th>3</th>\n",
       "      <td>4570</td>\n",
       "      <td>4603</td>\n",
       "      <td>33</td>\n",
       "    </tr>\n",
       "    <tr>\n",
       "      <th>4</th>\n",
       "      <td>4506</td>\n",
       "      <td>4629</td>\n",
       "      <td>123</td>\n",
       "    </tr>\n",
       "  </tbody>\n",
       "</table>\n",
       "</div>"
      ],
      "text/plain": [
       "      2     3    5\n",
       "0  4942  4882  -60\n",
       "1  4895  4736 -159\n",
       "2  4805  4784  -21\n",
       "3  4570  4603   33\n",
       "4  4506  4629  123"
      ]
     },
     "execution_count": 61,
     "metadata": {},
     "output_type": "execute_result"
    },
    {
     "data": {
      "image/png": "[encoded data removed]",
      "text/plain": [
       "<matplotlib.figure.Figure at 0x2252b6c2898>"
      ]
     },
     "metadata": {
      "needs_background": "light"
     },
     "output_type": "display_data"
    }
   ],
   "source": [
    "%matplotlib inline\n",
    "import pandas as pd\n",
    "import matplotlib.pyplot as plt\n",
    "\n",
    "large = 22; med = 16; small = 12\n",
    "params = {'axes.titlesize': large,\n",
    "          'legend.fontsize': med,\n",
    "          'figure.figsize': (16, 10),\n",
    "          'axes.labelsize': med,\n",
    "          'axes.titlesize': med,\n",
    "          'xtick.labelsize': med,\n",
    "          'ytick.labelsize': med,\n",
    "          'figure.titlesize': large}\n",
    "plt.rcParams.update(params)\n",
    "\n",
    "dataset= pd.read_csv(r'D:\\1\\stepic_lesson\\stepic_stats\\13_6',sep='\\t', header=None)\n",
    "\n",
    "dataset[5] = dataset[3]-dataset[2]\n",
    "dataset = dataset.drop(columns =[0, 1, 4])\n",
    "\n",
    "#plt.boxplot(dataset);\n",
    "dataset.boxplot()\n",
    "dataset.head()"
   ]
  },
  {
   "cell_type": "code",
   "execution_count": null,
   "metadata": {},
   "outputs": [],
   "source": []
  }
 ],
 "metadata": {
  "kernelspec": {
   "display_name": "Python 3",
   "language": "python",
   "name": "python3"
  },
  "language_info": {
   "codemirror_mode": {
    "name": "ipython",
    "version": 3
   },
   "file_extension": ".py",
   "mimetype": "text/x-python",
   "name": "python",
   "nbconvert_exporter": "python",
   "pygments_lexer": "ipython3",
   "version": "3.6.4"
  }
 },
 "nbformat": 4,
 "nbformat_minor": 4
}
