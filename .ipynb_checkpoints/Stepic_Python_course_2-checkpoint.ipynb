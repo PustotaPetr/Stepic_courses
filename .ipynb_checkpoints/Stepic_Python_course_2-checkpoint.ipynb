{
 "cells": [
  {
   "cell_type": "markdown",
   "metadata": {},
   "source": [
    "Задачи к курсу на Stepic \"Python: основы и применение\"\n",
    "https://stepik.org/course/512"
   ]
  },
  {
   "cell_type": "code",
   "execution_count": 12,
   "metadata": {},
   "outputs": [
    {
     "name": "stdout",
     "output_type": "stream",
     "text": [
      "7\n"
     ]
    }
   ],
   "source": [
    "#1.2 Модель данных: объекты. exercise 1\n",
    "\n",
    "objects = [6, 1, 2, 1, 2, 3, [1,2], [2,3], [1,2]]\n",
    "ans = 0\n",
    "for num, obj in enumerate(objects): # доступная переменная objects\n",
    "    obj_is=0\n",
    "    for i in range(num + 1):\n",
    "        if obj is objects[i]:\n",
    "            obj_is += 1\n",
    "    if obj_is <= 1:        \n",
    "        ans += 1\n",
    "\n",
    "print(ans)"
   ]
  },
  {
   "cell_type": "code",
   "execution_count": 1,
   "metadata": {
    "ExecuteTime": {
     "end_time": "2019-11-01T06:46:33.019139Z",
     "start_time": "2019-11-01T06:46:33.006140Z"
    }
   },
   "outputs": [
    {
     "name": "stdout",
     "output_type": "stream",
     "text": [
      "global\n",
      "None\n",
      "bar\n",
      "foo\n"
     ]
    }
   ],
   "source": [
    "#1.4 Пространства имён и области видимости Exercise 1\n",
    "#Реализуйте программу, которая будет эмулировать работу с пространствами имен.\n",
    "\n",
    "input_data=[]\n",
    "\n",
    "def read_data():\n",
    "    for i in range(int(input())):\n",
    "        input_data.append(input())\n",
    "        \n",
    "\n",
    "\n",
    "#read_data()\n",
    "\n",
    "NameSpaces={}\n",
    "NameSpaces['global']=['global']\n",
    "\n",
    "input_data =['add global a','create foo global','add foo b','get foo a',\n",
    "             'get foo c','create bar foo','add bar a','get bar a','get bar b']\n",
    "\n",
    "for line in input_data:\n",
    "    command,ns,value=line.strip().split()\n",
    "    if command.strip().lower() == 'add':\n",
    "        NameSpaces.get(ns).append(value.strip().lower())\n",
    "    elif command.strip().lower() == 'create':\n",
    "        NameSpaces[ns]=[value.strip().lower()]\n",
    "        \n",
    "    elif command.strip().lower() == 'get':\n",
    "        cont = True\n",
    "        while cont:\n",
    "            if NameSpaces.get(ns, None):\n",
    "                if NameSpaces.get(ns)[1:].count(value)>0:\n",
    "                    print(ns)\n",
    "                    cont = False\n",
    "                else:\n",
    "                    if (NameSpaces.get(ns)[0] == 'global') and (ns=='global'):\n",
    "                        print('None')\n",
    "                        cont = False\n",
    "                    else:\n",
    "                        ns=NameSpaces.get(ns)[0]\n",
    "            else:\n",
    "                print('None')\n",
    "                cont = False\n",
    "        \n",
    "     "
   ]
  },
  {
   "cell_type": "code",
   "execution_count": 6,
   "metadata": {},
   "outputs": [
    {
     "name": "stdout",
     "output_type": "stream",
     "text": [
      "0 100\n",
      "20 100\n",
      "100 100\n",
      "100 100\n"
     ]
    }
   ],
   "source": [
    "#1.5 Введение в классы. exercise 1\n",
    "\n",
    "class MoneyBox:\n",
    "    def __init__(self, capacity):\n",
    "        # конструктор с аргументом – вместимость копилки\n",
    "        self.val=0\n",
    "        self.capacity=capacity\n",
    "\n",
    "    def can_add(self, v):\n",
    "        # True, если можно добавить v монет, False иначе\n",
    "        return (self.val + v) <= self.capacity\n",
    "\n",
    "    def add(self, v):\n",
    "        # положить v монет в копилку\n",
    "        if self.can_add(v):\n",
    "            self.val += v\n",
    "            \n",
    "a=MoneyBox(100)\n",
    "print(a.val,a.capacity)\n",
    "a.add(20)\n",
    "print(a.val,a.capacity)\n",
    "a.add(80)\n",
    "print(a.val,a.capacity)\n",
    "a.add(1)\n",
    "print(a.val,a.capacity)"
   ]
  },
  {
   "cell_type": "code",
   "execution_count": 17,
   "metadata": {},
   "outputs": [
    {
     "name": "stdout",
     "output_type": "stream",
     "text": [
      "[]\n",
      "[1]\n",
      "[1, 2, 3, 4]\n",
      "15\n",
      "[6, 7, 8]\n",
      "32\n",
      "[7, 8]\n",
      "--------------------\n",
      "[1, 2, 3]\n",
      "15\n",
      "[6]\n",
      "40\n",
      "[]\n",
      "5\n",
      "5\n",
      "[1]\n"
     ]
    }
   ],
   "source": [
    "# 1.5 Введение в классы. Exercise 2\n",
    "\n",
    "class Buffer:\n",
    "    def __init__(self):\n",
    "        self.buf=[]\n",
    "    \n",
    "    def add(self, *a):\n",
    "        # добавить следующую часть последовательности\n",
    "        for i in a: self.buf.append(i)\n",
    "        while len(self.buf)>=5:\n",
    "            s=0\n",
    "            for i in range(5): s += self.buf.pop(0)\n",
    "            print(s)\n",
    "    \n",
    "    def get_current_part(self):\n",
    "        # вернуть сохраненные в текущий момент элементы последовательности в порядке, в котором они были     \n",
    "        # добавлены\n",
    "        return(self.buf)\n",
    "        \n",
    "        \n",
    "buf=Buffer()\n",
    "print(buf.buf)\n",
    "buf.add(1)\n",
    "print(buf.buf)\n",
    "buf.add(2,3,4)\n",
    "print(buf.buf)\n",
    "buf.add(5,6,7,8)\n",
    "print(buf.get_current_part())\n",
    "buf.add(5,6,7,8)\n",
    "print(buf.get_current_part())\n",
    "\n",
    "print(\"--------------------\")\n",
    "buf = Buffer()\n",
    "buf.add(1, 2, 3)\n",
    "print(buf.get_current_part()) # вернуть [1, 2, 3]\n",
    "buf.add(4, 5, 6) # print(15) – вывод суммы первой пятерки элементов\n",
    "print(buf.get_current_part()) # вернуть [6]\n",
    "buf.add(7, 8, 9, 10) # print(40) – вывод суммы второй пятерки элементов\n",
    "print(buf.get_current_part()) # вернуть []\n",
    "buf.add(1, 1, 1, 1, 1, 1, 1, 1, 1, 1, 1) # print(5), print(5) – вывод сумм третьей и четвертой пятерки\n",
    "print(buf.get_current_part()) # вернуть [1]"
   ]
  },
  {
   "cell_type": "code",
   "execution_count": 3,
   "metadata": {
    "ExecuteTime": {
     "end_time": "2019-11-02T11:56:53.420915Z",
     "start_time": "2019-11-02T11:56:53.412901Z"
    }
   },
   "outputs": [
    {
     "name": "stdout",
     "output_type": "stream",
     "text": [
      "['a', 'b']\n",
      "<class '__main__.B'>\n"
     ]
    }
   ],
   "source": [
    "class A(list):\n",
    "    pass\n",
    "\n",
    "class B(A):\n",
    "    pass\n",
    "\n",
    "\n",
    "\n",
    "b=B(('a', 'b'))\n",
    "\n",
    "print(b)\n",
    "print(type(b))"
   ]
  },
  {
   "cell_type": "code",
   "execution_count": 4,
   "metadata": {
    "ExecuteTime": {
     "end_time": "2019-11-01T13:28:49.358861Z",
     "start_time": "2019-11-01T13:28:33.727862Z"
    }
   },
   "outputs": [
    {
     "name": "stdout",
     "output_type": "stream",
     "text": [
      "4\n",
      "A A\n",
      "Yes\n",
      "W W\n",
      "No\n",
      "B A\n",
      "No\n",
      "A B\n",
      "Yes\n"
     ]
    }
   ],
   "source": [
    "#1.6 Наследование классов exercise 1\n",
    "# Вам дано описание наследования классов в следующем формате. \n",
    "#<имя класса 1> : <имя класса 2> <имя класса 3> ... <имя класса k>\n",
    "#Это означает, что класс 1 отнаследован от класса 2, класса 3, и т. д.\n",
    "#Вам необходимо отвечать на запросы, является ли один класс предком другого класса\n",
    "\n",
    "classes = {}\n",
    "def read_data():\n",
    "    for i in range(int(input())):\n",
    "        cl = input().strip().split(':')\n",
    "        cl = list(map(lambda x: x.strip(), cl))\n",
    "        if len(cl)>1:\n",
    "            ls = classes.get(cl[0], [])\n",
    "            add_ls = cl[1].split() #[a for a in cl[1].split() if a in classes.keys()]\n",
    "            ls.extend(add_ls)\n",
    "            classes[cl[0]] = ls\n",
    "        else:\n",
    "            classes[cl[0]] = [cl[0]]\n",
    "\n",
    "\n",
    "read_data()\n",
    "#classes = {'A': ['-'], 'B': ['A'], 'C': ['B', 'A'], 'D': ['A', 'B', 'C']}\n",
    "\n",
    "for i in range(int(input())):\n",
    "    all_ch = set()\n",
    "    cont = True\n",
    "    clas_ch, clas_par = input().strip().split()\n",
    "\n",
    "    all_ch = set([clas_par] if clas_par in classes else [])\n",
    "\n",
    "    last_len = len(all_ch)\n",
    "    while cont:\n",
    "        for a in list(all_ch):\n",
    "            if clas_ch in classes.get(a, []):\n",
    "                all_ch.update(classes.get(a,[]))\n",
    "                cont= False\n",
    "                break\n",
    "            else:\n",
    "                all_ch.update(classes.get(a,[]))\n",
    "        if len(all_ch)==last_len and cont:\n",
    "            cont= False\n",
    "        last_len = len(all_ch)    \n",
    "    if clas_ch in all_ch:\n",
    "        print('Yes')\n",
    "    else:\n",
    "        print('No')"
   ]
  },
  {
   "cell_type": "code",
   "execution_count": 5,
   "metadata": {},
   "outputs": [],
   "source": [
    "#1.6 Наследование классов exercise 2\n",
    "# Реализуйте структуру данных, представляющую собой расширенную структуру стек. Необходимо поддерживать добавление элемента \n",
    "#на вершину стека, удаление с вершины стека, и необходимо поддерживать операции сложения, вычитания, умножения и \n",
    "#целочисленного деления.\n",
    "\n",
    "class ExtendedStack(list):\n",
    "    def sum(self):\n",
    "        # операция сложения\n",
    "        if len(self) > 1:\n",
    "            a=self.pop()\n",
    "            b=self.pop()\n",
    "            self.append(a + b)\n",
    "    \n",
    "    def sub(self):\n",
    "        # операция вычитания\n",
    "        if len(self) > 1:\n",
    "            a=self.pop()\n",
    "            b=self.pop()\n",
    "            self.append(a - b)\n",
    "        \n",
    "    def mul(self):\n",
    "        # операция умножения\n",
    "        if len(self) > 1:\n",
    "            a=self.pop()\n",
    "            b=self.pop()\n",
    "            self.append(a * b)\n",
    "    \n",
    "    def div(self):\n",
    "        # операция целочисленного деления\n",
    "        if len(self) > 1:\n",
    "            a=self.pop()\n",
    "            b=self.pop()\n",
    "            self.append(a // b)"
   ]
  },
  {
   "cell_type": "code",
   "execution_count": 18,
   "metadata": {},
   "outputs": [
    {
     "name": "stdout",
     "output_type": "stream",
     "text": [
      "[1, 2, 3]\n",
      "[1, 2, 3, 5]\n",
      "[1, 2, 3]\n",
      "Mon May 20 21:02:39 2019: 5\n",
      "[1, 2, 3, 5]\n"
     ]
    }
   ],
   "source": [
    "#1.6 Наследование классов. exercise 3\n",
    "\n",
    "import time\n",
    "\n",
    "class Loggable:\n",
    "    def log(self, msg):\n",
    "        print(str(time.ctime()) + \": \" + str(msg))\n",
    "        \n",
    "class LoggableList (list, Loggable):\n",
    "    def append(self, *args):\n",
    "        for arg in args: self.log(arg)        \n",
    "        super(LoggableList, self).append(*args)\n",
    "\n",
    "    \n",
    "l=list([1, 2, 3])\n",
    "print(l)\n",
    "l.append(5)\n",
    "print(l)  \n",
    "    \n",
    "    \n",
    "l=LoggableList([1, 2, 3])\n",
    "print(l)\n",
    "l.append(5)\n",
    "print(l)         \n",
    "    "
   ]
  },
  {
   "cell_type": "code",
   "execution_count": 18,
   "metadata": {},
   "outputs": [
    {
     "name": "stdout",
     "output_type": "stream",
     "text": [
      "ZeroDivisionError\n"
     ]
    }
   ],
   "source": [
    "#2.1 Ошибки и исключения. Задача 1\n",
    "\n",
    "def foo():\n",
    "    raise ZeroDivisionError()\n",
    "\n",
    "try:\n",
    "    foo()\n",
    "except ZeroDivisionError:\n",
    "    print(\"ZeroDivisionError\")\n",
    "except ArithmeticError:\n",
    "    print(\"ArithmeticError\")\n",
    "except AssertionError:\n",
    "    print(\"AssertionError\")\n",
    "\n",
    "    "
   ]
  },
  {
   "cell_type": "code",
   "execution_count": 6,
   "metadata": {
    "ExecuteTime": {
     "end_time": "2019-11-02T15:29:14.274688Z",
     "start_time": "2019-11-02T15:28:52.858325Z"
    }
   },
   "outputs": [
    {
     "name": "stdout",
     "output_type": "stream",
     "text": [
      "4\n",
      "ZeroDivisionError\n",
      "OSError\n",
      "ArithmeticError\n",
      "FileNotFoundError\n",
      "FileNotFoundError\n",
      "{'FileNotFoundError', 'ZeroDivisionError', 'OSError', 'ArithmeticError'}\n"
     ]
    }
   ],
   "source": [
    "# 2.1 Ошибки и исключения. Exercise 2\n",
    "# напишите программу, которая будет определять обработку каких исключений можно удалить из кода.\n",
    "\n",
    "classes = {}\n",
    "def read_data():\n",
    "    for i in range(int(input())):\n",
    "        cl = input().strip().split(':')\n",
    "        cl = list(map(lambda x: x.strip(), cl))\n",
    "        if len(cl)>1:\n",
    "            ls = classes.get(cl[0], [])\n",
    "            add_ls = cl[1].split() #[a for a in cl[1].split() if a in classes.keys()]\n",
    "            ls.extend(add_ls)\n",
    "            classes[cl[0]] = ls\n",
    "        else:\n",
    "            classes[cl[0]] = [cl[0]]\n",
    "\n",
    "\n",
    "read_data()\n",
    "#print(classes)\n",
    "#classes = {'ArithmeticError': ['ArithmeticError'], 'ZeroDivisionError': ['ArithmeticError'], 'OSError': ['OSError'], \n",
    "#           'FileNotFoundError': ['OSError']}\n",
    "\n",
    "catched_exeptions = set()\n",
    "\n",
    "for _ in range(int(input())):\n",
    "    check_exept = input().strip()\n",
    "    if check_exept in catched_exeptions: \n",
    "        print(check_exept)\n",
    "#    catched_exeptions.append(check_exept)\n",
    "    all_child, i=[check_exept], 0    \n",
    "    while i<len(all_child):\n",
    "        for child, parents in classes.items():\n",
    "            if (all_child[i] in parents) and (child not in all_child):\n",
    "                all_child.append(child)\n",
    "        i += 1    \n",
    "    catched_exeptions.update(all_child)\n",
    "    \n",
    "#print(catched_exeptions)"
   ]
  },
  {
   "cell_type": "code",
   "execution_count": 13,
   "metadata": {},
   "outputs": [
    {
     "name": "stdout",
     "output_type": "stream",
     "text": [
      "[3]\n"
     ]
    },
    {
     "ename": "NonPositiveError",
     "evalue": "",
     "output_type": "error",
     "traceback": [
      "\u001b[1;31m---------------------------------------------------------------------------\u001b[0m",
      "\u001b[1;31mNonPositiveError\u001b[0m                          Traceback (most recent call last)",
      "\u001b[1;32m<ipython-input-13-4a862790208c>\u001b[0m in \u001b[0;36m<module>\u001b[1;34m()\u001b[0m\n\u001b[0;32m     13\u001b[0m \u001b[0mx\u001b[0m\u001b[1;33m.\u001b[0m\u001b[0mappend\u001b[0m\u001b[1;33m(\u001b[0m\u001b[1;36m3\u001b[0m\u001b[1;33m)\u001b[0m\u001b[1;33m\u001b[0m\u001b[0m\n\u001b[0;32m     14\u001b[0m \u001b[0mprint\u001b[0m\u001b[1;33m(\u001b[0m\u001b[0mx\u001b[0m\u001b[1;33m)\u001b[0m\u001b[1;33m\u001b[0m\u001b[0m\n\u001b[1;32m---> 15\u001b[1;33m \u001b[0mx\u001b[0m\u001b[1;33m.\u001b[0m\u001b[0mappend\u001b[0m\u001b[1;33m(\u001b[0m\u001b[1;33m-\u001b[0m\u001b[1;36m3\u001b[0m\u001b[1;33m)\u001b[0m\u001b[1;33m\u001b[0m\u001b[0m\n\u001b[0m\u001b[0;32m     16\u001b[0m \u001b[1;31m#raise NonPositiveError(\"my Exception\")\u001b[0m\u001b[1;33m\u001b[0m\u001b[1;33m\u001b[0m\u001b[0m\n",
      "\u001b[1;32m<ipython-input-13-4a862790208c>\u001b[0m in \u001b[0;36mappend\u001b[1;34m(self, x)\u001b[0m\n\u001b[0;32m      6\u001b[0m     \u001b[1;32mdef\u001b[0m \u001b[0mappend\u001b[0m\u001b[1;33m(\u001b[0m\u001b[0mself\u001b[0m\u001b[1;33m,\u001b[0m \u001b[0mx\u001b[0m\u001b[1;33m)\u001b[0m\u001b[1;33m:\u001b[0m\u001b[1;33m\u001b[0m\u001b[0m\n\u001b[0;32m      7\u001b[0m         \u001b[1;32mif\u001b[0m \u001b[0mx\u001b[0m\u001b[1;33m<=\u001b[0m\u001b[1;36m0\u001b[0m\u001b[1;33m:\u001b[0m\u001b[1;33m\u001b[0m\u001b[0m\n\u001b[1;32m----> 8\u001b[1;33m             \u001b[1;32mraise\u001b[0m \u001b[0mNonPositiveError\u001b[0m\u001b[1;33m\u001b[0m\u001b[0m\n\u001b[0m\u001b[0;32m      9\u001b[0m         \u001b[1;32melse\u001b[0m\u001b[1;33m:\u001b[0m\u001b[1;33m\u001b[0m\u001b[0m\n\u001b[0;32m     10\u001b[0m             \u001b[0mlist\u001b[0m\u001b[1;33m.\u001b[0m\u001b[0mappend\u001b[0m\u001b[1;33m(\u001b[0m\u001b[0mself\u001b[0m\u001b[1;33m,\u001b[0m\u001b[0mx\u001b[0m\u001b[1;33m)\u001b[0m\u001b[1;33m\u001b[0m\u001b[0m\n",
      "\u001b[1;31mNonPositiveError\u001b[0m: "
     ]
    }
   ],
   "source": [
    "# 2.1 Ошибки и исключения. Задача 3\n",
    "class NonPositiveError(Exception):\n",
    "    pass\n",
    "\n",
    "class PositiveList(list):\n",
    "    def append(self, x):\n",
    "        if x<=0:\n",
    "            raise NonPositiveError\n",
    "        else:\n",
    "            list.append(self,x)\n",
    "            \n",
    "x=PositiveList()\n",
    "x.append(3)\n",
    "print(x)\n",
    "x.append(-3)\n",
    "#raise NonPositiveError(\"my Exception\")"
   ]
  },
  {
   "cell_type": "code",
   "execution_count": null,
   "metadata": {},
   "outputs": [
    {
     "name": "stdin",
     "output_type": "stream",
     "text": [
      " 2\n"
     ]
    }
   ],
   "source": [
    "# task 2.2 Работа с кодом: модули и импорт\n",
    "\n",
    "import datetime\n",
    "Y,M,D = input().split()\n",
    "Add_Days=int(input())\n",
    "#print(YMD)\n",
    "DT = datetime.date(int(Y),int(M),int(D))\n",
    "DT1 = DT + datetime.timedelta(days=Add_Days)\n",
    "#print(DT)\n",
    "#print(DT1)\n",
    "DTS = map(int,str(DT1).split(\"-\"))\n",
    "print(*DTS)"
   ]
  },
  {
   "cell_type": "code",
   "execution_count": 1,
   "metadata": {},
   "outputs": [
    {
     "name": "stdout",
     "output_type": "stream",
     "text": [
      "error\n",
      "error\n",
      "error\n",
      "error\n",
      "b'Alice loves Bob'\n",
      "error\n",
      "error\n",
      "error\n",
      "error\n",
      "error\n"
     ]
    }
   ],
   "source": [
    "# 2.2 Работа с кодом: модули и импорт. задача 2\n",
    "import simplecrypt as s_cr\n",
    "with open(r\"d:\\1\\encrypted.bin\", \"rb\") as encr_f:\n",
    "    encr_str=encr_f.read()\n",
    "#print(encr_str)\n",
    "with open(r\"d:\\1\\passwords.txt\", \"rb\") as pasw:\n",
    "    for line in pasw:\n",
    "#        print(line.rstrip())\n",
    "        try:\n",
    "            decr_str=s_cr.decrypt(line.rstrip(),encr_str)\n",
    "        except:\n",
    "            decr_str=\"error\"\n",
    "        print(decr_str)\n"
   ]
  },
  {
   "cell_type": "code",
   "execution_count": 18,
   "metadata": {
    "ExecuteTime": {
     "end_time": "2019-11-06T13:38:16.742730Z",
     "start_time": "2019-11-06T13:38:16.730716Z"
    }
   },
   "outputs": [
    {
     "name": "stdout",
     "output_type": "stream",
     "text": [
      "[0, 2, 3, 4, 5, 6, 8, 9, 10, 12, 14, 15, 16, 18, 20, 21, 22, 24, 25, 26, 27, 28, 30]\n",
      "[0, 6, 10, 12, 15, 18, 20, 24, 30]\n",
      "[0, 30]\n"
     ]
    }
   ],
   "source": [
    "#2.3 Итераторы и генераторы.  Exercise 1\n",
    "# В данной задаче мы просим вас реализовать класс multifilter, который будет выполнять ту же функцию, \n",
    "#что и стандартный класс filter, но будет использовать не одну функцию, а несколько.\n",
    "\n",
    "class multifilter:\n",
    "    def judge_half(pos, neg):\n",
    "        return pos >= neg\n",
    "        # допускает элемент, если его допускает хотя бы половина фукнций (pos >= neg)\n",
    "\n",
    "    def judge_any(pos, neg):\n",
    "        return pos > 0\n",
    "        # допускает элемент, если его допускает хотя бы одна функция (pos >= 1)\n",
    "\n",
    "    def judge_all(pos, neg):\n",
    "        return neg == 0\n",
    "\n",
    "        # допускает элемент, если его допускают все функции (neg == 0)\n",
    "\n",
    "    def __init__(self, iterable, *funcs, judge=judge_any):\n",
    "        self.iterable = iterable\n",
    "        self.iter_func = funcs\n",
    "        self.judge = judge\n",
    "        self.i = 0\n",
    "\n",
    "        # iterable - исходная последовательность\n",
    "        # funcs - допускающие функции\n",
    "        # judge - решающая функция\n",
    "\n",
    "    def __iter__(self):\n",
    "        return self\n",
    "        # возвращает итератор по результирующей последовательности\n",
    "        \n",
    "    def __next__(self):\n",
    "        while self.i < len(self.iterable):\n",
    "            \n",
    "            self.i += 1\n",
    "\n",
    "            pos, neg = 0,0\n",
    "            for func in self.iter_func:\n",
    "                if func(self.iterable[self.i-1]):\n",
    "                    pos +=1\n",
    "                else:\n",
    "                    neg +=1\n",
    "            if self.judge(pos,neg):\n",
    "                return self.iterable[self.i-1]\n",
    "\n",
    "        else:\n",
    "            raise StopIteration\n",
    "        \n",
    "       \n",
    "\n",
    "        \n",
    "def mul2(x):\n",
    "    return x % 2 == 0\n",
    "\n",
    "def mul3(x):\n",
    "    return x % 3 == 0\n",
    "\n",
    "def mul5(x):\n",
    "    return x % 5 == 0\n",
    "\n",
    "\n",
    "a = [i for i in range(31)] # [0, 1, 2, ... , 30]\n",
    "\n",
    "print(list(multifilter(a, mul2, mul3, mul5))) \n",
    "# [0, 2, 3, 4, 5, 6, 8, 9, 10, 12, 14, 15, 16, 18, 20, 21, 22, 24, 25, 26, 27, 28, 30]\n",
    "\n",
    "print(list(multifilter(a, mul2, mul3, mul5, judge=multifilter.judge_half))) \n",
    "# [0, 6, 10, 12, 15, 18, 20, 24, 30]\n",
    "\n",
    "print(list(multifilter(a, mul2, mul3, mul5, judge=multifilter.judge_all))) "
   ]
  },
  {
   "cell_type": "code",
   "execution_count": 44,
   "metadata": {},
   "outputs": [
    {
     "name": "stdout",
     "output_type": "stream",
     "text": [
      "[2, 3, 5, 7, 11, 13, 17, 19, 23, 29, 31, 37, 41, 43, 47, 53, 59, 61, 67, 71, 73, 79, 83, 89, 97, 101, 103, 107, 109, 113, 127, 131, 137, 139, 149, 151, 157, 163, 167, 173, 179, 181, 191, 193, 197, 199, 211, 223, 227, 229, 233, 239, 241, 251, 257, 263, 269, 271, 277, 281, 283, 293, 307, 311, 313, 317, 331, 337, 347, 349, 353, 359, 367, 373, 379, 383, 389, 397, 401, 409, 419, 421, 431, 433, 439, 443, 449, 457, 461, 463, 467, 479, 487, 491, 499, 503, 509, 521, 523, 541, 547, 557, 563, 569, 571, 577, 587, 593, 599, 601, 607, 613, 617, 619, 631, 641, 643, 647, 653, 659, 661, 673, 677, 683, 691, 701, 709, 719, 727, 733, 739, 743, 751, 757, 761, 769, 773, 787, 797, 809, 811, 821, 823, 827, 829, 839, 853, 857, 859, 863, 877, 881, 883, 887, 907, 911, 919, 929, 937, 941, 947, 953, 967, 971, 977, 983, 991, 997, 1009, 1013, 1019, 1021, 1031, 1033, 1039, 1049, 1051, 1061, 1063, 1069, 1087, 1091, 1093, 1097, 1103, 1109, 1117, 1123, 1129]\n"
     ]
    }
   ],
   "source": [
    "#2.3 Итераторы и генераторы.  задача 2\n",
    "import itertools\n",
    "def primes():\n",
    "    for i in range(2,10000):\n",
    "        if (i>2) and (i%2==0): continue   \n",
    "       \n",
    "        simp=1\n",
    "        for j in range(2,int(i/2)): #int((i)**0.5)):\n",
    "            if i%j==0:\n",
    "                simp=0\n",
    "                break\n",
    "        if simp: yield i\n",
    "\n",
    "\n",
    "\n",
    "print(list(itertools.takewhile(lambda x : x <= 1131, primes())))"
   ]
  },
  {
   "cell_type": "code",
   "execution_count": 4,
   "metadata": {},
   "outputs": [],
   "source": [
    "#2.4 Работа с файловой системой и файлами. Задача 1 \n",
    "\n",
    "with open(r'd:\\111\\dataset_24465_4.txt',\"r\") as r_file:\n",
    "    with open(r\"d:\\111\\reverce.txt\", \"w\") as wr_file:\n",
    "        lines_file=r_file.readlines()\n",
    "        lines_file.reverse()\n",
    "        wr_file.writelines(lines_file)"
   ]
  },
  {
   "cell_type": "code",
   "execution_count": 15,
   "metadata": {},
   "outputs": [
    {
     "name": "stdout",
     "output_type": "stream",
     "text": [
      "main\n",
      "main\\afkgv\n",
      "main\\frtrl\n",
      "main\\hgyoc\n",
      "main\\hgyoc\\kwawh\n",
      "main\\hgyoc\\kwawh\\hapry\n",
      "main\\hgyoc\\kwawh\\rzgzv\n",
      "main\\hgyoc\\ycbxr\\ivjta\n",
      "main\\ksuvk\\xjrqt\n",
      "main\\ksuvk\\xjrqt\\qdbqt\\hotgx\n",
      "main\\ksuvk\\xjrqt\\qdbqt\\hotgx\\izwwv\n",
      "main\\ksuvk\\xjrqt\\qdbqt\\prkcp\\dnyyv\n",
      "main\\lqbli\\otofk\n",
      "main\\lqbli\\otofk\\armko\n",
      "main\\mwhci\n",
      "main\\olmhl\\mmtsz\n",
      "main\\olmhl\\mmtsz\\nujko\\ywjka\n",
      "main\\olmhl\\mmtsz\\nujko\\ywjka\\pxjip\n",
      "main\\olmhl\\mmtsz\\nujko\\ywjka\\pxjip\\wthmo\n",
      "main\\olmhl\\mmtsz\\nujko\\ywjka\\pxjip\\wthmo\\rwwuw\n",
      "main\\olmhl\\mmtsz\\nujko\\ywjka\\pxjip\\wthmo\\wtgrc\n",
      "main\\olmhl\\mmtsz\\nujko\\ywjka\\pxjip\\wthmo\\wtgrc\\grnfu\n",
      "main\\olmhl\\mmtsz\\nujko\\ywjka\\pxjip\\wthmo\\wtgrc\\juoxd\n",
      "main\\olmhl\\mmtsz\\nujko\\ywjka\\pxjip\\wthmo\\wtgrc\\kztxg\\qwlrx\n",
      "main\\olmhl\\mmtsz\\nujko\\ywjka\\pxjip\\wthmo\\wtgrc\\kztxg\\qwlrx\\djozj\n",
      "main\\olmhl\\mmtsz\\nujko\\ywjka\\pxjip\\wthmo\\wtgrc\\kztxg\\qwlrx\\lirot\n",
      "main\\olmhl\\mmtsz\\nujko\\ywjka\\pxjip\\wthmo\\wtgrc\\kztxg\\qwlrx\\nfcxf\n",
      "main\\olmhl\\mmtsz\\nujko\\ywjka\\pxjip\\wthmo\\wtgrc\\mgplg\\rbyav\n",
      "main\\olmhl\\mmtsz\\nujko\\ywjka\\pxjip\\wthmo\\wtgrc\\mgplg\\rbyav\\ppeir\\subdi\n",
      "main\\olmhl\\mmtsz\\nujko\\ywjka\\pxjip\\wthmo\\wtgrc\\mgplg\\rbyav\\ppeir\\subdi\\afrqp\\iaujh\n",
      "main\\olmhl\\mmtsz\\nujko\\ywjka\\pxjip\\wthmo\\wtgrc\\mgplg\\rbyav\\ppeir\\subdi\\afrqp\\iaujh\\jqjsg\n",
      "main\\olmhl\\mmtsz\\nujko\\ywjka\\pxjip\\wthmo\\wtgrc\\mgplg\\rbyav\\ppeir\\subdi\\afrqp\\iaujh\\jqjsg\\xriod\n",
      "main\\olmhl\\mmtsz\\nujko\\ywjka\\pxjip\\wthmo\\wtgrc\\mgplg\\rbyav\\ppeir\\subdi\\afrqp\\iaujh\\jqnsz\n",
      "main\\olmhl\\mmtsz\\nujko\\ywjka\\pxjip\\wthmo\\wtgrc\\mgplg\\rbyav\\ppeir\\subdi\\zljoz\n",
      "main\\olmhl\\mmtsz\\nujko\\ywjka\\pxjip\\wthmo\\wtgrc\\mgplg\\rbyav\\ppeir\\subdi\\zljoz\\kgdme\n",
      "main\\olmhl\\mmtsz\\nujko\\ywjka\\pxjip\\wthmo\\wtgrc\\mgplg\\rbyav\\ppeir\\subdi\\zljoz\\kgdme\\evnvn\\axqur\n",
      "main\\olmhl\\mmtsz\\nujko\\ywjka\\pxjip\\wthmo\\wtgrc\\mgplg\\rbyav\\ppeir\\subdi\\zljoz\\kgdme\\evnvn\\axqur\\itkcz\n",
      "main\\olmhl\\mmtsz\\nujko\\ywjka\\pxjip\\wthmo\\wtgrc\\mgplg\\rbyav\\ppeir\\subdi\\zljoz\\kgdme\\jhhbu\\dufxr\n",
      "main\\olmhl\\mmtsz\\nujko\\ywjka\\pxjip\\wthmo\\wtgrc\\mgplg\\rbyav\\ppeir\\subdi\\zljoz\\kgdme\\jhhbu\\dufxr\\hlgup\n",
      "main\\olmhl\\mmtsz\\nujko\\ywjka\\pxjip\\wthmo\\wtgrc\\mgplg\\rbyav\\ppeir\\subdi\\zljoz\\kgdme\\jhhbu\\dufxr\\hlgup\\auqky\n",
      "main\\olmhl\\mmtsz\\nujko\\ywjka\\pxjip\\wthmo\\wtgrc\\mgplg\\rbyav\\ppeir\\subdi\\zljoz\\kgdme\\jhhbu\\dufxr\\sxojq\n",
      "main\\olmhl\\mmtsz\\nujko\\ywjka\\pxjip\\wthmo\\wtgrc\\mgplg\\rbyav\\ppeir\\subdi\\zljoz\\kgdme\\jhhbu\\dufxr\\xroxl\n",
      "main\\olmhl\\mmtsz\\nujko\\ywjka\\pxjip\\wthmo\\wtgrc\\mgplg\\rbyav\\ppeir\\subdi\\zljoz\\kgdme\\jhhbu\\dufxr\\xroxl\\abslw\n",
      "main\\olmhl\\mmtsz\\nujko\\ywjka\\pxjip\\wthmo\\wtgrc\\mgplg\\rbyav\\ppeir\\subdi\\zljoz\\kgdme\\jhhbu\\dufxr\\xroxl\\rgunj\\bdcjg\n",
      "main\\olmhl\\mmtsz\\nujko\\ywjka\\pxjip\\wthmo\\wtgrc\\mgplg\\rbyav\\ppeir\\subdi\\zljoz\\kgdme\\jhhbu\\dufxr\\xroxl\\rgunj\\bdcjg\\ktkfx\n",
      "main\\olmhl\\mmtsz\\nujko\\ywjka\\pxjip\\wthmo\\wtgrc\\mgplg\\rbyav\\ppeir\\subdi\\zljoz\\kgdme\\jhhbu\\dufxr\\xroxl\\rgunj\\bdcjg\\vkntp\n",
      "main\\olmhl\\mmtsz\\nujko\\ywjka\\pxjip\\wthmo\\wtgrc\\mgplg\\rbyav\\ppeir\\subdi\\zljoz\\kgdme\\jhhbu\\dufxr\\xroxl\\rgunj\\bdcjg\\vkntp\\rjqjr\n",
      "main\\olmhl\\mmtsz\\nujko\\ywjka\\pxjip\\wthmo\\wtgrc\\mgplg\\rbyav\\ppeir\\subdi\\zljoz\\kgdme\\jhhbu\\dufxr\\xroxl\\rgunj\\bdcjg\\xpmcm\n",
      "main\\olmhl\\mmtsz\\nujko\\ywjka\\pxjip\\wthmo\\wtgrc\\mgplg\\rbyav\\ppeir\\subdi\\zljoz\\kgdme\\jhhbu\\rnqwd\n",
      "main\\olmhl\\mmtsz\\nujko\\ywjka\\pxjip\\wthmo\\wtgrc\\mgplg\\rbyav\\ppeir\\subdi\\zljoz\\kgdme\\jhhbu\\rnqwd\\purto\n",
      "main\\olmhl\\mmtsz\\nujko\\ywjka\\pxjip\\wthmo\\wtgrc\\mgplg\\rbyav\\ppeir\\subdi\\zljoz\\kgdme\\jhhbu\\rnqwd\\purto\\bkfog\n",
      "main\\olmhl\\mmtsz\\nujko\\ywjka\\pxjip\\wthmo\\wtgrc\\mgplg\\rbyav\\ppeir\\subdi\\zljoz\\kgdme\\jhhbu\\rnqwd\\purto\\bkfog\\rvsfo\n",
      "main\\olmhl\\mmtsz\\nujko\\ywjka\\pxjip\\wthmo\\wtgrc\\mgplg\\rbyav\\ppeir\\subdi\\zljoz\\kgdme\\jhhbu\\rnqwd\\purto\\bkfog\\rvsfo\\gvbnv\n",
      "main\\olmhl\\mmtsz\\nujko\\ywjka\\pxjip\\wthmo\\wtgrc\\mgplg\\rbyav\\ppeir\\subdi\\zljoz\\kgdme\\jhhbu\\rnqwd\\purto\\bkfog\\rvsfo\\rpnzm\n",
      "main\\olmhl\\mmtsz\\nujko\\ywjka\\pxjip\\wthmo\\wtgrc\\mgplg\\rbyav\\ppeir\\subdi\\zljoz\\kgdme\\jhhbu\\rnqwd\\purto\\bkfog\\rvsfo\\rpnzm\\ilogc\n",
      "main\\olmhl\\mmtsz\\nujko\\ywjka\\pxjip\\wthmo\\wtgrc\\mgplg\\rbyav\\ppeir\\subdi\\zljoz\\kgdme\\jhhbu\\rnqwd\\purto\\bkfog\\rvsfo\\rpnzm\\ilogc\\reshp\n",
      "main\\olmhl\\mmtsz\\nujko\\ywjka\\pxjip\\wthmo\\wtgrc\\mgplg\\rbyav\\ppeir\\subdi\\zljoz\\kgdme\\jhhbu\\rnqwd\\purto\\bkfog\\rvsfo\\rpnzm\\kafov\n",
      "main\\olmhl\\mmtsz\\nujko\\ywjka\\pxjip\\wthmo\\wtgrc\\mgplg\\rbyav\\ppeir\\subdi\\zljoz\\kgdme\\jhhbu\\rnqwd\\purto\\bkfog\\rvsfo\\rpnzm\\kafov\\iites\\ygtox\\bpmhg\n",
      "main\\olmhl\\mmtsz\\nujko\\ywjka\\pxjip\\wthmo\\wtgrc\\mgplg\\rbyav\\ppeir\\subdi\\zljoz\\kgdme\\jhhbu\\rnqwd\\purto\\bkfog\\rvsfo\\rpnzm\\kafov\\iites\\ygtox\\rhvqn\n",
      "main\\olmhl\\mmtsz\\nujko\\ywjka\\pxjip\\wthmo\\wtgrc\\mgplg\\rbyav\\ppeir\\subdi\\zljoz\\kgdme\\jhhbu\\rnqwd\\purto\\bkfog\\rvsfo\\rpnzm\\kafov\\iites\\ygtox\\rhvqn\\ggfcr\n",
      "main\\olmhl\\mmtsz\\nujko\\ywjka\\pxjip\\wthmo\\wtgrc\\mgplg\\rbyav\\ppeir\\subdi\\zljoz\\kgdme\\jhhbu\\rnqwd\\purto\\bkfog\\rvsfo\\rpnzm\\kafov\\iites\\ygtox\\rhvqn\\ggfcr\\kxyxy\\qrxwt\n",
      "main\\olmhl\\mmtsz\\nujko\\ywjka\\pxjip\\wthmo\\wtgrc\\mgplg\\rbyav\\ppeir\\subdi\\zljoz\\kgdme\\jhhbu\\rnqwd\\purto\\bsgqc\\ujtgh\n",
      "main\\olmhl\\mmtsz\\nujko\\ywjka\\pxjip\\wthmo\\wtgrc\\mgplg\\rbyav\\ppeir\\subdi\\zljoz\\kgdme\\jhhbu\\rnqwd\\purto\\bsgqc\\ujtgh\\tyapv\n",
      "main\\olmhl\\mmtsz\\nujko\\ywjka\\pxjip\\wthmo\\wtgrc\\mgplg\\rbyav\\ppeir\\subdi\\zljoz\\kgdme\\jhhbu\\rnqwd\\purto\\hmnro\\jtmnb\n",
      "main\\olmhl\\mmtsz\\nujko\\ywjka\\pxjip\\wthmo\\wtgrc\\mgplg\\rbyav\\ppeir\\subdi\\zljoz\\sgmoj\n",
      "main\\olmhl\\mmtsz\\nujko\\ywjka\\pxjip\\wthmo\\wtgrc\\mgplg\\rbyav\\ppeir\\subdi\\zljoz\\xrvnu\n",
      "main\\olmhl\\mmtsz\\nujko\\ywjka\\pxjip\\wthmo\\wtgrc\\mgplg\\rbyav\\qosgw\n",
      "main\\olmhl\\mmtsz\\nujko\\ywjka\\pxjip\\wthmo\\wtgrc\\mgplg\\rbyav\\uaodv\n",
      "main\\olmhl\\mmtsz\\nujko\\ywjka\\pxjip\\wthmo\\wtgrc\\zfukg\n",
      "main\\olmhl\\mmtsz\\nujko\\ywjka\\pxjip\\wthmo\\wtgrc\\zfukg\\cazio\n",
      "main\\olmhl\\mmtsz\\nujko\\ywjka\\pxjip\\wthmo\\wtgrc\\zfukg\\cazio\\sosdj\n",
      "main\\olmhl\\mmtsz\\nujko\\ywjka\\pxjip\\wthmo\\wtgrc\\zfukg\\cazio\\sosdj\\rcsvd\n",
      "main\\olmhl\\mmtsz\\nujko\\ywjka\\pxjip\\wthmo\\wtgrc\\zfukg\\cazio\\sosdj\\uuyrs\n",
      "main\\olmhl\\mmtsz\\nujko\\ywjka\\pxjip\\wthmo\\wtgrc\\zfukg\\cazio\\sosdj\\yujjk\n",
      "main\\olmhl\\mmtsz\\nujko\\ywjka\\pxjip\\wthmo\\wtgrc\\zfukg\\jvmme\n",
      "main\\olmhl\\mmtsz\\nujko\\ywjka\\pxjip\\wthmo\\wtgrc\\zfukg\\jvmme\\eayzq\\isyki\n",
      "main\\olmhl\\mmtsz\\nujko\\ywjka\\pxjip\\wthmo\\wtgrc\\zfukg\\jvmme\\eayzq\\nuiwj\n",
      "main\\olmhl\\mmtsz\\nujko\\ywjka\\pxjip\\wthmo\\wtgrc\\zfukg\\jvmme\\eayzq\\tixoq\\lldpv\n",
      "main\\olmhl\\mmtsz\\nujko\\ywjka\\pxjip\\wthmo\\wtgrc\\zfukg\\jvmme\\eayzq\\wfnda\n",
      "main\\olmhl\\mmtsz\\nujko\\ywjka\\pxjip\\wthmo\\wtgrc\\zfukg\\jvmme\\kehsm\n",
      "main\\olmhl\\mmtsz\\nujko\\ywjka\\pxjip\\wthmo\\wtgrc\\zfukg\\jvmme\\vynzv\n",
      "main\\olmhl\\mmtsz\\nujko\\ywjka\\pxjip\\wthmo\\wtgrc\\zfukg\\jvmme\\wvwva\n",
      "main\\olmhl\\mmtsz\\nujko\\ywjka\\pxjip\\wthmo\\wtgrc\\zfukg\\jvmme\\wvwva\\jebnq\\kjmeo\n",
      "main\\olmhl\\mmtsz\\nujko\\ywjka\\pxjip\\wthmo\\wtgrc\\zfukg\\jvmme\\wvwva\\jebnq\\phcud\n",
      "main\\olmhl\\mmtsz\\nujko\\ywjka\\pxjip\\wthmo\\wtgrc\\zfukg\\vydse\n",
      "main\\olmhl\\mmtsz\\nujko\\ywjxy\n",
      "main\\olmhl\\mmtsz\\phcap\n",
      "main\\qkseh\n",
      "main\\sitdc\n",
      "main\\taivr\n",
      "main\\taivr\\bcsow\n",
      "main\\taivr\\yptwa\\xsbzr\n",
      "main\\taivr\\yptwa\\xsbzr\\hcasz\\ilitr\\joejy\n",
      "main\\taivr\\yptwa\\xsbzr\\hcasz\\ilitr\\urguw\\sjmeg\\ddnaa\n",
      "main\\taivr\\yptwa\\xsbzr\\hcasz\\ilitr\\urguw\\sjmeg\\ddnaa\\ckaab\n",
      "main\\taivr\\yptwa\\xsbzr\\hcasz\\ilitr\\urguw\\sjmeg\\ddnaa\\jxhbl\\lradw\n",
      "main\\taivr\\yptwa\\xsbzr\\hcasz\\ilitr\\urguw\\sjmeg\\ddnaa\\jxhbl\\lradw\\iglcm\n",
      "main\\taivr\\yptwa\\xsbzr\\hcasz\\ilitr\\urguw\\sjmeg\\ddnaa\\jxhbl\\tpdvr\n",
      "main\\taivr\\yptwa\\xsbzr\\hcasz\\ilitr\\urguw\\sjmeg\\ddnaa\\lszec\n",
      "main\\taivr\\yptwa\\xsbzr\\hcasz\\ilitr\\urguw\\sjmeg\\ddnaa\\lszec\\wdftb\\mhqps\n",
      "main\\uvvuz\n",
      "main\\uvvuz\\ksnof\n",
      "main\\zduna\\ywucw\n",
      "main\\zyczx\n"
     ]
    }
   ],
   "source": [
    "#2.4 Работа с файловой системой и файлами. Задача 2\n",
    "import os\n",
    "import re\n",
    "\n",
    "listdir_with_py=[]\n",
    "\n",
    "\n",
    "for curr_dir, list_dir, list_files in os.walk(\"main\"):\n",
    "\n",
    "    for f in list_files:\n",
    "        if re.findall(r\"\\w+\\.py\\b\",f): \n",
    "            listdir_with_py.append(curr_dir)\n",
    "            break\n",
    "\n",
    "for s in sorted(listdir_with_py): print(s)\n",
    "\n",
    "    "
   ]
  },
  {
   "cell_type": "code",
   "execution_count": 19,
   "metadata": {
    "ExecuteTime": {
     "end_time": "2019-11-02T17:35:43.235300Z",
     "start_time": "2019-11-02T17:35:43.230302Z"
    }
   },
   "outputs": [
    {
     "name": "stdout",
     "output_type": "stream",
     "text": [
      "True\n",
      "False\n",
      "True\n"
     ]
    }
   ],
   "source": [
    "# 2.5 Работа с функциями: functool и лямбда функции. Exercise 1\n",
    "# Реализуйте функцию mod_checker(x, mod=0), которая будет генерировать лямбда функцию от одного аргумента y, \n",
    "#которая будет возвращать True,  если остаток от деления y на x равен mod, и False иначе.\n",
    "\n",
    "#mod = lambda x: True if x%3==1 else False\n",
    "\n",
    "#print(mod(3))\n",
    "#print(mod(4))\n",
    "\n",
    "def mod_checker(y, mod=0):\n",
    "    def inner_cheker(x, mod=mod):\n",
    "        return x%y==mod\n",
    "    return inner_cheker\n",
    "\n",
    "\n",
    "# это просто проверка функции\n",
    "mod_3 = mod_checker(3)\n",
    "\n",
    "print(mod_3(3)) # True\n",
    "print(mod_3(4)) # False\n",
    "\n",
    "mod_3_1 = mod_checker(3, 1)\n",
    "print(mod_3_1(4)) # True"
   ]
  },
  {
   "cell_type": "code",
   "execution_count": 4,
   "metadata": {},
   "outputs": [
    {
     "name": "stdout",
     "output_type": "stream",
     "text": [
      "<_sre.SRE_Match object; span=(3, 8), match='10:00'>\n",
      "<_sre.SRE_Match object; span=(0, 5), match='10:00'>\n",
      "['10:00', '12:00']\n"
     ]
    }
   ],
   "source": [
    "# 3.3 Регулярные выражения в Python. Задача 1\n",
    "import re\n",
    "import sys\n",
    "\n",
    "patt=\"cat\"\n",
    "for line in sys.stdin:\n",
    "    line = line.rstrip()\n",
    "    if len(re.findall(patt,line))>1:print(line)\n",
    "\n",
    "\n",
    "\n"
   ]
  },
  {
   "cell_type": "code",
   "execution_count": 5,
   "metadata": {},
   "outputs": [],
   "source": [
    "# 3.3 Регулярные выражения в Python. Задача 2\n",
    "import re\n",
    "import sys\n",
    "\n",
    "patt=r\"\\bcat\\b\"\n",
    "for line in sys.stdin:\n",
    "    line = line.rstrip()\n",
    "    if re.findall(patt,line):print(line)"
   ]
  },
  {
   "cell_type": "code",
   "execution_count": null,
   "metadata": {},
   "outputs": [],
   "source": [
    "# 3.3 Регулярные выражения в Python. Задача 3\n",
    "import re\n",
    "import sys\n",
    "\n",
    "patt=r\"z\\S{3}z\"\n",
    "for line in sys.stdin:\n",
    "    line = line.rstrip()\n",
    "    if re.findall(patt,line):print(line)"
   ]
  },
  {
   "cell_type": "code",
   "execution_count": null,
   "metadata": {},
   "outputs": [],
   "source": [
    "# 3.3 Регулярные выражения в Python. Задача 4\n",
    "import re\n",
    "import sys\n",
    "\n",
    "patt=r\"\\\\\"\n",
    "for line in sys.stdin:\n",
    "    line = line.rstrip()\n",
    "    if re.findall(patt,line):print(line)"
   ]
  },
  {
   "cell_type": "code",
   "execution_count": null,
   "metadata": {},
   "outputs": [],
   "source": [
    "# 3.3 Регулярные выражения в Python. Задача 5\n",
    "import re\n",
    "import sys\n",
    "\n",
    "patt=r\"(\\S{3})\\1\"\n",
    "for line in sys.stdin:\n",
    "    line = line.rstrip()\n",
    "    if re.findall(patt,line):print(line)"
   ]
  },
  {
   "cell_type": "code",
   "execution_count": null,
   "metadata": {},
   "outputs": [],
   "source": [
    "# 3.3 Регулярные выражения в Python. Задача 6\n",
    "import re\n",
    "import sys\n",
    "\n",
    "patt=r\"human\"\n",
    "sub_str=r\"computer\"\n",
    "for line in sys.stdin:\n",
    "    line = line.rstrip()\n",
    "    print(re.sub(patt,sub_str,line))"
   ]
  },
  {
   "cell_type": "code",
   "execution_count": 9,
   "metadata": {},
   "outputs": [],
   "source": [
    "# 3.3 Регулярные выражения в Python. exercise 7\n",
    "#Вам дана последовательность строк.\n",
    "#В каждой строке замените первое вхождение слова, состоящего только из латинских букв \"a\" (регистр не важен), на слово \"argh\". \n",
    "import re\n",
    "import sys\n",
    "\n",
    "patt=r'\\b[aA]+\\b'\n",
    "sub_str = 'argh'\n",
    "for line in sys.stdin:\n",
    "    line = line.rstrip()\n",
    "    print(re.sub(patt,sub_str,line,count=1))"
   ]
  },
  {
   "cell_type": "code",
   "execution_count": 10,
   "metadata": {},
   "outputs": [],
   "source": [
    "# 3.3 Регулярные выражения в Python. exercise 8\n",
    "#Вам дана последовательность строк.\n",
    "#В каждой строке поменяйте местами две первых буквы в каждом слове, состоящем хотя бы из двух букв.\n",
    "import re\n",
    "import sys\n",
    "\n",
    "for line in sys.stdin:\n",
    "    print(line)\n"
   ]
  },
  {
   "cell_type": "code",
   "execution_count": 31,
   "metadata": {},
   "outputs": [
    {
     "name": "stdout",
     "output_type": "stream",
     "text": [
      "961 is a square whose digits can be rotated to give another square.\n",
      "boring\n",
      "boring\n",
      "966 is the Stirling number of the second kind S(8,3).\n",
      "boring\n",
      "936 is a pentagonal pyramidal number.\n",
      "boring\n",
      "973 is the number of inequivalent asymmetric Ferrers graphs with 25 points.\n",
      "916 is a strobogrammatic number.\n",
      "950 is the generalized Catalan number C(17,3).\n",
      "boring\n",
      "986 is a strobogrammatic number.\n",
      "989 is the smallest number so that it and its reverse are divisible by 43.\n",
      "958 is the number of labeled 3-colorable graphs with 5 vertices.\n",
      "927 is the 13^{th} tribonacci number.\n"
     ]
    }
   ],
   "source": [
    "# 3.6 API exercise 1\n",
    "\n",
    "import requests\n",
    "\n",
    "url='http://numbersapi.com/{}/math'\n",
    "param={'json':1}\n",
    "f=open(\"d:\\\\1\\\\dataset_24476_3.txt\")\n",
    "fw=open(\"d:\\\\1\\\\num_answer.txt\",\"w\")\n",
    "for num in map(int,f):\n",
    "#for num in range(125,225):\n",
    "\n",
    "    req=requests.get(url.format(num),param)\n",
    "#    print(req.status_code)\n",
    "#    print(req.headers)\n",
    "#print(req.text)\n",
    "#print(req.json())\n",
    "    if req.json()['found']:\n",
    "        print(req.json()['text'])\n",
    "        fw.write('Interesting'+\"\\n\")\n",
    "    else:\n",
    "        print('boring')\n",
    "        fw.write('Boring'+\"\\n\")\n",
    "        \n",
    "fw.close()\n",
    "f.close()"
   ]
  },
  {
   "cell_type": "code",
   "execution_count": 17,
   "metadata": {},
   "outputs": [
    {
     "name": "stdout",
     "output_type": "stream",
     "text": [
      "1947 Ackling Roger\n",
      "1971 A. Westerhuis Ronald\n",
      "1968 Abaroa Eduardo\n",
      "1984 Abrantes Gabriel\n",
      "1977 Aasan Øystein\n",
      "1951 Aarsman Hans\n",
      "1958 Abrahams Peter\n",
      "1888 Abbo Jussuf\n",
      "1940 Abbott Angela\n",
      "1538 Abraham de Bruyn\n",
      "1883 Abbe James\n",
      "1815 Achenbach Andreas\n",
      "1898 Aalto Alvar\n",
      "1965 Acosta Daniel\n",
      "1964 Aalk Patrick\n",
      "Abraham de Bruyn\n",
      "Achenbach Andreas\n",
      "Abbe James\n",
      "Abbo Jussuf\n",
      "Aalto Alvar\n",
      "Abbott Angela\n",
      "Ackling Roger\n",
      "Aarsman Hans\n",
      "Abrahams Peter\n",
      "Aalk Patrick\n",
      "Acosta Daniel\n",
      "Abaroa Eduardo\n",
      "A. Westerhuis Ronald\n",
      "Aasan Øystein\n",
      "Abrantes Gabriel\n"
     ]
    }
   ],
   "source": [
    "# 3.6 API. exercise 2\n",
    "import requests\n",
    "\n",
    "param={\"client_id\":\"16ef73f8fb710ab716e4\",\"client_secret\":\"be71ceb2f62db07e3bfea8a572a77ad0\"}\n",
    "ref=\"https://api.artsy.net/api/tokens/xapp_token\"\n",
    "res=requests.post(ref,param)\n",
    "#print(res.status_code)\n",
    "#print(res.headers)\n",
    "#print(res.json()[\"token\"])\n",
    "token=res.json()[\"token\"]\n",
    "ref=\"https://api.artsy.net/api/artists/{}\"\n",
    "#list_of_q=[\"4d8b92b34eb68a1b2c0003f4\",\"537def3c139b21353f0006a6\",\"4e2ed576477cc70001006f99\"]\n",
    "f = open(\"d:\\\\1\\\\dataset_24476_4.txt\",\"r\",encoding=\"utf-8\")\n",
    "dict_a=[]\n",
    "for q in f:\n",
    "    res=requests.get(ref.format(q.strip()), headers={\"X-Xapp-Token\" : token})\n",
    "    res.encoding = 'utf-8'\n",
    "#    print(res.json())\n",
    "#    print(res.status_code)\n",
    "    dict_a.append((res.json()[\"birthday\"],res.json()[\"sortable_name\"]))\n",
    "    print(res.json()[\"birthday\"],res.json()[\"sortable_name\"])\n",
    "    \n",
    "#print(dict_a)\n",
    "dict_b=sorted(dict_a, key=lambda x: (x[0],x[1]))\n",
    "#print(dict_b)\n",
    "print('\\n'.join([x[1] for x in dict_b]))\n",
    "    "
   ]
  },
  {
   "cell_type": "code",
   "execution_count": 40,
   "metadata": {},
   "outputs": [
    {
     "name": "stdout",
     "output_type": "stream",
     "text": [
      "4 3 1\n"
     ]
    }
   ],
   "source": [
    "# 3.7 XML, библиотека ElementTree, библиотека lxml. exercise 1\n",
    "from  xml.etree import ElementTree\n",
    "\n",
    "s = '<cube color=\"blue\"><cube color=\"red\"><cube color=\"green\"></cube><cube color=\"blue\"></cube><cube color=\"red\"></cube></cube><cube color=\"red\"><cube color=\"green\"></cube></cube></cube>'\n",
    "s1 ='<cube color=\"blue\"><cube color=\"red\"><cube color=\"green\"></cube></cube><cube color=\"red\"></cube></cube>'\n",
    "s=input()\n",
    "price_dict={\"blue\":0,\"red\":0,\"green\":0}\n",
    "\n",
    "def calc_cubes(price, elem, p_dic):\n",
    "#    print(\"  \"*price, elem.attrib)\n",
    "    p_dic[elem.attrib['color']] += price\n",
    "    for i in elem.iterfind('cube'):\n",
    "        calc_cubes(price+1,i,p_dic)\n",
    "    \n",
    "\n",
    "root=ElementTree.fromstring(s)\n",
    "#ch=x.getchildren()\n",
    "\"\"\"print(dir(root))\n",
    "print(root.tag)\n",
    "print(root.attrib)\n",
    "for i in root.iterfind('cube'):\n",
    "    for j in i.iterfind('cube'):\n",
    "        print(\"    \",j.attrib)\n",
    "    print(i.attrib)\n",
    "#print(x.items())\"\"\"\n",
    "\n",
    "calc_cubes(1,root,price_dict)\n",
    "print(price_dict['red'],price_dict['green'],price_dict['blue'])\n"
   ]
  },
  {
   "cell_type": "code",
   "execution_count": 10,
   "metadata": {
    "ExecuteTime": {
     "end_time": "2019-09-24T15:34:52.065746Z",
     "start_time": "2019-09-24T15:34:52.060747Z"
    },
    "scrolled": true
   },
   "outputs": [
    {
     "name": "stdout",
     "output_type": "stream",
     "text": [
      "0.9999999800000005\n",
      "-0.49999997155140563\n",
      "1.9999999800000006\n",
      "-0.4999999765237151\n",
      "0.9999999800000015\n",
      "-0.49999996559884496\n",
      "1.9999999800000015\n",
      "-0.4999999824762772\n",
      "0.9999999800000018\n",
      "-0.4999999596462843\n",
      "1.999999980000002\n",
      "-0.4999999884288396\n",
      "0.9999999800000026\n",
      "-0.4999999834960461\n",
      "1.9999999800000026\n",
      "-0.49999999438140186\n",
      "0.9999999800000036\n",
      "-0.49999997754348535\n",
      "1.9999999800000037\n",
      "-0.5000000003339642\n"
     ]
    }
   ],
   "source": [
    "import math\n",
    "n=100000000\n",
    "#x_rez = []\n",
    "for X in range(n,n+20,1):\n",
    "    print( (-1)**X*(X-1)/(X+1)+(math.sin(3*math.pi/4*X))**2  )"
   ]
  },
  {
   "cell_type": "code",
   "execution_count": null,
   "metadata": {},
   "outputs": [],
   "source": []
  }
 ],
 "metadata": {
  "kernelspec": {
   "display_name": "Python 3",
   "language": "python",
   "name": "python3"
  },
  "language_info": {
   "codemirror_mode": {
    "name": "ipython",
    "version": 3
   },
   "file_extension": ".py",
   "mimetype": "text/x-python",
   "name": "python",
   "nbconvert_exporter": "python",
   "pygments_lexer": "ipython3",
   "version": "3.6.4"
  }
 },
 "nbformat": 4,
 "nbformat_minor": 4
}
