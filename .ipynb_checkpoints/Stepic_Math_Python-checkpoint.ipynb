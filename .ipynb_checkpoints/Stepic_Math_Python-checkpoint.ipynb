{
 "cells": [
  {
   "cell_type": "markdown",
   "metadata": {},
   "source": [
    "Задачи к курсу на Stepic \"Практикум по математике и Python\" https://stepik.org/course/3356"
   ]
  },
  {
   "cell_type": "code",
   "execution_count": 3,
   "metadata": {
    "ExecuteTime": {
     "end_time": "2019-10-17T17:37:41.098892Z",
     "start_time": "2019-10-17T17:37:39.109999Z"
    }
   },
   "outputs": [
    {
     "name": "stdout",
     "output_type": "stream",
     "text": [
      "8\n",
      "400\n"
     ]
    }
   ],
   "source": [
    "# 2.2 Математические операции Exercise 6\n",
    "\n",
    "from math import *\n",
    "a = int(input())\n",
    "\n",
    "s = 3*a*a + sqrt(3)*3*a*a/2 + 6 * a*a*(3**0.5)/16\n",
    "print(round(s))"
   ]
  },
  {
   "cell_type": "code",
   "execution_count": 5,
   "metadata": {
    "ExecuteTime": {
     "end_time": "2019-10-17T17:43:14.752433Z",
     "start_time": "2019-10-17T17:43:12.537406Z"
    }
   },
   "outputs": [
    {
     "name": "stdout",
     "output_type": "stream",
     "text": [
      "1\n",
      "20.65\n",
      "7.66\n"
     ]
    }
   ],
   "source": [
    "# 2.2 Математические операции Exercise 7\n",
    "# додекаэдр\n",
    "from math import *\n",
    "a = int(input())\n",
    "\n",
    "V = a**3* (15+7*sqrt(5))/4\n",
    "S = 3*a**2 * sqrt(5*(5+2*sqrt(5)))\n",
    "print(round(S,2))\n",
    "print(round(V,2))"
   ]
  },
  {
   "cell_type": "code",
   "execution_count": 7,
   "metadata": {
    "ExecuteTime": {
     "end_time": "2019-10-17T18:15:41.291808Z",
     "start_time": "2019-10-17T18:15:33.254456Z"
    }
   },
   "outputs": [
    {
     "name": "stdout",
     "output_type": "stream",
     "text": [
      "100\n",
      "10\n",
      "10\n",
      "50\n",
      "250\n"
     ]
    }
   ],
   "source": [
    "# 2.2 Математические операции Exercise 8\n",
    "# Задача фон Неймана о мухе и поездах\n",
    "L, v1, v2, vm = (int(input()) for i in range(4))\n",
    "\n",
    "print (round(L*vm/(v1+v2)))"
   ]
  },
  {
   "cell_type": "code",
   "execution_count": 11,
   "metadata": {
    "ExecuteTime": {
     "end_time": "2019-10-17T18:22:17.359460Z",
     "start_time": "2019-10-17T18:22:15.157727Z"
    }
   },
   "outputs": [
    {
     "name": "stdout",
     "output_type": "stream",
     "text": [
      "5 0 3\n",
      "8\n"
     ]
    }
   ],
   "source": [
    "# 2.3 Массивы Exercise 1\n",
    "print(sum (map(int,input().split())))"
   ]
  },
  {
   "cell_type": "code",
   "execution_count": 14,
   "metadata": {
    "ExecuteTime": {
     "end_time": "2019-10-17T18:26:01.966634Z",
     "start_time": "2019-10-17T18:25:47.895584Z"
    }
   },
   "outputs": [
    {
     "name": "stdout",
     "output_type": "stream",
     "text": [
      "8 1 9\n",
      "2 3 2\n",
      "18#7\n"
     ]
    }
   ],
   "source": [
    "# 2.3 Массивы Exercise 2\n",
    "print( \"#\".join([str(sum(map(int,input().split()))) for i in range(2)]))"
   ]
  },
  {
   "cell_type": "code",
   "execution_count": 15,
   "metadata": {
    "ExecuteTime": {
     "end_time": "2019-10-17T18:28:05.223621Z",
     "start_time": "2019-10-17T18:27:59.931327Z"
    }
   },
   "outputs": [
    {
     "name": "stdout",
     "output_type": "stream",
     "text": [
      "one&One&one\n",
      "One one\n"
     ]
    }
   ],
   "source": [
    "# 2.3 Массивы Exercise 3\n",
    "a = set(input().split(\"&\"))\n",
    "print(*a)"
   ]
  },
  {
   "cell_type": "code",
   "execution_count": 3,
   "metadata": {
    "ExecuteTime": {
     "end_time": "2019-10-18T07:40:07.001144Z",
     "start_time": "2019-10-18T07:40:03.559114Z"
    }
   },
   "outputs": [
    {
     "name": "stdout",
     "output_type": "stream",
     "text": [
      "And this is some long line, which consists of a set of words\n",
      "this is of\n"
     ]
    }
   ],
   "source": [
    "# 2.3 Массивы Exercise 4\n",
    "l = input().split()\n",
    "print(*l[1:3], l[-2])"
   ]
  },
  {
   "cell_type": "code",
   "execution_count": 4,
   "metadata": {
    "ExecuteTime": {
     "end_time": "2019-10-18T07:41:55.896133Z",
     "start_time": "2019-10-18T07:41:48.096040Z"
    }
   },
   "outputs": [
    {
     "name": "stdout",
     "output_type": "stream",
     "text": [
      "one two three four five six\n",
      "six-$-five-$-four-$-three-$-two-$-one\n"
     ]
    }
   ],
   "source": [
    "# 2.3 Массивы Exercise 5\n",
    "l = input().split()\n",
    "print('-$-'.join(l[::-1]))"
   ]
  },
  {
   "cell_type": "code",
   "execution_count": 6,
   "metadata": {
    "ExecuteTime": {
     "end_time": "2019-10-18T07:45:06.206884Z",
     "start_time": "2019-10-18T07:45:03.885946Z"
    }
   },
   "outputs": [
    {
     "name": "stdout",
     "output_type": "stream",
     "text": [
      "one cat and one dog are friends\n",
      "7 2\n"
     ]
    }
   ],
   "source": [
    "# 2.3 Массивы Exercise 6\n",
    "l = input().split()\n",
    "print(len(l), l.count('one'))"
   ]
  },
  {
   "cell_type": "code",
   "execution_count": 8,
   "metadata": {
    "ExecuteTime": {
     "end_time": "2019-10-18T07:56:24.987236Z",
     "start_time": "2019-10-18T07:56:22.951715Z"
    }
   },
   "outputs": [
    {
     "name": "stdout",
     "output_type": "stream",
     "text": [
      "99 234 34 1 0 -5 55 666 42\n",
      "1126\n"
     ]
    }
   ],
   "source": [
    "# 2.3 Массивы Exercise 7\n",
    "\n",
    "l = map(int,input().split())\n",
    "print(sum(l))"
   ]
  },
  {
   "cell_type": "code",
   "execution_count": 14,
   "metadata": {
    "ExecuteTime": {
     "end_time": "2019-10-18T09:32:54.351780Z",
     "start_time": "2019-10-18T09:32:54.347750Z"
    }
   },
   "outputs": [
    {
     "name": "stdout",
     "output_type": "stream",
     "text": [
      "['mix', 'extra', '', 'x-files', 'xyz', 'xapple', 'apple']\n"
     ]
    }
   ],
   "source": [
    "# 2.4 Строки Exercise 5\n",
    "s = \"['mix', 'extra', '', 'x-files', 'xyz', 'xapple', 'apple']\"\n",
    "l= s[1:-1].replace(' ','').split(',')\n",
    "L = list(map(lambda x: x[1:-1], l))\n",
    "print(l)"
   ]
  },
  {
   "cell_type": "code",
   "execution_count": 19,
   "metadata": {
    "ExecuteTime": {
     "end_time": "2019-10-18T09:49:15.732351Z",
     "start_time": "2019-10-18T09:49:13.633386Z"
    }
   },
   "outputs": [
    {
     "name": "stdout",
     "output_type": "stream",
     "text": [
      "1\n",
      "I\n"
     ]
    }
   ],
   "source": [
    "# 2.5 Условия (if, elif, else) Exercise 1\n",
    "\n",
    "d = {'1' : 'I', '5' : 'V', '10' : 'X', '50' : 'L' , '100' : 'C' , '500' : 'D', '1000' : 'M'}\n",
    "print(d[input()])"
   ]
  },
  {
   "cell_type": "code",
   "execution_count": 22,
   "metadata": {
    "ExecuteTime": {
     "end_time": "2019-10-18T10:01:58.674388Z",
     "start_time": "2019-10-18T10:01:55.847271Z"
    }
   },
   "outputs": [
    {
     "name": "stdout",
     "output_type": "stream",
     "text": [
      "3\n",
      "4\n",
      "1.3333333333333333\n"
     ]
    }
   ],
   "source": [
    "# 2.5 Условия (if, elif, else)  Exercise 2\n",
    "a=int(input())\n",
    "if  a == 0:\n",
    "    print('Division by zero!')\n",
    "else:\n",
    "    print(round(int(input())/a,1)"
   ]
  },
  {
   "cell_type": "code",
   "execution_count": null,
   "metadata": {},
   "outputs": [],
   "source": [
    "# 2.5 Условия (if, elif, else)  Exercise 3\n",
    "\n",
    "c = input()\n",
    "if c == 'int':\n",
    "    a = int(input())\n",
    "    b = int(input())\n",
    "    if a or b:\n",
    "        print (a+b)\n",
    "    else :\n",
    "        print (\"Empty Ints\")     \n",
    "elif c == 'str':\n",
    "    a = input()\n",
    "    if a:\n",
    "        print(a)\n",
    "    else:\n",
    "        print (\"Empty String\") \n",
    "elif c == 'list':\n",
    "    a = input().split()\n",
    "    if a:\n",
    "        print (a[-1])\n",
    "    else:\n",
    "        print (\"Empty List\")\n",
    "else:\n",
    "    print (\"Unknown type\")"
   ]
  },
  {
   "cell_type": "code",
   "execution_count": null,
   "metadata": {},
   "outputs": [],
   "source": [
    "# 2.6 Циклы (while, for). Exercise 3\n",
    "# Считывайте целые числа из потока ввода по одному до тех пор, пока не встретите строку \"The End\".\n",
    "# Выведите на печать сумму считанных чисел.\n",
    "import sys\n",
    "count = 0\n",
    "for line in sys.stdin:\n",
    "    if line.strip() == 'The End':\n",
    "        break\n",
    "    count += int(line)\n",
    "\n",
    "print(count)"
   ]
  },
  {
   "cell_type": "code",
   "execution_count": null,
   "metadata": {},
   "outputs": [],
   "source": [
    "# 2.6 Циклы (while, for). Exercise 4\n",
    "#На вход подаётся строка, некоторые слова в которой \"испорчены\".\n",
    "#Признак \"испорченного\" слова - 1я буква в нём заменена на * .\n",
    "#Выведете на печать только \"не испорченные\" слова, каждое с новой строки\n",
    "\n",
    "words=input().strip().split()\n",
    "for word in words:\n",
    "    if word[0] != '*':\n",
    "        print(word)"
   ]
  },
  {
   "cell_type": "code",
   "execution_count": 5,
   "metadata": {
    "ExecuteTime": {
     "end_time": "2019-10-24T16:44:14.725745Z",
     "start_time": "2019-10-24T16:44:11.258376Z"
    }
   },
   "outputs": [
    {
     "name": "stdout",
     "output_type": "stream",
     "text": [
      "2589\n",
      "3\n"
     ]
    }
   ],
   "source": [
    "# 2.6 Циклы (while, for). Exercise 5\n",
    "#Считайте натуральное число n\n",
    "#Найдите самый маленький натуральный делитель числа n, отличный от 1 (2 <= n <= 30000).\n",
    "num = int(input())\n",
    "for i in range(2, round(num**0.5)):\n",
    "    if num%i==0:\n",
    "        print(i)\n",
    "        break"
   ]
  },
  {
   "cell_type": "code",
   "execution_count": 13,
   "metadata": {
    "ExecuteTime": {
     "end_time": "2019-10-24T16:50:07.212718Z",
     "start_time": "2019-10-24T16:50:05.419496Z"
    }
   },
   "outputs": [
    {
     "name": "stdout",
     "output_type": "stream",
     "text": [
      "-5\n",
      "1\n",
      "8\n",
      "27\n",
      "64\n"
     ]
    }
   ],
   "source": [
    "# 2.6 Циклы (while, for). Exercise 6\n",
    "#Считайте целое число n\n",
    "#Напечатайте кубы всех натуральных чисел, меньших |n|, каждое с новой строки.\n",
    "import math\n",
    "num = int(input())\n",
    "\n",
    "for i in range(1,round(math.fabs(num))):\n",
    "    print(i**3)"
   ]
  },
  {
   "cell_type": "code",
   "execution_count": 16,
   "metadata": {
    "ExecuteTime": {
     "end_time": "2019-10-24T16:55:51.970453Z",
     "start_time": "2019-10-24T16:55:51.966454Z"
    }
   },
   "outputs": [
    {
     "name": "stdout",
     "output_type": "stream",
     "text": [
      "Hello, fff!\n"
     ]
    }
   ],
   "source": [
    "def Hello(name = '%UserName%'):\n",
    "    print(f'Hello, {name}!')\n",
    "    \n",
    "Hello('fff')"
   ]
  },
  {
   "cell_type": "code",
   "execution_count": 21,
   "metadata": {
    "ExecuteTime": {
     "end_time": "2019-10-24T17:12:47.005420Z",
     "start_time": "2019-10-24T17:12:47.000421Z"
    }
   },
   "outputs": [
    {
     "data": {
      "text/plain": [
       "15"
      ]
     },
     "execution_count": 21,
     "metadata": {},
     "output_type": "execute_result"
    }
   ],
   "source": [
    "# 2.7 Функции Exercise 3\n",
    "# Напишите функцию, для нахождения двойного факториала числа dfactorial(n).\n",
    "\n",
    "def dfactorial(n):\n",
    "    if n>1:\n",
    "        return n*dfactorial(n-2)\n",
    "    else:\n",
    "        return 1\n",
    "    \n",
    "dfactorial(5)"
   ]
  },
  {
   "cell_type": "code",
   "execution_count": 25,
   "metadata": {
    "ExecuteTime": {
     "end_time": "2019-10-24T17:20:20.178726Z",
     "start_time": "2019-10-24T17:20:20.172727Z"
    }
   },
   "outputs": [
    {
     "data": {
      "text/plain": [
       "80"
      ]
     },
     "execution_count": 25,
     "metadata": {},
     "output_type": "execute_result"
    }
   ],
   "source": [
    "# 2.7 Функции Exercise 4\n",
    "# Напишите функцию для нахождения кратного факториала числа Kfactorial.\n",
    "\n",
    "\n",
    "def Kfactorial(n, k=1):\n",
    "    if n > k:\n",
    "        return n*Kfactorial(n-k, k)\n",
    "    elif n > 1:\n",
    "        return n\n",
    "    else:\n",
    "        return 1\n",
    "\n",
    "\n",
    "Kfactorial(8, 3)"
   ]
  },
  {
   "cell_type": "code",
   "execution_count": 32,
   "metadata": {
    "ExecuteTime": {
     "end_time": "2019-10-24T17:28:30.297661Z",
     "start_time": "2019-10-24T17:28:30.292662Z"
    }
   },
   "outputs": [
    {
     "name": "stdout",
     "output_type": "stream",
     "text": [
      "[1, 2, 3, 4, 5, 6]\n",
      "<class 'str'>\n"
     ]
    }
   ],
   "source": [
    "# 2.7 Функции Exercise 5\n",
    "#Напишите функцию convert(L), принимающую на вход список, состоящий из чисел и строк \n",
    "#и возвращающую список целых чисел (в том же порядке):\n",
    "\n",
    "def convert(L):\n",
    "    outlist=[]\n",
    "    for a in L:\n",
    "        if type(a)==str:\n",
    "            outlist.append(int(a))\n",
    "        else:\n",
    "            outlist.append(a)\n",
    "    return outlist\n",
    "            \n",
    "print(convert([1, 2, '3', '4', '5', 6]))   \n",
    "print(type('3'))\n",
    "                    "
   ]
  },
  {
   "cell_type": "code",
   "execution_count": 18,
   "metadata": {
    "ExecuteTime": {
     "end_time": "2019-10-31T18:52:25.003373Z",
     "start_time": "2019-10-31T18:52:24.997365Z"
    }
   },
   "outputs": [
    {
     "name": "stdout",
     "output_type": "stream",
     "text": [
      "0 - \n",
      "1 - 1\n",
      "2 - 2\n",
      "3 - 10\n",
      "4 - 11\n",
      "5 - 12\n",
      "6 - 20\n"
     ]
    }
   ],
   "source": [
    "# 2.7 Функции Exercise 6\n",
    "# Напишите функцию перевода числа из десятичной системы счисления в систему с основанием n\n",
    "# Функция translate должна принимать 2 параметра:\n",
    "\n",
    "\n",
    "def translate(num, osn=2):\n",
    "    res = ''\n",
    "    while num//osn > 0:\n",
    "        res = str(num % osn)+res\n",
    "        num //= osn\n",
    "    else:\n",
    "        if num > 0:\n",
    "            res = str(num % osn)+res\n",
    "    return res\n",
    "\n",
    "\n",
    "[print(i, '-', translate(i,3)) for i in range(7)];"
   ]
  },
  {
   "cell_type": "code",
   "execution_count": 22,
   "metadata": {
    "ExecuteTime": {
     "end_time": "2019-10-31T18:58:57.525770Z",
     "start_time": "2019-10-31T18:58:57.520768Z"
    }
   },
   "outputs": [
    {
     "name": "stdout",
     "output_type": "stream",
     "text": [
      "120 34560\n"
     ]
    }
   ],
   "source": [
    "# 2.7 Функции Exercise 7\n",
    "#Напишите 2 функции:\n",
    "#для нахождения факториала числа factorial(n) - n!=1⋅2⋅3⋅…⋅n\n",
    "#для нахождения суперфакториала числа sf(n) - sf(4)=1!⋅2!⋅3!⋅…⋅n!\n",
    "\n",
    "def factorial(n):\n",
    "    fact =1\n",
    "    \n",
    "    while n:\n",
    "        fact *= n\n",
    "        n -= 1\n",
    "    return fact\n",
    "    \n",
    "\n",
    "def sf(n):\n",
    "    fact =1\n",
    "    m = n +1\n",
    "    while n:\n",
    "        fact *= n**(m-n)\n",
    "        n -= 1\n",
    "    return fact\n",
    "i=5\n",
    "print(factorial(i), sf(i))"
   ]
  },
  {
   "cell_type": "code",
   "execution_count": null,
   "metadata": {},
   "outputs": [],
   "source": []
  }
 ],
 "metadata": {
  "kernelspec": {
   "display_name": "Python 3",
   "language": "python",
   "name": "python3"
  },
  "language_info": {
   "codemirror_mode": {
    "name": "ipython",
    "version": 3
   },
   "file_extension": ".py",
   "mimetype": "text/x-python",
   "name": "python",
   "nbconvert_exporter": "python",
   "pygments_lexer": "ipython3",
   "version": "3.6.4"
  }
 },
 "nbformat": 4,
 "nbformat_minor": 2
}
