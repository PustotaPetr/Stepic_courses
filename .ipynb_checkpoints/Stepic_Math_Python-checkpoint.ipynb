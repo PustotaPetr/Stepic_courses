{
 "cells": [
  {
   "cell_type": "markdown",
   "metadata": {},
   "source": [
    "Задачи к курсу на Stepic \"Практикум по математике и Python\" https://stepik.org/course/3356"
   ]
  },
  {
   "cell_type": "code",
   "execution_count": 3,
   "metadata": {
    "ExecuteTime": {
     "end_time": "2019-10-17T17:37:41.098892Z",
     "start_time": "2019-10-17T17:37:39.109999Z"
    }
   },
   "outputs": [
    {
     "name": "stdout",
     "output_type": "stream",
     "text": [
      "8\n",
      "400\n"
     ]
    }
   ],
   "source": [
    "# 2.2 Математические операции Exercise 6\n",
    "\n",
    "from math import *\n",
    "a = int(input())\n",
    "\n",
    "s = 3*a*a + sqrt(3)*3*a*a/2 + 6 * a*a*(3**0.5)/16\n",
    "print(round(s))"
   ]
  },
  {
   "cell_type": "code",
   "execution_count": 5,
   "metadata": {
    "ExecuteTime": {
     "end_time": "2019-10-17T17:43:14.752433Z",
     "start_time": "2019-10-17T17:43:12.537406Z"
    }
   },
   "outputs": [
    {
     "name": "stdout",
     "output_type": "stream",
     "text": [
      "1\n",
      "20.65\n",
      "7.66\n"
     ]
    }
   ],
   "source": [
    "# 2.2 Математические операции Exercise 7\n",
    "# додекаэдр\n",
    "from math import *\n",
    "a = int(input())\n",
    "\n",
    "V = a**3* (15+7*sqrt(5))/4\n",
    "S = 3*a**2 * sqrt(5*(5+2*sqrt(5)))\n",
    "print(round(S,2))\n",
    "print(round(V,2))"
   ]
  },
  {
   "cell_type": "code",
   "execution_count": 7,
   "metadata": {
    "ExecuteTime": {
     "end_time": "2019-10-17T18:15:41.291808Z",
     "start_time": "2019-10-17T18:15:33.254456Z"
    }
   },
   "outputs": [
    {
     "name": "stdout",
     "output_type": "stream",
     "text": [
      "100\n",
      "10\n",
      "10\n",
      "50\n",
      "250\n"
     ]
    }
   ],
   "source": [
    "# 2.2 Математические операции Exercise 8\n",
    "# Задача фон Неймана о мухе и поездах\n",
    "L, v1, v2, vm = (int(input()) for i in range(4))\n",
    "\n",
    "print (round(L*vm/(v1+v2)))"
   ]
  },
  {
   "cell_type": "code",
   "execution_count": 11,
   "metadata": {
    "ExecuteTime": {
     "end_time": "2019-10-17T18:22:17.359460Z",
     "start_time": "2019-10-17T18:22:15.157727Z"
    }
   },
   "outputs": [
    {
     "name": "stdout",
     "output_type": "stream",
     "text": [
      "5 0 3\n",
      "8\n"
     ]
    }
   ],
   "source": [
    "# 2.3 Массивы Exercise 1\n",
    "print(sum (map(int,input().split())))"
   ]
  },
  {
   "cell_type": "code",
   "execution_count": 14,
   "metadata": {
    "ExecuteTime": {
     "end_time": "2019-10-17T18:26:01.966634Z",
     "start_time": "2019-10-17T18:25:47.895584Z"
    }
   },
   "outputs": [
    {
     "name": "stdout",
     "output_type": "stream",
     "text": [
      "8 1 9\n",
      "2 3 2\n",
      "18#7\n"
     ]
    }
   ],
   "source": [
    "# 2.3 Массивы Exercise 2\n",
    "print( \"#\".join([str(sum(map(int,input().split()))) for i in range(2)]))"
   ]
  },
  {
   "cell_type": "code",
   "execution_count": 15,
   "metadata": {
    "ExecuteTime": {
     "end_time": "2019-10-17T18:28:05.223621Z",
     "start_time": "2019-10-17T18:27:59.931327Z"
    }
   },
   "outputs": [
    {
     "name": "stdout",
     "output_type": "stream",
     "text": [
      "one&One&one\n",
      "One one\n"
     ]
    }
   ],
   "source": [
    "# 2.3 Массивы Exercise 3\n",
    "a = set(input().split(\"&\"))\n",
    "print(*a)"
   ]
  },
  {
   "cell_type": "code",
   "execution_count": 3,
   "metadata": {
    "ExecuteTime": {
     "end_time": "2019-10-18T07:40:07.001144Z",
     "start_time": "2019-10-18T07:40:03.559114Z"
    }
   },
   "outputs": [
    {
     "name": "stdout",
     "output_type": "stream",
     "text": [
      "And this is some long line, which consists of a set of words\n",
      "this is of\n"
     ]
    }
   ],
   "source": [
    "# 2.3 Массивы Exercise 4\n",
    "l = input().split()\n",
    "print(*l[1:3], l[-2])"
   ]
  },
  {
   "cell_type": "code",
   "execution_count": 4,
   "metadata": {
    "ExecuteTime": {
     "end_time": "2019-10-18T07:41:55.896133Z",
     "start_time": "2019-10-18T07:41:48.096040Z"
    }
   },
   "outputs": [
    {
     "name": "stdout",
     "output_type": "stream",
     "text": [
      "one two three four five six\n",
      "six-$-five-$-four-$-three-$-two-$-one\n"
     ]
    }
   ],
   "source": [
    "# 2.3 Массивы Exercise 5\n",
    "l = input().split()\n",
    "print('-$-'.join(l[::-1]))"
   ]
  },
  {
   "cell_type": "code",
   "execution_count": 6,
   "metadata": {
    "ExecuteTime": {
     "end_time": "2019-10-18T07:45:06.206884Z",
     "start_time": "2019-10-18T07:45:03.885946Z"
    }
   },
   "outputs": [
    {
     "name": "stdout",
     "output_type": "stream",
     "text": [
      "one cat and one dog are friends\n",
      "7 2\n"
     ]
    }
   ],
   "source": [
    "# 2.3 Массивы Exercise 6\n",
    "l = input().split()\n",
    "print(len(l), l.count('one'))"
   ]
  },
  {
   "cell_type": "code",
   "execution_count": 8,
   "metadata": {
    "ExecuteTime": {
     "end_time": "2019-10-18T07:56:24.987236Z",
     "start_time": "2019-10-18T07:56:22.951715Z"
    }
   },
   "outputs": [
    {
     "name": "stdout",
     "output_type": "stream",
     "text": [
      "99 234 34 1 0 -5 55 666 42\n",
      "1126\n"
     ]
    }
   ],
   "source": [
    "# 2.3 Массивы Exercise 7\n",
    "\n",
    "l = map(int,input().split())\n",
    "print(sum(l))"
   ]
  },
  {
   "cell_type": "code",
   "execution_count": 14,
   "metadata": {
    "ExecuteTime": {
     "end_time": "2019-10-18T09:32:54.351780Z",
     "start_time": "2019-10-18T09:32:54.347750Z"
    }
   },
   "outputs": [
    {
     "name": "stdout",
     "output_type": "stream",
     "text": [
      "['mix', 'extra', '', 'x-files', 'xyz', 'xapple', 'apple']\n"
     ]
    }
   ],
   "source": [
    "# 2.4 Строки Exercise 5\n",
    "s = \"['mix', 'extra', '', 'x-files', 'xyz', 'xapple', 'apple']\"\n",
    "l= s[1:-1].replace(' ','').split(',')\n",
    "L = list(map(lambda x: x[1:-1], l))\n",
    "print(l)"
   ]
  },
  {
   "cell_type": "code",
   "execution_count": 19,
   "metadata": {
    "ExecuteTime": {
     "end_time": "2019-10-18T09:49:15.732351Z",
     "start_time": "2019-10-18T09:49:13.633386Z"
    }
   },
   "outputs": [
    {
     "name": "stdout",
     "output_type": "stream",
     "text": [
      "1\n",
      "I\n"
     ]
    }
   ],
   "source": [
    "# 2.5 Условия (if, elif, else) Exercise 1\n",
    "\n",
    "d = {'1' : 'I', '5' : 'V', '10' : 'X', '50' : 'L' , '100' : 'C' , '500' : 'D', '1000' : 'M'}\n",
    "print(d[input()])"
   ]
  },
  {
   "cell_type": "code",
   "execution_count": 22,
   "metadata": {
    "ExecuteTime": {
     "end_time": "2019-10-18T10:01:58.674388Z",
     "start_time": "2019-10-18T10:01:55.847271Z"
    }
   },
   "outputs": [
    {
     "name": "stdout",
     "output_type": "stream",
     "text": [
      "3\n",
      "4\n",
      "1.3333333333333333\n"
     ]
    }
   ],
   "source": [
    "# 2.5 Условия (if, elif, else)  Exercise 2\n",
    "a=int(input())\n",
    "if  a == 0:\n",
    "    print('Division by zero!')\n",
    "else:\n",
    "    print(round(int(input())/a,1)"
   ]
  },
  {
   "cell_type": "code",
   "execution_count": null,
   "metadata": {},
   "outputs": [],
   "source": [
    "# 2.5 Условия (if, elif, else)  Exercise 3\n",
    "\n",
    "c = input()\n",
    "if c == 'int':\n",
    "    a = int(input())\n",
    "    b = int(input())\n",
    "    if a or b:\n",
    "        print (a+b)\n",
    "    else :\n",
    "        print (\"Empty Ints\")     \n",
    "elif c == 'str':\n",
    "    a = input()\n",
    "    if a:\n",
    "        print(a)\n",
    "    else:\n",
    "        print (\"Empty String\") \n",
    "elif c == 'list':\n",
    "    a = input().split()\n",
    "    if a:\n",
    "        print (a[-1])\n",
    "    else:\n",
    "        print (\"Empty List\")\n",
    "else:\n",
    "    print (\"Unknown type\")"
   ]
  },
  {
   "cell_type": "code",
   "execution_count": null,
   "metadata": {},
   "outputs": [],
   "source": [
    "# 2.6 Циклы (while, for). Exercise 3\n",
    "# Считывайте целые числа из потока ввода по одному до тех пор, пока не встретите строку \"The End\".\n",
    "# Выведите на печать сумму считанных чисел.\n",
    "import sys\n",
    "count = 0\n",
    "for line in sys.stdin:\n",
    "    if line.strip() == 'The End':\n",
    "        break\n",
    "    count += int(line)\n",
    "\n",
    "print(count)"
   ]
  },
  {
   "cell_type": "code",
   "execution_count": null,
   "metadata": {},
   "outputs": [],
   "source": [
    "# 2.6 Циклы (while, for). Exercise 4\n",
    "#На вход подаётся строка, некоторые слова в которой \"испорчены\".\n",
    "#Признак \"испорченного\" слова - 1я буква в нём заменена на * .\n",
    "#Выведете на печать только \"не испорченные\" слова, каждое с новой строки\n",
    "\n",
    "words=input().strip().split()\n",
    "for word in words:\n",
    "    if word[0] != '*':\n",
    "        print(word)"
   ]
  },
  {
   "cell_type": "code",
   "execution_count": 5,
   "metadata": {
    "ExecuteTime": {
     "end_time": "2019-10-24T16:44:14.725745Z",
     "start_time": "2019-10-24T16:44:11.258376Z"
    }
   },
   "outputs": [
    {
     "name": "stdout",
     "output_type": "stream",
     "text": [
      "2589\n",
      "3\n"
     ]
    }
   ],
   "source": [
    "# 2.6 Циклы (while, for). Exercise 5\n",
    "#Считайте натуральное число n\n",
    "#Найдите самый маленький натуральный делитель числа n, отличный от 1 (2 <= n <= 30000).\n",
    "num = int(input())\n",
    "for i in range(2, round(num**0.5)):\n",
    "    if num%i==0:\n",
    "        print(i)\n",
    "        break"
   ]
  },
  {
   "cell_type": "code",
   "execution_count": 13,
   "metadata": {
    "ExecuteTime": {
     "end_time": "2019-10-24T16:50:07.212718Z",
     "start_time": "2019-10-24T16:50:05.419496Z"
    }
   },
   "outputs": [
    {
     "name": "stdout",
     "output_type": "stream",
     "text": [
      "-5\n",
      "1\n",
      "8\n",
      "27\n",
      "64\n"
     ]
    }
   ],
   "source": [
    "# 2.6 Циклы (while, for). Exercise 6\n",
    "#Считайте целое число n\n",
    "#Напечатайте кубы всех натуральных чисел, меньших |n|, каждое с новой строки.\n",
    "import math\n",
    "num = int(input())\n",
    "\n",
    "for i in range(1,round(math.fabs(num))):\n",
    "    print(i**3)"
   ]
  },
  {
   "cell_type": "code",
   "execution_count": 16,
   "metadata": {
    "ExecuteTime": {
     "end_time": "2019-10-24T16:55:51.970453Z",
     "start_time": "2019-10-24T16:55:51.966454Z"
    }
   },
   "outputs": [
    {
     "name": "stdout",
     "output_type": "stream",
     "text": [
      "Hello, fff!\n"
     ]
    }
   ],
   "source": [
    "def Hello(name = '%UserName%'):\n",
    "    print(f'Hello, {name}!')\n",
    "    \n",
    "Hello('fff')"
   ]
  },
  {
   "cell_type": "code",
   "execution_count": 21,
   "metadata": {
    "ExecuteTime": {
     "end_time": "2019-10-24T17:12:47.005420Z",
     "start_time": "2019-10-24T17:12:47.000421Z"
    }
   },
   "outputs": [
    {
     "data": {
      "text/plain": [
       "15"
      ]
     },
     "execution_count": 21,
     "metadata": {},
     "output_type": "execute_result"
    }
   ],
   "source": [
    "# 2.7 Функции Exercise 3\n",
    "# Напишите функцию, для нахождения двойного факториала числа dfactorial(n).\n",
    "\n",
    "def dfactorial(n):\n",
    "    if n>1:\n",
    "        return n*dfactorial(n-2)\n",
    "    else:\n",
    "        return 1\n",
    "    \n",
    "dfactorial(5)"
   ]
  },
  {
   "cell_type": "code",
   "execution_count": 25,
   "metadata": {
    "ExecuteTime": {
     "end_time": "2019-10-24T17:20:20.178726Z",
     "start_time": "2019-10-24T17:20:20.172727Z"
    }
   },
   "outputs": [
    {
     "data": {
      "text/plain": [
       "80"
      ]
     },
     "execution_count": 25,
     "metadata": {},
     "output_type": "execute_result"
    }
   ],
   "source": [
    "# 2.7 Функции Exercise 4\n",
    "# Напишите функцию для нахождения кратного факториала числа Kfactorial.\n",
    "\n",
    "\n",
    "def Kfactorial(n, k=1):\n",
    "    if n > k:\n",
    "        return n*Kfactorial(n-k, k)\n",
    "    elif n > 1:\n",
    "        return n\n",
    "    else:\n",
    "        return 1\n",
    "\n",
    "\n",
    "Kfactorial(8, 3)"
   ]
  },
  {
   "cell_type": "code",
   "execution_count": 1,
   "metadata": {
    "ExecuteTime": {
     "end_time": "2019-11-25T06:39:52.279631Z",
     "start_time": "2019-11-25T06:39:52.263637Z"
    }
   },
   "outputs": [
    {
     "name": "stdout",
     "output_type": "stream",
     "text": [
      "[1, 2, 3, 4, 5, 6]\n",
      "<class 'str'>\n"
     ]
    }
   ],
   "source": [
    "# 2.7 Функции Exercise 5\n",
    "#Напишите функцию convert(L), принимающую на вход список, состоящий из чисел и строк \n",
    "#и возвращающую список целых чисел (в том же порядке):\n",
    "\n",
    "def convert(L):\n",
    "    outlist=[]\n",
    "    for a in L:\n",
    "        if type(a)==str:\n",
    "            outlist.append(int(a))\n",
    "        else:\n",
    "            outlist.append(a)\n",
    "    return outlist\n",
    "            \n",
    "print(convert([1, 2, '3', '4', '5', 6]))   \n",
    "print(type('3'))\n",
    "                    "
   ]
  },
  {
   "cell_type": "code",
   "execution_count": 18,
   "metadata": {
    "ExecuteTime": {
     "end_time": "2019-10-31T18:52:25.003373Z",
     "start_time": "2019-10-31T18:52:24.997365Z"
    }
   },
   "outputs": [
    {
     "name": "stdout",
     "output_type": "stream",
     "text": [
      "0 - \n",
      "1 - 1\n",
      "2 - 2\n",
      "3 - 10\n",
      "4 - 11\n",
      "5 - 12\n",
      "6 - 20\n"
     ]
    }
   ],
   "source": [
    "# 2.7 Функции Exercise 6\n",
    "# Напишите функцию перевода числа из десятичной системы счисления в систему с основанием n\n",
    "# Функция translate должна принимать 2 параметра:\n",
    "\n",
    "\n",
    "def translate(num, osn=2):\n",
    "    res = ''\n",
    "    while num//osn > 0:\n",
    "        res = str(num % osn)+res\n",
    "        num //= osn\n",
    "    else:\n",
    "        if num > 0:\n",
    "            res = str(num % osn)+res\n",
    "    return res\n",
    "\n",
    "\n",
    "[print(i, '-', translate(i,3)) for i in range(7)];"
   ]
  },
  {
   "cell_type": "code",
   "execution_count": 22,
   "metadata": {
    "ExecuteTime": {
     "end_time": "2019-10-31T18:58:57.525770Z",
     "start_time": "2019-10-31T18:58:57.520768Z"
    }
   },
   "outputs": [
    {
     "name": "stdout",
     "output_type": "stream",
     "text": [
      "120 34560\n"
     ]
    }
   ],
   "source": [
    "# 2.7 Функции Exercise 7\n",
    "#Напишите 2 функции:\n",
    "#для нахождения факториала числа factorial(n) - n!=1⋅2⋅3⋅…⋅n\n",
    "#для нахождения суперфакториала числа sf(n) - sf(4)=1!⋅2!⋅3!⋅…⋅n!\n",
    "\n",
    "def factorial(n):\n",
    "    fact =1\n",
    "    \n",
    "    while n:\n",
    "        fact *= n\n",
    "        n -= 1\n",
    "    return fact\n",
    "    \n",
    "\n",
    "def sf(n):\n",
    "    fact =1\n",
    "    m = n +1\n",
    "    while n:\n",
    "        fact *= n**(m-n)\n",
    "        n -= 1\n",
    "    return fact\n",
    "i=5\n",
    "print(factorial(i), sf(i))"
   ]
  },
  {
   "cell_type": "code",
   "execution_count": 2,
   "metadata": {
    "ExecuteTime": {
     "end_time": "2019-11-25T06:42:46.339370Z",
     "start_time": "2019-11-25T06:42:46.335381Z"
    }
   },
   "outputs": [
    {
     "name": "stdout",
     "output_type": "stream",
     "text": [
      "2\n"
     ]
    }
   ],
   "source": [
    "# 2.7 Функции Exercise 7\n",
    "#Напишите функцию maxId(L), принимающую на вход список чисел и строк вида:\n",
    "#[1, 2, '42', '3', '4', '5', 6, 13]\n",
    "#без повторений, и находящую индекс максимального целого числа в списке.\n",
    "#Используйте ранее написанную функцию convert(L).\n",
    "\n",
    "def maxId(L):\n",
    "    M=convert(L)\n",
    "    return M.index(max(M))\n",
    "    \n",
    "\n",
    "\n",
    "L=[1, 2, '42', '3', '4', '5', 6, 13]\n",
    "\n",
    "print(maxId(L))"
   ]
  },
  {
   "cell_type": "code",
   "execution_count": 1,
   "metadata": {
    "ExecuteTime": {
     "end_time": "2019-11-25T09:31:46.664157Z",
     "start_time": "2019-11-25T09:31:46.658158Z"
    }
   },
   "outputs": [
    {
     "name": "stdout",
     "output_type": "stream",
     "text": [
      "3.141592653589793\n"
     ]
    }
   ],
   "source": [
    "# 3.2 ДЗ семинара 1. Exercise 1\n",
    "#Реализуйте функцию f(x):\n",
    "#f(x)=2arctg(x) \n",
    "#Найдите предел функции (ответ округлите до 3 знака после запятой) при x→+∞\n",
    "\n",
    "import math\n",
    "\n",
    "def f(x):\n",
    "    return 2*math.atan(x)\n",
    "\n",
    "print(f(math.inf))"
   ]
  },
  {
   "cell_type": "code",
   "execution_count": 6,
   "metadata": {
    "ExecuteTime": {
     "end_time": "2019-11-25T09:51:22.276098Z",
     "start_time": "2019-11-25T09:51:22.271100Z"
    }
   },
   "outputs": [
    {
     "name": "stdout",
     "output_type": "stream",
     "text": [
      "20.086\n"
     ]
    }
   ],
   "source": [
    "# 3.2 ДЗ семинара 1. Exercise 2\n",
    "#Проверьте (для нескольких разных точек), что производная от ex совпадает с исходной функцией, т.е. (ex)′=ex.\n",
    "#Для этого реализуйте функцию def_e(x), находящую численное значение производной (с точностью до 3 знака) в точке x.\n",
    "\n",
    "import math\n",
    "\n",
    "def f(x):\n",
    "    return math.exp(x)\n",
    "\n",
    "def def_e(x):\n",
    "    d_x = 0.000001\n",
    "    return round((f(x+d_x)-f(x))/d_x,3)\n",
    "    #your code\n",
    "    \n",
    "print(def_e(3))\n"
   ]
  },
  {
   "cell_type": "code",
   "execution_count": 10,
   "metadata": {
    "ExecuteTime": {
     "end_time": "2019-11-25T12:10:40.756069Z",
     "start_time": "2019-11-25T12:10:38.591565Z"
    }
   },
   "outputs": [
    {
     "name": "stdout",
     "output_type": "stream",
     "text": [
      "100\n",
      "735\n"
     ]
    }
   ],
   "source": [
    "# 3.2 ДЗ семинара 1. Exercise 6\n",
    "#Считайте строку (используйте input()), содержащую 1 натуральное число n\n",
    "#Найдите сумму всех чисел от 0 до n, которые делятся на 5, но не делятся на 3\n",
    "\n",
    "n = int(input())\n",
    "s = 0\n",
    "\n",
    "for i in range(1,n+1):\n",
    "    if (i % 5==0) and (i%3 != 0):\n",
    "        s += i\n",
    "\n",
    "print(s)\n"
   ]
  },
  {
   "cell_type": "code",
   "execution_count": 11,
   "metadata": {
    "ExecuteTime": {
     "end_time": "2019-11-25T12:13:29.156047Z",
     "start_time": "2019-11-25T12:13:29.150061Z"
    }
   },
   "outputs": [
    {
     "name": "stdout",
     "output_type": "stream",
     "text": [
      "[0, 19, 42]\n"
     ]
    }
   ],
   "source": [
    "# 3.2 ДЗ семинара 1. Exercise 7\n",
    "#Напишите функцию common(list_a, list_b), возвращающую список общих элементов 2 списков (порядок не важен). \n",
    "\n",
    "def common(list_a, list_b):\n",
    "    return [x for x in list_a if x in list_b]\n",
    "\n",
    "list_a = [0, 2, 3, 4, 5, 19, 42]\n",
    "list_b = [0, 6, 19, 33, 42, 55, 66, 77, 99, 101, 256]\n",
    "print(common(list_a, list_b))"
   ]
  },
  {
   "cell_type": "code",
   "execution_count": 17,
   "metadata": {
    "ExecuteTime": {
     "end_time": "2019-11-25T12:56:33.329984Z",
     "start_time": "2019-11-25T12:56:33.323985Z"
    }
   },
   "outputs": [
    {
     "name": "stdout",
     "output_type": "stream",
     "text": [
      "['x-files', 'xapple', 'xyz', '', 'apple', 'extra', 'mix']\n"
     ]
    }
   ],
   "source": [
    "# 3.2 ДЗ семинара 1. Exercise 8\n",
    "#Напишите функцию front_x(words), которая на вход принимает список строк и возвращает отсортированный по правилам:\n",
    "#слова, начинающиеся с символа \"x\", идут первыми\n",
    "#в лексикографическом порядке.\n",
    "\n",
    "l = ['x-files', 'xapple', 'xyz', '', 'apple', 'extra', 'mix']\n",
    "\n",
    "def front_x(words):\n",
    "    #your code\n",
    "    with_x = [x for x in words if x and x[0] == 'x']\n",
    "    without_x = [x for x in words if not(x) or x[0] != 'x']\n",
    "    return sorted(with_x)+sorted(without_x)\n",
    "\n",
    "print(front_x(l))"
   ]
  },
  {
   "cell_type": "code",
   "execution_count": 19,
   "metadata": {
    "ExecuteTime": {
     "end_time": "2019-11-25T13:03:18.833707Z",
     "start_time": "2019-11-25T13:03:18.829706Z"
    }
   },
   "outputs": [
    {
     "name": "stdout",
     "output_type": "stream",
     "text": [
      "34\n"
     ]
    }
   ],
   "source": [
    "# 3.2 ДЗ семинара 1. Exercise 9\n",
    "\n",
    "def fib(n):\n",
    "    if n==0:\n",
    "        return 0\n",
    "    elif n ==1 :\n",
    "        return 1\n",
    "    else: \n",
    "        return fib(n-1)+fib(n-2)\n",
    "    \n",
    "print(fib(9))"
   ]
  },
  {
   "cell_type": "code",
   "execution_count": 32,
   "metadata": {
    "ExecuteTime": {
     "end_time": "2019-11-25T13:55:41.526063Z",
     "start_time": "2019-11-25T13:55:41.521065Z"
    }
   },
   "outputs": [
    {
     "name": "stdout",
     "output_type": "stream",
     "text": [
      "[True, True, False, False, True, False, False, True, False]\n"
     ]
    }
   ],
   "source": [
    "# 3.2 ДЗ семинара 1. Exercise 10\n",
    "#Напишите функцию is_prime(n), проверяющую простое ли число. Если число простое, функция должна вернуть True, иначе False (логическое значение, не строку!).\n",
    "\n",
    "def is_prime(n):\n",
    "    res = True\n",
    "    for x in range(2,round(n**0.5)+1):\n",
    "        if n%x==0:\n",
    "            res=False\n",
    "            break\n",
    "    return res\n",
    "\n",
    "l= [2,3,4, 6,7, 15, 99 , 103, 95723527676256289111]\n",
    "\n",
    "print([is_prime(x) for x in l])\n",
    "    #your code\n"
   ]
  },
  {
   "cell_type": "code",
   "execution_count": 34,
   "metadata": {
    "ExecuteTime": {
     "end_time": "2019-11-25T14:00:37.691239Z",
     "start_time": "2019-11-25T14:00:35.439994Z"
    }
   },
   "outputs": [
    {
     "name": "stdout",
     "output_type": "stream",
     "text": [
      "10\n",
      "Всего пончиков: много\n"
     ]
    }
   ],
   "source": [
    "# 3.2 ДЗ семинара 1. Exercise 11\n",
    "\n",
    "n = int(input())\n",
    "def donuts(n):\n",
    "    return (\"Всего пончиков: \"+str(n) if n<=9 else \"Всего пончиков: много\")\n",
    "        \n",
    "\n",
    "print(donuts(n))\n"
   ]
  },
  {
   "cell_type": "code",
   "execution_count": 4,
   "metadata": {
    "ExecuteTime": {
     "end_time": "2019-11-25T14:11:22.937113Z",
     "start_time": "2019-11-25T14:11:20.670226Z"
    }
   },
   "outputs": [
    {
     "name": "stdout",
     "output_type": "stream",
     "text": [
      "z\n",
      "\n"
     ]
    }
   ],
   "source": [
    "# 3.2 ДЗ семинара 1. Exercise 12\n",
    "#Напишите функцию, которая принимает на вход строку, а возвращает 2 первых и 2 последних символа. \n",
    "#Если длина исходной строки меньше 2 символов, необходимо вернуть пустую строку. \n",
    "s = input()\n",
    "def both_ends(s):\n",
    "    return '' if len(s)<2 else s[:2]+s[-2:]\n",
    "\n",
    "print(both_ends(s))# Your code"
   ]
  },
  {
   "cell_type": "code",
   "execution_count": 1,
   "metadata": {
    "ExecuteTime": {
     "end_time": "2019-11-26T07:12:35.154932Z",
     "start_time": "2019-11-26T07:12:32.520382Z"
    }
   },
   "outputs": [
    {
     "name": "stdout",
     "output_type": "stream",
     "text": [
      "babble\n",
      "ba**le\n"
     ]
    }
   ],
   "source": [
    "# 3.2 ДЗ семинара 1. Exercise 13\n",
    "# Напишите функцию, принимающую на вход строку, находящую 1й символ и заменяющую все его вхождения в строку кроме 1 на *.\n",
    "\n",
    "s = input()\n",
    "def fix_start(s):\n",
    "    return s[0]+s[1:].replace(s[0],'*')\n",
    "\n",
    "print(fix_start(s))"
   ]
  },
  {
   "cell_type": "code",
   "execution_count": 2,
   "metadata": {
    "ExecuteTime": {
     "end_time": "2019-11-26T07:37:01.159362Z",
     "start_time": "2019-11-26T07:37:01.155380Z"
    }
   },
   "outputs": [],
   "source": [
    "# 4.2 Постоянная Капрекара. Exercise 1\n",
    "#Напишите функцию numerics(n), принимающую на вход 1 натуральное 4х значное число, \n",
    "#а возвращающую список цифр из которых состоит число.\n",
    "\n",
    "def numerics(n):\n",
    "    return list(map(int,list(str(n))))"
   ]
  },
  {
   "cell_type": "code",
   "execution_count": 5,
   "metadata": {
    "ExecuteTime": {
     "end_time": "2019-11-26T07:49:56.727676Z",
     "start_time": "2019-11-26T07:49:56.722678Z"
    }
   },
   "outputs": [
    {
     "name": "stdout",
     "output_type": "stream",
     "text": [
      "4086\n"
     ]
    }
   ],
   "source": [
    "# 4.2 Постоянная Капрекара. Exercise 2\n",
    "#Напишите функцию kaprekar_step(L), принимающую на вход список натуральных чисел (цифр из которых состоит число, \n",
    "#проходящее через процесс Капрекара), проводит 1 шаг сходимости к постоянной Капрекара и возвращает 4х значное число.\n",
    "def kaprekar_step(L):\n",
    "    return int(''.join(map(str,sorted(L,reverse=True))))-int(''.join(map(str,sorted(L))))\n",
    "\n",
    "l= [4, 5, 6, 8]\n",
    "print(kaprekar_step(l))"
   ]
  },
  {
   "cell_type": "code",
   "execution_count": 13,
   "metadata": {
    "ExecuteTime": {
     "end_time": "2019-11-26T08:12:28.573008Z",
     "start_time": "2019-11-26T08:12:28.566011Z"
    }
   },
   "outputs": [
    {
     "name": "stdout",
     "output_type": "stream",
     "text": [
      "6174\n"
     ]
    }
   ],
   "source": [
    "# 4.2 Постоянная Капрекара. Exercise 3\n",
    "# Напишите функцию kaprekar_loop(n), которая принимает целое 4х значное число (больше 1000, содержащее хотя бы\n",
    "# 2 разные цифры), и запускающую \"Процесс Капрекара\", выводящую на печать каждое число цикла с новой строки\n",
    "# до тех пор, пока не будет получено число 6174.\n",
    "\n",
    "\n",
    "def numerics(n):\n",
    "    return list(map(int, list(str(n))))\n",
    "\n",
    "\n",
    "def kaprekar_step(L):\n",
    "    return int(''.join(map(str, sorted(L, reverse=True))))-int(''.join(map(str, sorted(L))))\n",
    "\n",
    "\n",
    "def kaprekar_loop(n):\n",
    "    ks = n\n",
    "    print(ks)\n",
    "    new_ks = kaprekar_step(numerics(n))\n",
    "    while new_ks != ks:\n",
    "        print(new_ks)\n",
    "        new_ks, ks = kaprekar_step(numerics(new_ks)), new_ks\n",
    "\n",
    "    return new_ks\n",
    "\n",
    "\n",
    "kaprekar_loop(6174)"
   ]
  },
  {
   "cell_type": "code",
   "execution_count": 7,
   "metadata": {
    "ExecuteTime": {
     "end_time": "2019-11-27T05:34:45.845635Z",
     "start_time": "2019-11-27T05:34:45.838637Z"
    }
   },
   "outputs": [
    {
     "name": "stdout",
     "output_type": "stream",
     "text": [
      "Ошибка! На вход подано число 1111 - все цифры одинаковые\n"
     ]
    }
   ],
   "source": [
    "# 4.2 Постоянная Капрекара. Exercise 4\n",
    "# kaprekar_loop(n) с валидацией входных данных.\n",
    "# Давайте улучшим нашу функцию kaprekar_loop(n). В документации к постоянной Капрекара мы видим, что процесс\n",
    "# возможен при условии, что:\n",
    "# - число больше 1000\n",
    "# - не все цифры одинаковые\n",
    "\n",
    "\n",
    "def numerics(n):\n",
    "    return list(map(int, list(str(n))))\n",
    "\n",
    "\n",
    "def kaprekar_step(L):\n",
    "    return int(''.join(map(str, sorted(L, reverse=True))))-int(''.join(map(str, sorted(L))))\n",
    "\n",
    "\n",
    "def kaprekar_loop(n):\n",
    "    if n <= 1000:\n",
    "        print(\"Ошибка! На вход подано число 1000\")\n",
    "    elif n % 1111 == 0:\n",
    "        print(f\"Ошибка! На вход подано число {n} - все цифры одинаковые\")\n",
    "    else:\n",
    "        ks = n\n",
    "        print(ks)\n",
    "        new_ks = kaprekar_step(numerics(n))\n",
    "        while new_ks != ks:\n",
    "            print(new_ks)\n",
    "            new_ks, ks = kaprekar_step(numerics(new_ks)), new_ks\n",
    "\n",
    "        return new_ks\n",
    "\n",
    "\n",
    "kaprekar_loop(1111)"
   ]
  },
  {
   "cell_type": "code",
   "execution_count": 8,
   "metadata": {
    "ExecuteTime": {
     "end_time": "2019-11-27T05:50:23.423759Z",
     "start_time": "2019-11-27T05:50:23.419759Z"
    }
   },
   "outputs": [],
   "source": [
    "# 4.2 Постоянная Капрекара. Exercise 5\n",
    "#numerics(n) ver.2\n",
    "#Оказывается, существуют ещё числа, аналогичные постоянной Капрекара 6174 (трёх- и шестизначные).\n",
    "#Давайте улучшим нашу функцию numerics(n) из 1 задачи, научим её превращать в список цифр любое число.\n",
    "#Напишите функцию numerics(n), принимающую на вход 1 натуральное число, а возвращающую список цифр из которых состоит число.\n",
    "\n",
    "def numerics(n):\n",
    "    return list(map(int,list(str(n))))"
   ]
  },
  {
   "cell_type": "code",
   "execution_count": 13,
   "metadata": {
    "ExecuteTime": {
     "end_time": "2019-11-27T06:36:25.403394Z",
     "start_time": "2019-11-27T06:36:25.396396Z"
    }
   },
   "outputs": [
    {
     "name": "stdout",
     "output_type": "stream",
     "text": [
      "100  ----  False\n",
      "111  ----  False\n",
      "555  ----  False\n",
      "234  ----  True\n",
      "1000  ----  False\n",
      "1111  ----  False\n",
      "8888  ----  False\n",
      "4573  ----  True\n"
     ]
    }
   ],
   "source": [
    "# 4.2 Постоянная Капрекара. Exercise 6\n",
    "#Напишите функцию kaprekar_check(n), принимающую на вход 1 натуральное число, а возвращающую логическое значение \n",
    "#(True или False) в зависимости от предварительной проверки на возможность прохождения Процесса Капрекара для него.\n",
    "#Критерии возможности:\n",
    "#число 3, 4 или 6 значное\n",
    "#не все цифры в числе одинаковые\n",
    "#число не равно 100, 1000 или 100000\n",
    "\n",
    "def numerics(n):\n",
    "    return list(map(int,list(str(n))))\n",
    "\n",
    "def kaprekar_check(n):\n",
    "    list_n = sorted(numerics(n))\n",
    "    if len(list_n)==3 or len(list_n)==4 or len(list_n)==6:\n",
    "        if n/(10**(len(list_n)-1)) == 1:\n",
    "            return False\n",
    "        elif list_n[0] == list_n[-1]:\n",
    "            return False\n",
    "        return True\n",
    "    else:\n",
    "        return False\n",
    "    \n",
    "\n",
    "z= [100, 111, 555, 234, 1000, 1111, 8888, 4573]\n",
    "[print(x, ' ---- ', kaprekar_check(x)) for x in z];"
   ]
  },
  {
   "cell_type": "code",
   "execution_count": 24,
   "metadata": {
    "ExecuteTime": {
     "end_time": "2019-11-27T06:59:42.929800Z",
     "start_time": "2019-11-27T06:59:42.917804Z"
    }
   },
   "outputs": [
    {
     "name": "stdout",
     "output_type": "stream",
     "text": [
      "332336\n",
      "399996\n",
      "629964\n",
      "749943\n",
      "652644\n",
      "420876\n",
      "851742\n",
      "750843\n",
      "840852\n",
      "860832\n",
      "862632\n",
      "642654\n",
      "Следующее число - 420876, кажется процесс зациклился...\n"
     ]
    },
    {
     "data": {
      "text/plain": [
       "420876"
      ]
     },
     "execution_count": 24,
     "metadata": {},
     "output_type": "execute_result"
    }
   ],
   "source": [
    "# 4.2 Постоянная Капрекара. Exercise 8\n",
    "#kaprekar_loop(n) ver.2\n",
    "\n",
    "def numerics(n):\n",
    "    return list(map(int,list(str(n))))\n",
    "\n",
    "def kaprekar_check(n):\n",
    "    list_n = sorted(numerics(n))\n",
    "    if len(list_n)==3 or len(list_n)==4 or len(list_n)==6:\n",
    "        if n/(10**(len(list_n)-1)) == 1:\n",
    "            return False\n",
    "        elif list_n[0] == list_n[-1]:\n",
    "            return False\n",
    "        return True\n",
    "    else:\n",
    "        return False\n",
    "    \n",
    "def kaprekar_step(L):\n",
    "    return int(''.join(map(str, sorted(L, reverse=True))))-int(''.join(map(str, sorted(L))))\n",
    "\n",
    "\n",
    "def kaprekar_loop(n):\n",
    "    if kaprekar_check(n):\n",
    "        ks = n\n",
    "        karp_set = set()\n",
    "        print(ks)\n",
    "        new_ks = kaprekar_step(numerics(n))\n",
    "        karp_set.add(new_ks)\n",
    "        while new_ks != ks:\n",
    "            print(new_ks)\n",
    "            new_ks, ks = kaprekar_step(numerics(new_ks)), new_ks\n",
    "            if new_ks in karp_set and new_ks != ks:\n",
    "                print(f'Следующее число - {new_ks}, кажется процесс зациклился...')\n",
    "                break\n",
    "            else:\n",
    "                karp_set.add(new_ks)\n",
    "\n",
    "        return new_ks\n",
    "    else:\n",
    "        print(f\"Ошибка! На вход подано число {n}, не удовлетворяющее условиям процесса Капрекара\")\n",
    "    \n",
    "    \n",
    "kaprekar_loop(332336)\n"
   ]
  },
  {
   "cell_type": "code",
   "execution_count": 2,
   "metadata": {
    "ExecuteTime": {
     "end_time": "2019-11-27T16:15:55.011079Z",
     "start_time": "2019-11-27T16:15:55.000083Z"
    }
   },
   "outputs": [
    {
     "data": {
      "text/plain": [
       "376485"
      ]
     },
     "execution_count": 2,
     "metadata": {},
     "output_type": "execute_result"
    }
   ],
   "source": [
    "#4.3 Последовательность Люка. Exercise 1\n",
    "#Напишите функцию luka(L0, L1, n), которая принимает на вход параметры:\n",
    "#L0, L1 - 0й и 1й члены последовательности соответственно\n",
    "#n - номер числа из последовательности, которое необходимо вернуть\n",
    "\n",
    "def luka(L0, L1, n):\n",
    "    for _ in range(n):\n",
    "        L1, L0 = L0+L1, L1\n",
    "    return L0\n",
    "\n",
    "luka(12345, 67890, 5)"
   ]
  },
  {
   "cell_type": "code",
   "execution_count": 37,
   "metadata": {
    "ExecuteTime": {
     "end_time": "2019-11-27T07:42:37.215226Z",
     "start_time": "2019-11-27T07:42:37.209218Z"
    }
   },
   "outputs": [
    {
     "name": "stdout",
     "output_type": "stream",
     "text": [
      "1.6176470588235294117647058823529411764705882352941\n"
     ]
    }
   ],
   "source": [
    "#4.3 Последовательность Люка. Exercise 2\n",
    "from decimal import *\n",
    "getcontext().prec = 50\n",
    "\n",
    "def fi(L0, L1, n):\n",
    "    for _ in range(n-1):\n",
    "        L1, L0 = L0+L1, L1\n",
    "    return Decimal(L1)/Decimal(L0)\n",
    "\n",
    "print(fi(0,1,10))"
   ]
  },
  {
   "cell_type": "code",
   "execution_count": 15,
   "metadata": {
    "ExecuteTime": {
     "end_time": "2019-11-27T17:25:53.454786Z",
     "start_time": "2019-11-27T17:25:53.447788Z"
    }
   },
   "outputs": [
    {
     "name": "stdout",
     "output_type": "stream",
     "text": [
      "2828485190904971853895196\n",
      "2828485190904971853895196\n"
     ]
    }
   ],
   "source": [
    "#4.3 Последовательность Люка. Exercise 3\n",
    "\n",
    "def super_L(n):\n",
    "    if n == 0:\n",
    "        return 2\n",
    "    elif n==1:\n",
    "        return 1\n",
    "    elif n%5==0:\n",
    "        n //=5\n",
    "        return super_L(n)**5-5*((-1)**n)*super_L(n)**3+5*super_L(n) \n",
    "    elif  n%3==0:\n",
    "        n //=3\n",
    "        return super_L(n)**3-3*((-1)**n)*super_L(n)\n",
    "    elif  n%2==0:\n",
    "        n //=2\n",
    "        return super_L(n)**2-2*((-1)**n)    \n",
    "    else:\n",
    "        return super_L(n-2)+super_L(n-1)\n",
    "\n",
    "k=117\n",
    "print(luka(2,1,k))\n",
    "print(super_L(k))"
   ]
  },
  {
   "cell_type": "code",
   "execution_count": 18,
   "metadata": {
    "ExecuteTime": {
     "end_time": "2019-11-27T19:17:33.603415Z",
     "start_time": "2019-11-27T19:17:30.998014Z"
    }
   },
   "outputs": [
    {
     "name": "stdout",
     "output_type": "stream",
     "text": [
      "1, 2, 3, 4, 5.0, 6, 7, 8, 9, 10\n",
      "[ 1.  2.  3.  4.  5.  6.  7.  8.  9. 10.]\n",
      "9.0\n",
      "[10.  9.  8.  7.  6.  5.  4.  3.  2.  1.]\n",
      "[ 1.  4.  7. 10.]\n",
      "[0 1 2 3 4 5 6 7 8 9]\n"
     ]
    }
   ],
   "source": [
    "# 6.1 Numpy (основы, справочник по индексам). Exercise 1\n",
    "\n",
    "import numpy as np\n",
    "\n",
    "#l=list(map(float,input().split(', ')))\n",
    "\n",
    "V1 = np.fromstring(input(), sep=', ')\n",
    "V2 = np.array(V1[-2])\n",
    "V3 = V1[::-1]\n",
    "V4 = V1[::3]\n",
    "V5 = np.arange(len(V1))\n",
    "\n",
    "print(V1)\n",
    "print(V2)\n",
    "print(V3)\n",
    "print(V4)\n",
    "print(V5)"
   ]
  },
  {
   "cell_type": "code",
   "execution_count": 19,
   "metadata": {
    "ExecuteTime": {
     "end_time": "2019-11-27T19:30:06.557873Z",
     "start_time": "2019-11-27T19:29:42.495329Z"
    }
   },
   "outputs": [
    {
     "name": "stdout",
     "output_type": "stream",
     "text": [
      "1, 2, 3, 4\n",
      "10, 20, 30, 40\n"
     ]
    }
   ],
   "source": [
    "# 6.1 Numpy (основы, справочник по индексам). Exercise 2\n",
    "import numpy as np\n",
    "\n",
    "V1 = np.fromstring(input(), dtype=np.int, sep=', ')\n",
    "V2 = np.fromstring(input(), dtype=np.int, sep=', ')\n",
    "V3 = V1+V2\n",
    "V4 = V1[::2]*V2[::-2]"
   ]
  },
  {
   "cell_type": "code",
   "execution_count": null,
   "metadata": {},
   "outputs": [],
   "source": [
    "# 6.1 Numpy (основы, справочник по индексам). Exercise 3\n",
    "import numpy as np\n",
    "\n",
    "V1 = np.fromstring(input(), dtype =np.int, sep=', ')\n",
    "V2 = np.fromstring(input(), dtype =np.int, sep=', ')\n",
    "\n",
    "V = V1[V1%V2[-2] == 0]/V2[-2]\n",
    "\n",
    "print(V)"
   ]
  },
  {
   "cell_type": "code",
   "execution_count": 23,
   "metadata": {
    "ExecuteTime": {
     "end_time": "2019-11-27T19:59:33.796975Z",
     "start_time": "2019-11-27T19:59:33.790977Z"
    }
   },
   "outputs": [
    {
     "name": "stdout",
     "output_type": "stream",
     "text": [
      "5.0\n",
      "8.54400374531753\n",
      "7.211102550927978\n"
     ]
    }
   ],
   "source": [
    "# 6.1 Numpy (основы, справочник по индексам). Exercise 4\n",
    "import numpy as np\n",
    "\n",
    "A1 = np.array((-1, 1))\n",
    "A2 = np.array((2, 5))\n",
    "A3 = np.array((5, -3))\n",
    "              \n",
    "def len_seg(a1, a2):\n",
    "    return (sum((a1-a2)*(a1-a2))**0.5)\n",
    "                      \n",
    "a = len_seg(A1,A2)    \n",
    "b = len_seg(A2,A3)  \n",
    "c = len_seg(A1,A3)\n",
    "\n",
    "p = (a+b+c)/2\n",
    "\n",
    "S = (p*(p-a)*(p-b)*(p-c))**0.5\n",
    "print(S)"
   ]
  },
  {
   "cell_type": "code",
   "execution_count": 17,
   "metadata": {
    "ExecuteTime": {
     "end_time": "2019-11-28T06:29:26.419883Z",
     "start_time": "2019-11-28T06:29:26.411885Z"
    }
   },
   "outputs": [
    {
     "name": "stdout",
     "output_type": "stream",
     "text": [
      "After 1 2 \n",
      " [[1.00000000e+00 2.00000000e+00 2.00855369e+01 0.00000000e+00]\n",
      " [4.00000000e+00 5.00000000e+00 4.03428793e+02 0.00000000e+00]\n",
      " [0.00000000e+00 5.00000000e-01 1.64872127e+00 1.22464680e-16]\n",
      " [7.00000000e+00 8.00000000e+00 8.10308393e+03 0.00000000e+00]]\n"
     ]
    },
    {
     "data": {
      "text/plain": [
       "array([[1.00000000e+00, 2.00000000e+00, 2.00855369e+01, 0.00000000e+00],\n",
       "       [4.00000000e+00, 5.00000000e+00, 4.03428793e+02, 0.00000000e+00],\n",
       "       [0.00000000e+00, 5.00000000e-01, 1.64872127e+00, 1.22464680e-16],\n",
       "       [7.00000000e+00, 8.00000000e+00, 8.10308393e+03, 0.00000000e+00]])"
      ]
     },
     "execution_count": 17,
     "metadata": {},
     "output_type": "execute_result"
    }
   ],
   "source": [
    "# 6.1 Numpy (основы, справочник по индексам). Exercise 5\n",
    "import numpy as np\n",
    "\n",
    "M1 = np.array((\n",
    "    (1., 2., 3., 0.),\n",
    "    (4., 5., 6., 0.),\n",
    "    (0., 1., 1., 6.),\n",
    "    (7., 8., 9., 0.)\n",
    "))\n",
    "\n",
    "M2 = M1.copy()\n",
    "#print('Before  \\n',M2)\n",
    "M2[2] = np.sin((M1[2] * np.pi)/6)\n",
    "#print('After 1 \\n',M2)\n",
    "M2[:, 2] = np.exp(M2[:, 2])\n",
    "#print('After 1 2 \\n',M2)\n",
    "#M2.astype(np.float) \n"
   ]
  },
  {
   "cell_type": "code",
   "execution_count": 21,
   "metadata": {
    "ExecuteTime": {
     "end_time": "2019-11-28T07:49:19.001026Z",
     "start_time": "2019-11-28T07:49:18.978033Z"
    }
   },
   "outputs": [
    {
     "data": {
      "text/plain": [
       "'1.16.4'"
      ]
     },
     "execution_count": 21,
     "metadata": {},
     "output_type": "execute_result"
    }
   ],
   "source": [
    "import numpy as np\n",
    "np.__version__\n",
    "#np.show_config()"
   ]
  },
  {
   "cell_type": "code",
   "execution_count": 27,
   "metadata": {
    "ExecuteTime": {
     "end_time": "2019-11-28T08:01:09.432963Z",
     "start_time": "2019-11-28T08:01:09.426976Z"
    }
   },
   "outputs": [
    {
     "data": {
      "text/plain": [
       "array([[[0., 0., 0., 0.],\n",
       "        [0., 0., 0., 0.],\n",
       "        [0., 0., 0., 0.]],\n",
       "\n",
       "       [[0., 0., 0., 0.],\n",
       "        [0., 0., 0., 0.],\n",
       "        [0., 0., 0., 0.]]])"
      ]
     },
     "execution_count": 27,
     "metadata": {},
     "output_type": "execute_result"
    }
   ],
   "source": [
    "# 6.3 numpy-100 (1-10). Exercise 4\n",
    "#Считайте строку, где значения заданы через пробел shape и dtype\n",
    "#Создайте матрицу Z размера shape, со значениями типа dtype (если dtype не указан, используйте numpy.float64)\n",
    "import numpy as np\n",
    "\n",
    "\n",
    "def create_Z(str_param):\n",
    "    param = str_param.split()\n",
    "    if param[-1].isdigit():\n",
    "        return np.zeros(list(map(int, param)))\n",
    "    else:\n",
    "        return np.zeros(list(map(int, param[:-1])), dtype=param[-1])\n",
    "\n",
    "\n",
    "Z = create_Z('2 3 4')\n",
    "\n",
    "#Z = create_Z(input())"
   ]
  },
  {
   "cell_type": "code",
   "execution_count": 33,
   "metadata": {
    "ExecuteTime": {
     "end_time": "2019-11-28T08:10:22.356452Z",
     "start_time": "2019-11-28T08:10:22.353454Z"
    }
   },
   "outputs": [
    {
     "name": "stdout",
     "output_type": "stream",
     "text": [
      "192\n"
     ]
    }
   ],
   "source": [
    "# 6.3 numpy-100 (1-10). Exercise 5\n",
    "# Посчитайте размер матрицы Z в байтах и выведите его на печать\n",
    "\n",
    "from functools import reduce\n",
    "import numpy as np\n",
    "\n",
    "print(reduce(lambda x,y: x*y , Z.shape) * Z.itemsize)"
   ]
  },
  {
   "cell_type": "code",
   "execution_count": 39,
   "metadata": {
    "ExecuteTime": {
     "end_time": "2019-11-28T08:21:36.717939Z",
     "start_time": "2019-11-28T08:21:36.713941Z"
    }
   },
   "outputs": [
    {
     "name": "stdout",
     "output_type": "stream",
     "text": [
      "add(x1, x2, /, out=None, *, where=True, casting='same_kind', order='K', dtype=None, subok=True[, signature, extobj])\n",
      "\n",
      "Add arguments element-wise.\n",
      "\n",
      "Parameters\n",
      "----------\n",
      "x1, x2 : array_like\n",
      "    The arrays to be added.  If ``x1.shape != x2.shape``, they must be\n",
      "    broadcastable to a common shape (which may be the shape of one or\n",
      "    the other).\n",
      "out : ndarray, None, or tuple of ndarray and None, optional\n",
      "    A location into which the result is stored. If provided, it must have\n",
      "    a shape that the inputs broadcast to. If not provided or `None`,\n",
      "    a freshly-allocated array is returned. A tuple (possible only as a\n",
      "    keyword argument) must have length equal to the number of outputs.\n",
      "where : array_like, optional\n",
      "    Values of True indicate to calculate the ufunc at that position, values\n",
      "    of False indicate to leave the value in the output alone.\n",
      "**kwargs\n",
      "    For other keyword-only arguments, see the\n",
      "    :ref:`ufunc docs <ufuncs.kwargs>`.\n",
      "\n",
      "Returns\n",
      "-------\n",
      "add : ndarray or scalar\n",
      "    The sum of `x1` and `x2`, element-wise.\n",
      "    This is a scalar if both `x1` and `x2` are scalars.\n",
      "\n",
      "Notes\n",
      "-----\n",
      "Equivalent to `x1` + `x2` in terms of array broadcasting.\n",
      "\n",
      "Examples\n",
      "--------\n",
      ">>> np.add(1.0, 4.0)\n",
      "5.0\n",
      ">>> x1 = np.arange(9.0).reshape((3, 3))\n",
      ">>> x2 = np.arange(3.0)\n",
      ">>> np.add(x1, x2)\n",
      "array([[  0.,   2.,   4.],\n",
      "       [  3.,   5.,   7.],\n",
      "       [  6.,   8.,  10.]])\n",
      "array(object, dtype=None, copy=True, order='K', subok=False, ndmin=0)\n",
      "\n",
      "Create an array.\n",
      "\n",
      "Parameters\n",
      "----------\n",
      "object : array_like\n",
      "    An array, any object exposing the array interface, an object whose\n",
      "    __array__ method returns an array, or any (nested) sequence.\n",
      "dtype : data-type, optional\n",
      "    The desired data-type for the array.  If not given, then the type will\n",
      "    be determined as the minimum type required to hold the objects in the\n",
      "    sequence.  This argument can only be used to 'upcast' the array.  For\n",
      "    downcasting, use the .astype(t) method.\n",
      "copy : bool, optional\n",
      "    If true (default), then the object is copied.  Otherwise, a copy will\n",
      "    only be made if __array__ returns a copy, if obj is a nested sequence,\n",
      "    or if a copy is needed to satisfy any of the other requirements\n",
      "    (`dtype`, `order`, etc.).\n",
      "order : {'K', 'A', 'C', 'F'}, optional\n",
      "    Specify the memory layout of the array. If object is not an array, the\n",
      "    newly created array will be in C order (row major) unless 'F' is\n",
      "    specified, in which case it will be in Fortran order (column major).\n",
      "    If object is an array the following holds.\n",
      "\n",
      "    ===== ========= ===================================================\n",
      "    order  no copy                     copy=True\n",
      "    ===== ========= ===================================================\n",
      "    'K'   unchanged F & C order preserved, otherwise most similar order\n",
      "    'A'   unchanged F order if input is F and not C, otherwise C order\n",
      "    'C'   C order   C order\n",
      "    'F'   F order   F order\n",
      "    ===== ========= ===================================================\n",
      "\n",
      "    When ``copy=False`` and a copy is made for other reasons, the result is\n",
      "    the same as if ``copy=True``, with some exceptions for `A`, see the\n",
      "    Notes section. The default order is 'K'.\n",
      "subok : bool, optional\n",
      "    If True, then sub-classes will be passed-through, otherwise\n",
      "    the returned array will be forced to be a base-class array (default).\n",
      "ndmin : int, optional\n",
      "    Specifies the minimum number of dimensions that the resulting\n",
      "    array should have.  Ones will be pre-pended to the shape as\n",
      "    needed to meet this requirement.\n",
      "\n",
      "Returns\n",
      "-------\n",
      "out : ndarray\n",
      "    An array object satisfying the specified requirements.\n",
      "\n",
      "See Also\n",
      "--------\n",
      "empty_like : Return an empty array with shape and type of input.\n",
      "ones_like : Return an array of ones with shape and type of input.\n",
      "zeros_like : Return an array of zeros with shape and type of input.\n",
      "full_like : Return a new array with shape of input filled with value.\n",
      "empty : Return a new uninitialized array.\n",
      "ones : Return a new array setting values to one.\n",
      "zeros : Return a new array setting values to zero.\n",
      "full : Return a new array of given shape filled with value.\n",
      "\n",
      "\n",
      "Notes\n",
      "-----\n",
      "When order is 'A' and `object` is an array in neither 'C' nor 'F' order,\n",
      "and a copy is forced by a change in dtype, then the order of the result is\n",
      "not necessarily 'C' as expected. This is likely a bug.\n",
      "\n",
      "Examples\n",
      "--------\n",
      ">>> np.array([1, 2, 3])\n",
      "array([1, 2, 3])\n",
      "\n",
      "Upcasting:\n",
      "\n",
      ">>> np.array([1, 2, 3.0])\n",
      "array([ 1.,  2.,  3.])\n",
      "\n",
      "More than one dimension:\n",
      "\n",
      ">>> np.array([[1, 2], [3, 4]])\n",
      "array([[1, 2],\n",
      "       [3, 4]])\n",
      "\n",
      "Minimum dimensions 2:\n",
      "\n",
      ">>> np.array([1, 2, 3], ndmin=2)\n",
      "array([[1, 2, 3]])\n",
      "\n",
      "Type provided:\n",
      "\n",
      ">>> np.array([1, 2, 3], dtype=complex)\n",
      "array([ 1.+0.j,  2.+0.j,  3.+0.j])\n",
      "\n",
      "Data-type consisting of more than one element:\n",
      "\n",
      ">>> x = np.array([(1,2),(3,4)],dtype=[('a','<i4'),('b','<i4')])\n",
      ">>> x['a']\n",
      "array([1, 3])\n",
      "\n",
      "Creating an array from sub-classes:\n",
      "\n",
      ">>> np.array(np.mat('1 2; 3 4'))\n",
      "array([[1, 2],\n",
      "       [3, 4]])\n",
      "\n",
      ">>> np.array(np.mat('1 2; 3 4'), subok=True)\n",
      "matrix([[1, 2],\n",
      "        [3, 4]])\n"
     ]
    }
   ],
   "source": [
    "# 6.3 numpy-100 (1-10). Exercise 6\n",
    "#Выведите на печать встроенную документацию для функции add numpy, а потом объекта numpy.array.\n",
    "import numpy as np\n",
    "\n",
    "np.info(np.add)\n",
    "np.info(np.array)"
   ]
  },
  {
   "cell_type": "code",
   "execution_count": null,
   "metadata": {},
   "outputs": [],
   "source": [
    "# 6.3 numpy-100 (1-10). Exercise 7\n",
    "import numpy as np\n",
    "\n",
    "param = int(input()), int(input())\n",
    "Z = np.zeros(param[0])\n",
    "Z[param[1]] = 1"
   ]
  },
  {
   "cell_type": "code",
   "execution_count": 49,
   "metadata": {
    "ExecuteTime": {
     "end_time": "2019-11-28T08:36:39.491568Z",
     "start_time": "2019-11-28T08:36:39.486570Z"
    }
   },
   "outputs": [
    {
     "data": {
      "text/plain": [
       "array([10., 11., 12., 13., 14., 15., 16., 17., 18., 19., 20., 21., 22.,\n",
       "       23., 24., 25., 26., 27., 28., 29., 30., 31., 32., 33., 34., 35.,\n",
       "       36., 37., 38., 39., 40., 41., 42., 43., 44., 45., 46., 47., 48.,\n",
       "       49., 50.])"
      ]
     },
     "execution_count": 49,
     "metadata": {},
     "output_type": "execute_result"
    }
   ],
   "source": [
    "# 6.3 numpy-100 (1-10). Exercise 8\n",
    "# Создайте вектор Z состоящий из чисел от n до m.\n",
    "\n",
    "import numpy as np\n",
    "#n, m = int(input()), int(input())\n",
    "n,m =10,50\n",
    "Z = np.linspace(n,m, num = m-n+1)\n",
    "Z\n"
   ]
  },
  {
   "cell_type": "code",
   "execution_count": 16,
   "metadata": {
    "ExecuteTime": {
     "end_time": "2019-11-28T13:26:08.383607Z",
     "start_time": "2019-11-28T13:26:08.378610Z"
    }
   },
   "outputs": [
    {
     "name": "stdout",
     "output_type": "stream",
     "text": [
      "[4, 5, 6, 7, 8, 9, 9]\n"
     ]
    }
   ],
   "source": [
    "# 6.3 numpy-100 (1-10). Exercise 10\n",
    "# Выведите на печать список чисел из этой матрицы, которые больше 3.\n",
    "import numpy as np\n",
    "\n",
    "Z = np.array([[1, 2, 3],\n",
    "              [4, 5, 6],\n",
    "              [7, 8, 9],\n",
    "              [0, 0, 9]])\n",
    "Z= Z.reshape(-1)\n",
    "\n",
    "print(list(Z[Z>3]))"
   ]
  },
  {
   "cell_type": "code",
   "execution_count": 18,
   "metadata": {
    "ExecuteTime": {
     "end_time": "2019-11-28T13:36:49.846835Z",
     "start_time": "2019-11-28T13:36:42.876212Z"
    }
   },
   "outputs": [
    {
     "name": "stdout",
     "output_type": "stream",
     "text": [
      "2 3 4\n",
      "[[[0.37454012 0.95071431 0.73199394 0.59865848]\n",
      "  [0.15601864 0.15599452 0.05808361 0.86617615]\n",
      "  [0.60111501 0.70807258 0.02058449 0.96990985]]\n",
      "\n",
      " [[0.83244264 0.21233911 0.18182497 0.18340451]\n",
      "  [0.30424224 0.52475643 0.43194502 0.29122914]\n",
      "  [0.61185289 0.13949386 0.29214465 0.36636184]]]\n"
     ]
    }
   ],
   "source": [
    "# 6.4 numpy-100 (11-20). Exercise 2\n",
    "#Создайте матрицу n*m*l из случайных чисел (от 0 до 1) и сохраните результат в переменную Z.\n",
    "import numpy as np\n",
    "np.random.seed(42)\n",
    "\n",
    "n, m, l = map(int,input().split())\n",
    "\n",
    "Z = np.random.rand(n, m, l)\n",
    "\n",
    "print(Z)\n"
   ]
  },
  {
   "cell_type": "code",
   "execution_count": 19,
   "metadata": {
    "ExecuteTime": {
     "end_time": "2019-11-28T13:40:16.319219Z",
     "start_time": "2019-11-28T13:40:13.306245Z"
    }
   },
   "outputs": [
    {
     "name": "stdout",
     "output_type": "stream",
     "text": [
      "2 2\n",
      "0.3745401188473625\n",
      "0.9507143064099162\n"
     ]
    }
   ],
   "source": [
    "# 6.4 numpy-100 (11-20). Exercise 3\n",
    "#Считайте 2 числа: n, m.\n",
    "#Создайте матрицу n*m из случайных чисел (от 0 до 1).\n",
    "#Выведите на печать значение минимального и максимального чисел в получившейся матрице (каждое с новой строки).\n",
    "import numpy as np\n",
    "np.random.seed(42)\n",
    "\n",
    "n, m = map(int,input().split())\n",
    "Z = np.random.rand(n, m)\n",
    "print(np.min(Z), np.max(Z), sep='\\n')"
   ]
  },
  {
   "cell_type": "code",
   "execution_count": 21,
   "metadata": {
    "ExecuteTime": {
     "end_time": "2019-11-28T13:41:54.980602Z",
     "start_time": "2019-11-28T13:41:51.576148Z"
    }
   },
   "outputs": [
    {
     "name": "stdout",
     "output_type": "stream",
     "text": [
      "30 30\n",
      "0.4923750160905882\n"
     ]
    }
   ],
   "source": [
    "# 6.4 numpy-100 (11-20). Exercise 4\n",
    "#Считайте 2 числа: n, m.\n",
    "#Создайте матрицу n*m из случайных чисел (от 0 до 1).\n",
    "#Выведите на печать значение среднего для всей матрицы.\n",
    "import numpy as np\n",
    "np.random.seed(42)\n",
    "\n",
    "n, m = map(int,input().split())\n",
    "Z = np.random.rand(n, m)\n",
    "print(np.mean(Z))"
   ]
  },
  {
   "cell_type": "code",
   "execution_count": 25,
   "metadata": {
    "ExecuteTime": {
     "end_time": "2019-11-28T14:01:25.566290Z",
     "start_time": "2019-11-28T14:01:23.697225Z"
    }
   },
   "outputs": [
    {
     "name": "stdout",
     "output_type": "stream",
     "text": [
      "3 4\n",
      "[[0.37454012 0.95071431 0.73199394 0.59865848]\n",
      " [0.15601864 0.15599452 0.05808361 0.86617615]\n",
      " [0.60111501 0.70807258 0.02058449 0.96990985]]\n",
      "[0.37722459 0.60492713 0.27022068 0.81158149]\n"
     ]
    }
   ],
   "source": [
    "# 6.4 numpy-100 (11-20). Exercise 5\n",
    "# Выведите на печать значение минимального и максимального среднего по столбцам (каждое с новой строки).\n",
    "import numpy as np\n",
    "np.random.seed(42)\n",
    "\n",
    "n, m = map(int,input().split())\n",
    "Z = np.random.rand(n, m)\n",
    "\n",
    "print(Z.mean(axis=0).min(), Z.mean(axis=0).max(), sep='\\n')"
   ]
  },
  {
   "cell_type": "code",
   "execution_count": 30,
   "metadata": {
    "ExecuteTime": {
     "end_time": "2019-11-28T14:07:30.629827Z",
     "start_time": "2019-11-28T14:07:24.264455Z"
    }
   },
   "outputs": [
    {
     "name": "stdout",
     "output_type": "stream",
     "text": [
      "9 8\n",
      "[[1. 1. 1. 1. 1. 1. 1. 1.]\n",
      " [1. 0. 0. 0. 0. 0. 0. 1.]\n",
      " [1. 0. 0. 0. 0. 0. 0. 1.]\n",
      " [1. 0. 0. 0. 0. 0. 0. 1.]\n",
      " [1. 0. 0. 0. 0. 0. 0. 1.]\n",
      " [1. 0. 0. 0. 0. 0. 0. 1.]\n",
      " [1. 0. 0. 0. 0. 0. 0. 1.]\n",
      " [1. 0. 0. 0. 0. 0. 0. 1.]\n",
      " [1. 1. 1. 1. 1. 1. 1. 1.]]\n"
     ]
    }
   ],
   "source": [
    "# 6.4 numpy-100 (11-20). Exercise 6\n",
    "#Создайте матрицу размера n*m такую что:\n",
    "#На границе матрицы будут стоять 1\n",
    "#Внутри матрицы будут стоять 0\n",
    "\n",
    "import numpy as np\n",
    "\n",
    "n, m = map(int,input().split())\n",
    "Z = np.zeros((n, m))\n",
    "Z[0]=Z[-1]=Z[:,0]=Z[:,-1]=1\n",
    "\n",
    "print(Z)\n"
   ]
  },
  {
   "cell_type": "code",
   "execution_count": 38,
   "metadata": {
    "ExecuteTime": {
     "end_time": "2019-11-28T14:18:05.129842Z",
     "start_time": "2019-11-28T14:18:05.124844Z"
    }
   },
   "outputs": [
    {
     "name": "stdout",
     "output_type": "stream",
     "text": [
      "[[0 0 0 0 0]\n",
      " [0 1 2 3 0]\n",
      " [0 4 5 6 0]\n",
      " [0 7 8 9 0]\n",
      " [0 0 0 0 0]]\n"
     ]
    }
   ],
   "source": [
    "# 6.4 numpy-100 (11-20). Exercise 7\n",
    "# Имеется матрица Z\n",
    "# Добавьте вокруг имеющихся значений матрицы \"забор\" из 0.\n",
    "\n",
    "import numpy as np\n",
    "Z = np.array([[1, 2, 3],\n",
    "              [4, 5, 6],\n",
    "              [7, 8, 9]])\n",
    "\n",
    "Z = np.pad(Z, mode='constant', pad_width=1, constant_values=0)\n",
    "print(Z)"
   ]
  },
  {
   "cell_type": "code",
   "execution_count": 45,
   "metadata": {
    "ExecuteTime": {
     "end_time": "2019-11-28T14:25:42.594499Z",
     "start_time": "2019-11-28T14:25:42.587501Z"
    }
   },
   "outputs": [
    {
     "name": "stdout",
     "output_type": "stream",
     "text": [
      "1942128622472\n",
      "1942128622472\n",
      "True\n",
      "False\n",
      "----------------\n",
      "True\n",
      "nan\n",
      "True\n",
      "False\n",
      "False\n",
      "nan\n",
      "False\n"
     ]
    }
   ],
   "source": [
    "# 6.4 numpy-100 (11-20). Exercise 8\n",
    "import numpy as np\n",
    "\n",
    "n = np.nan\n",
    "m = np.nan\n",
    "print(id(n), id(m), sep='\\n')\n",
    "print(id(n) == id(m))\n",
    "print(n == m)\n",
    "print('----------------')\n",
    "print( np.isnan(np.nan))\n",
    "print(0 * np.nan)\n",
    "print(np.nan in set([np.nan]))\n",
    "print(np.nan == np.nan)\n",
    "print(0.3 == (3 * 0.1))\n",
    "print(np.nan - np.nan)\n",
    "print(np.inf > np.nan)"
   ]
  },
  {
   "cell_type": "code",
   "execution_count": 47,
   "metadata": {
    "ExecuteTime": {
     "end_time": "2019-11-28T14:48:59.629864Z",
     "start_time": "2019-11-28T14:48:56.101796Z"
    }
   },
   "outputs": [
    {
     "name": "stdout",
     "output_type": "stream",
     "text": [
      "9\n",
      "[[1 0 0 0 0 0 0 0 0]\n",
      " [0 2 0 0 0 0 0 0 0]\n",
      " [0 0 3 0 0 0 0 0 0]\n",
      " [0 0 0 4 0 0 0 0 0]\n",
      " [0 0 0 0 5 0 0 0 0]\n",
      " [0 0 0 0 0 6 0 0 0]\n",
      " [0 0 0 0 0 0 7 0 0]\n",
      " [0 0 0 0 0 0 0 8 0]\n",
      " [0 0 0 0 0 0 0 0 9]]\n"
     ]
    }
   ],
   "source": [
    "# 6.4 numpy-100 (11-20). Exercise 9\n",
    "#Считайте число n.\n",
    "#Создайте диагональную матрицу размера n*n. На главной диагонали должны быть числа от 1 до n.\n",
    "#Сохраните матрицу в переменную Z.\n",
    "import numpy as np\n",
    "\n",
    "n= int(input())\n",
    "Z = np.diag(np.arange(1,n+1))\n",
    "\n",
    "print(Z)\n",
    "\n"
   ]
  },
  {
   "cell_type": "code",
   "execution_count": 51,
   "metadata": {
    "ExecuteTime": {
     "end_time": "2019-11-28T15:21:19.996117Z",
     "start_time": "2019-11-28T15:21:15.612584Z"
    }
   },
   "outputs": [
    {
     "name": "stdout",
     "output_type": "stream",
     "text": [
      "-1 3\n",
      "[[0 0 0 0]\n",
      " [1 0 0 0]\n",
      " [0 2 0 0]\n",
      " [0 0 3 0]]\n"
     ]
    }
   ],
   "source": [
    "# 6.4 numpy-100 (11-20). Exercise 10\n",
    "import numpy as np\n",
    "\n",
    "k, n= map(int,input().split())\n",
    "Z = np.diag(np.arange(1,n+1), k=k)\n",
    "\n",
    "print(Z)\n"
   ]
  },
  {
   "cell_type": "code",
   "execution_count": 6,
   "metadata": {
    "ExecuteTime": {
     "end_time": "2019-11-29T05:20:27.573837Z",
     "start_time": "2019-11-29T05:20:27.566838Z"
    }
   },
   "outputs": [
    {
     "data": {
      "text/plain": [
       "array([[0., 1., 0., 1., 0., 1., 0., 1., 0.],\n",
       "       [1., 0., 1., 0., 1., 0., 1., 0., 1.],\n",
       "       [0., 1., 0., 1., 0., 1., 0., 1., 0.],\n",
       "       [1., 0., 1., 0., 1., 0., 1., 0., 1.],\n",
       "       [0., 1., 0., 1., 0., 1., 0., 1., 0.]])"
      ]
     },
     "execution_count": 6,
     "metadata": {},
     "output_type": "execute_result"
    }
   ],
   "source": [
    "# 6.4 numpy-100 (11-20). Exercise 11\n",
    "\n",
    "import numpy as np\n",
    "\n",
    "#n, m = map(int,input().split())\n",
    "n,m =5,9\n",
    "\n",
    "#a = np.zeros(n)\n",
    "#a[1::2]=1\n",
    "#b = np.zeros(m)\n",
    "#b[1::2]=1\n",
    "#Z= a[:, np.newaxis] +b[np.newaxis, :]\n",
    "#Z[Z==2]=0\n",
    "#Z\n",
    "Z = np.zeros((n,m))\n",
    "Z[1::2,::2]=1\n",
    "Z[::2,1::2]=1\n",
    "Z"
   ]
  },
  {
   "cell_type": "code",
   "execution_count": 18,
   "metadata": {
    "ExecuteTime": {
     "end_time": "2019-11-29T07:41:46.333101Z",
     "start_time": "2019-11-29T07:41:46.260125Z"
    }
   },
   "outputs": [
    {
     "name": "stdout",
     "output_type": "stream",
     "text": [
      "(1, 1)\n"
     ]
    }
   ],
   "source": [
    "# 6.4 numpy-100 (11-20). Exercise 12\n",
    "#Даны:\n",
    "#индекс i\n",
    "#numpy массив Z\n",
    "#Определите \"координаты\" элемента с индексом i в Z и выведите кортеж с координатами на печать.\n",
    "import numpy as np\n",
    "\n",
    "i = 5\n",
    "Z = np.array([[ 0,  1,  2,  3],\n",
    "       [ 4,  5,  6,  7],\n",
    "       [ 8,  9, 10, 11]])\n",
    "\n",
    "print(np.unravel_index(i,Z.shape))"
   ]
  },
  {
   "cell_type": "code",
   "execution_count": 22,
   "metadata": {
    "ExecuteTime": {
     "end_time": "2019-11-29T07:45:56.154093Z",
     "start_time": "2019-11-29T07:45:56.120103Z"
    }
   },
   "outputs": [
    {
     "name": "stdout",
     "output_type": "stream",
     "text": [
      "5.5 3.452052529534663\n",
      "[[-1.59 -1.3  -1.01 -0.72]\n",
      " [-0.43 -0.14  0.14  0.43]\n",
      " [ 0.72  1.01  1.3   1.59]]\n"
     ]
    }
   ],
   "source": [
    "# 6.5 Numpy-100 (22, 24-30). Exercise 1\n",
    "# 22 Нормализация\n",
    "# Переменная Y содержит исходную матрицу\n",
    "# В переменную Z сохраните её \"нормализованный\" вид, округлив каждое значение в матрице до 2 знака после запятой\n",
    "# с помощью numpy.around.\n",
    "\n",
    "import numpy as np\n",
    "Y = np.array([[0,  1,  2,  3],\n",
    "              [4,  5,  6,  7],\n",
    "              [8,  9, 10, 11]])\n",
    "\n",
    "#m = Y.mean()\n",
    "#s = Y.std()\n",
    "#print(m, s)\n",
    "Z = np.round((Y-Y.mean())/Y.std(), 2)\n",
    "print(Z)"
   ]
  },
  {
   "cell_type": "code",
   "execution_count": 27,
   "metadata": {
    "ExecuteTime": {
     "end_time": "2019-11-29T08:01:25.967054Z",
     "start_time": "2019-11-29T08:01:25.961056Z"
    }
   },
   "outputs": [
    {
     "data": {
      "text/plain": [
       "array([[ 77. ],\n",
       "       [189.5]])"
      ]
     },
     "execution_count": 27,
     "metadata": {},
     "output_type": "execute_result"
    }
   ],
   "source": [
    "# 6.5 Numpy-100 (22, 24-30). Exercise 3\n",
    "#24.2 Умножение матриц\n",
    "#Даны 2 матрицы: A и B.\n",
    "#Найдите произведение матриц и сохраните его в переменную Z.\n",
    "import numpy as np\n",
    "\n",
    "A = np.array([\n",
    "    [1, 2, 3],\n",
    "    [4, 5, 6]\n",
    "])\n",
    "B = np.array([\n",
    "    [11.5],\n",
    "    [12.5],\n",
    "    [13.5]\n",
    "])\n",
    "\n",
    "try:\n",
    "    Z=A.dot(B)\n",
    "except:\n",
    "    Z='Упс! Что-то пошло не так...'\n",
    "    \n",
    "Z\n"
   ]
  },
  {
   "cell_type": "code",
   "execution_count": 32,
   "metadata": {
    "ExecuteTime": {
     "end_time": "2019-11-29T08:05:14.812593Z",
     "start_time": "2019-11-29T08:05:14.807595Z"
    }
   },
   "outputs": [
    {
     "data": {
      "text/plain": [
       "array([ 0,  1,  2,  3, -4, -5, -6, -7, -8,  9, 10])"
      ]
     },
     "execution_count": 32,
     "metadata": {},
     "output_type": "execute_result"
    }
   ],
   "source": [
    "# 6.5 Numpy-100 (22, 24-30). Exercise 3\n",
    "#25\n",
    "#Поменяйте знак всех чисел из интервала (3; 9), хранящихся в векторе Z.\n",
    "import numpy as np\n",
    "Z = np.arange(11)\n",
    "\n",
    "Z[(3<Z) & (Z<9)]= -Z[(3<Z) & (Z<9)]\n",
    "\n",
    "Z"
   ]
  },
  {
   "cell_type": "code",
   "execution_count": 33,
   "metadata": {
    "ExecuteTime": {
     "end_time": "2019-11-29T08:19:55.140791Z",
     "start_time": "2019-11-29T08:19:55.103802Z"
    }
   },
   "outputs": [
    {
     "name": "stdout",
     "output_type": "stream",
     "text": [
      "9\n",
      "10\n"
     ]
    }
   ],
   "source": [
    "print(sum(range(5),-1))\n",
    "from numpy import *\n",
    "print(sum(range(5),-1))"
   ]
  },
  {
   "cell_type": "code",
   "execution_count": 15,
   "metadata": {
    "ExecuteTime": {
     "end_time": "2019-11-29T08:31:12.189517Z",
     "start_time": "2019-11-29T08:31:12.184520Z"
    }
   },
   "outputs": [
    {
     "name": "stdout",
     "output_type": "stream",
     "text": [
      "range(0, 5)\n",
      "9\n",
      "10\n"
     ]
    }
   ],
   "source": [
    "import numpy as np\n",
    "print(range(5))\n",
    "print(sum(range(5),-1))\n",
    "print(np.sum(range(5),-1))"
   ]
  },
  {
   "cell_type": "code",
   "execution_count": 14,
   "metadata": {
    "ExecuteTime": {
     "end_time": "2019-11-29T08:28:58.286538Z",
     "start_time": "2019-11-29T08:28:58.280540Z"
    }
   },
   "outputs": [
    {
     "name": "stdout",
     "output_type": "stream",
     "text": [
      "[1. 2. 3. 4. 5. 6. 7.]\n",
      "[False False False False False False False]\n",
      "[ 1  2  4  8 16 32 64]\n",
      "[     1      4     27    256   3125  46656 823543]\n",
      "[0.+1.j 0.+2.j 0.+3.j 0.+4.j 0.+5.j 0.+6.j 0.+7.j]\n"
     ]
    }
   ],
   "source": [
    "Z = np.array([1, 2, 3, 4, 5, 6, 7])\n",
    "\n",
    "print(Z/1/1)\n",
    "print(Z <- Z)\n",
    "print(2 << Z >> 2)\n",
    "print(Z**Z)\n",
    "print(1j*Z)\n",
    "\n",
    "#Z<z>Z"
   ]
  },
  {
   "cell_type": "code",
   "execution_count": 16,
   "metadata": {
    "ExecuteTime": {
     "end_time": "2019-11-29T08:32:30.580707Z",
     "start_time": "2019-11-29T08:32:30.576709Z"
    }
   },
   "outputs": [
    {
     "data": {
      "text/plain": [
       "array(0)"
      ]
     },
     "execution_count": 16,
     "metadata": {},
     "output_type": "execute_result"
    }
   ],
   "source": [
    "np.array(0)"
   ]
  },
  {
   "cell_type": "code",
   "execution_count": 27,
   "metadata": {
    "ExecuteTime": {
     "end_time": "2019-11-29T08:37:24.632991Z",
     "start_time": "2019-11-29T08:37:24.626009Z"
    }
   },
   "outputs": [
    {
     "name": "stdout",
     "output_type": "stream",
     "text": [
      "nan\n",
      "[0 1]\n",
      "0\n",
      "[-2.14748365e+09]\n",
      "[nan]\n",
      "[-2147483648]\n"
     ]
    },
    {
     "name": "stderr",
     "output_type": "stream",
     "text": [
      "D:\\ProgramData\\Anaconda3\\lib\\site-packages\\ipykernel_launcher.py:1: RuntimeWarning: invalid value encountered in true_divide\n",
      "  \"\"\"Entry point for launching an IPython kernel.\n",
      "D:\\ProgramData\\Anaconda3\\lib\\site-packages\\ipykernel_launcher.py:2: RuntimeWarning: divide by zero encountered in floor_divide\n",
      "  \n",
      "D:\\ProgramData\\Anaconda3\\lib\\site-packages\\ipykernel_launcher.py:3: RuntimeWarning: divide by zero encountered in floor_divide\n",
      "  This is separate from the ipykernel package so we can avoid doing imports until\n"
     ]
    }
   ],
   "source": [
    "print(np.array(0) / np.array(0))\n",
    "print(np.arange(2) // np.arange(2))\n",
    "print(np.array(0) // np.array(0))\n",
    "print(np.array([np.nan]).astype(int).astype(float))\n",
    "print(np.array([np.nan]))\n",
    "print(np.array([np.nan]).astype(int))"
   ]
  },
  {
   "cell_type": "code",
   "execution_count": 55,
   "metadata": {
    "ExecuteTime": {
     "end_time": "2019-11-29T09:26:50.574908Z",
     "start_time": "2019-11-29T09:26:50.072071Z"
    }
   },
   "outputs": [
    {
     "name": "stdout",
     "output_type": "stream",
     "text": [
      "Wall time: 330 ms\n",
      "Wall time: 164 ms\n"
     ]
    }
   ],
   "source": [
    "# 6.5 Numpy-100 (22, 24-30). Exercise 8\n",
    "# 29\n",
    "# Вектор A содержит float числа как больше, так и меньше нуля.\n",
    "# Округлите их до целых и результат запишите в переменную Z. Округление должно быть \"от нуля\", т.е.:\n",
    "\n",
    "import numpy as np\n",
    "A = np.array([-3.1, -5.9, 0, 2.2, 9.8])\n",
    "\n",
    "%time Z=[ np.where(A > 0, np.ceil(A), np.floor(A)) for x in range(100000)];\n",
    "\n",
    "%time Z=[ np.copysign(np.ceil(np.abs(A)),A) for x in range(100000)];"
   ]
  },
  {
   "cell_type": "code",
   "execution_count": 2,
   "metadata": {
    "ExecuteTime": {
     "end_time": "2019-11-29T09:28:59.962677Z",
     "start_time": "2019-11-29T09:28:59.906677Z"
    }
   },
   "outputs": [
    {
     "data": {
      "text/plain": [
       "array([1, 3, 7])"
      ]
     },
     "execution_count": 2,
     "metadata": {},
     "output_type": "execute_result"
    }
   ],
   "source": [
    "# 6.5 Numpy-100 (22, 24-30). Exercise 9\n",
    "#30\n",
    "#Даны 2 вектора целых чисел A и B.\n",
    "#Найдите числа, встречающиеся в обоих векторах и составьте их по возрастанию в вектор Z.\n",
    "\n",
    "import numpy as np\n",
    "A = np.array([0, 9, 7, 1, 3, 7, 5, 2, 5, 1])\n",
    "B = np.array([3, 1, 3, 7, 4, 1, 8, 1, 1, 8])\n",
    "\n",
    "Z= np.intersect1d(A, B)\n",
    "Z"
   ]
  },
  {
   "cell_type": "code",
   "execution_count": 1,
   "metadata": {
    "ExecuteTime": {
     "end_time": "2019-11-29T09:25:34.113006Z",
     "start_time": "2019-11-29T09:25:33.931084Z"
    }
   },
   "outputs": [
    {
     "name": "stdout",
     "output_type": "stream",
     "text": [
      "[0] [0] [nan]\n"
     ]
    },
    {
     "name": "stderr",
     "output_type": "stream",
     "text": [
      "D:\\ProgramData\\Anaconda3\\lib\\site-packages\\ipykernel_launcher.py:9: RuntimeWarning: invalid value encountered in true_divide\n",
      "  if __name__ == '__main__':\n"
     ]
    }
   ],
   "source": [
    "# 6.6 Numpy-100 (31-34,37-40). Exercise 1\n",
    "#31. Отключите вывод всех ошибок (это довольно опасное поведение)\n",
    "\n",
    "import numpy as np\n",
    "Z = np.arange(1)\n",
    "Y = np.arange(1)\n",
    "#Z /=0\n",
    "#np.seterr(all='ignore')\n",
    "print(Z, Y, Z/Y)"
   ]
  },
  {
   "cell_type": "code",
   "execution_count": 3,
   "metadata": {},
   "outputs": [
    {
     "name": "stdout",
     "output_type": "stream",
     "text": [
      "nan\n",
      "1j\n"
     ]
    },
    {
     "name": "stderr",
     "output_type": "stream",
     "text": [
      "D:\\ProgramData\\Anaconda3\\lib\\site-packages\\ipykernel_launcher.py:2: RuntimeWarning: invalid value encountered in sqrt\n",
      "  \n",
      "D:\\ProgramData\\Anaconda3\\lib\\site-packages\\ipykernel_launcher.py:3: RuntimeWarning: invalid value encountered in sqrt\n",
      "  This is separate from the ipykernel package so we can avoid doing imports until\n"
     ]
    }
   ],
   "source": [
    "import numpy as np\n",
    "np.sqrt(-1) == np.emath.sqrt(-1)\n",
    "print(np.sqrt(-1))\n",
    "print(np.emath.sqrt(-1))"
   ]
  },
  {
   "cell_type": "code",
   "execution_count": 2,
   "metadata": {},
   "outputs": [
    {
     "data": {
      "text/plain": [
       "numpy.datetime64('2005-02-24')"
      ]
     },
     "execution_count": 2,
     "metadata": {},
     "output_type": "execute_result"
    }
   ],
   "source": [
    "import numpy as np\n",
    "np.datetime64('2005-02-25')-1"
   ]
  },
  {
   "cell_type": "code",
   "execution_count": 3,
   "metadata": {},
   "outputs": [
    {
     "data": {
      "text/plain": [
       "array(['2007-07-10', '2006-01-10', '2010-08-10'], dtype='datetime64[D]')"
      ]
     },
     "execution_count": 3,
     "metadata": {},
     "output_type": "execute_result"
    }
   ],
   "source": [
    "Z=np.array(['2007-07-13', '2006-01-13', '2010-08-13'], dtype='datetime64')\n",
    "Z-3"
   ]
  },
  {
   "cell_type": "code",
   "execution_count": 10,
   "metadata": {},
   "outputs": [
    {
     "name": "stdout",
     "output_type": "stream",
     "text": [
      "['2011-07-11' '2011-07-12' '2011-07-13' '2011-07-14' '2011-07-15'\n",
      " '2011-07-16' '2011-07-17']\n",
      "5\n"
     ]
    },
    {
     "data": {
      "text/plain": [
       "numpy.datetime64('NaT')"
      ]
     },
     "execution_count": 10,
     "metadata": {},
     "output_type": "execute_result"
    }
   ],
   "source": [
    "a=np.arange(np.datetime64('2011-07-11'), np.datetime64('2011-07-18'))\n",
    "\n",
    "print(a)\n",
    "print(sum(np.is_busday(a)))\n",
    "np.datetime64('nat')-1"
   ]
  },
  {
   "cell_type": "code",
   "execution_count": 14,
   "metadata": {},
   "outputs": [
    {
     "name": "stdout",
     "output_type": "stream",
     "text": [
      "NaT\n",
      "NaT\n",
      "2019-12-01\n",
      "2019-11-29\n",
      "NaT\n",
      "2019-11-30\n"
     ]
    }
   ],
   "source": [
    "#np.datetime64('yesterday')\n",
    "\n",
    "print(np.datetime64('nat')-1)\n",
    "\n",
    "print(np.datetime64('nat'))\n",
    "\n",
    "#np.datetime64('tomorrow')\n",
    "\n",
    "print(np.datetime64('today')+1)\n",
    "\n",
    "print(np.datetime64('today')-1)\n",
    "\n",
    "print(np.datetime64('nat')+1)\n",
    "\n",
    "print(np.datetime64('today'))"
   ]
  },
  {
   "cell_type": "code",
   "execution_count": 16,
   "metadata": {},
   "outputs": [
    {
     "data": {
      "text/plain": [
       "array(['2016-07-01', '2016-07-02', '2016-07-03', '2016-07-04',\n",
       "       '2016-07-05', '2016-07-06', '2016-07-07', '2016-07-08',\n",
       "       '2016-07-09', '2016-07-10', '2016-07-11', '2016-07-12',\n",
       "       '2016-07-13', '2016-07-14', '2016-07-15', '2016-07-16',\n",
       "       '2016-07-17', '2016-07-18', '2016-07-19', '2016-07-20',\n",
       "       '2016-07-21', '2016-07-22', '2016-07-23', '2016-07-24',\n",
       "       '2016-07-25', '2016-07-26', '2016-07-27', '2016-07-28',\n",
       "       '2016-07-29', '2016-07-30', '2016-07-31'], dtype='datetime64[D]')"
      ]
     },
     "execution_count": 16,
     "metadata": {},
     "output_type": "execute_result"
    }
   ],
   "source": [
    "# 6.6 Numpy-100 (31-34,37-40). Exercise 4\n",
    "#34\n",
    "#1-я входная строка - год (опционально месяц и день) в формате ISO начала отсчёта\n",
    "#2-я входная строка - год (опционально месяц и день) в формате ISO окончания отсчёта\n",
    "#Составьте список (numpy array) дат с шагом в 1 день от начала до окончания отсчёта (последний день не включается).\n",
    "#Результат должен представлять из себя список дат в формате ISO.\n",
    "import numpy as np\n",
    "\n",
    "a = '2016-07'\n",
    "b = '2016-08'\n",
    "\n",
    "np.arange(a, b, dtype='datetime64[D]')"
   ]
  },
  {
   "cell_type": "code",
   "execution_count": 17,
   "metadata": {},
   "outputs": [
    {
     "name": "stdout",
     "output_type": "stream",
     "text": [
      "[6.8968554  0.36541679 2.78804342 9.3464011  3.01035347 8.8703255\n",
      " 5.40241683 1.04944958 5.61923773 3.23316133]\n",
      "[6. 0. 2. 9. 3. 8. 5. 1. 5. 3.]\n"
     ]
    }
   ],
   "source": [
    "Z = np.random.uniform(0,10,10)\n",
    "# array([1.45929438, 7.67176895, 4.30717228, 3.87291767, 1.12721643, 2.44432376, 9.03933531, 2.09715241, 2.61381042, 4.27172585])\n",
    "print(Z)\n",
    "Z //=1\n",
    "print(Z)"
   ]
  },
  {
   "cell_type": "code",
   "execution_count": 27,
   "metadata": {},
   "outputs": [
    {
     "data": {
      "text/plain": [
       "array([[0., 1., 2., 3., 4.],\n",
       "       [0., 1., 2., 3., 4.],\n",
       "       [0., 1., 2., 3., 4.]])"
      ]
     },
     "execution_count": 27,
     "metadata": {},
     "output_type": "execute_result"
    }
   ],
   "source": [
    "# 6.6 Numpy-100 (31-34,37-40). Exercise 5\n",
    "#37.1\n",
    "#На вход подаётся 2 строки:\n",
    "#1-я строка содержит 2 натуральных числа: n, m\n",
    "#2-я строка содержит число k\n",
    "#Создайте матрицу размера n*m такую, что каждая её строка содержит числа от k до k+m-1 (с шагом 1).\n",
    "\n",
    "import numpy as np\n",
    "\n",
    "#n, m = map(int, input().split())\n",
    "#k = int(input())\n",
    "n,m =3, 5\n",
    "k= 0\n",
    "\n",
    "a = np.arange(k,k+m, dtype=np.float)\n",
    "Z = np.repeat(a[np.newaxis,:], n, axis=0)\n",
    "\n",
    "Z"
   ]
  },
  {
   "cell_type": "code",
   "execution_count": 33,
   "metadata": {},
   "outputs": [
    {
     "name": "stdout",
     "output_type": "stream",
     "text": [
      "[[0.]\n",
      " [1.]\n",
      " [2.]]\n"
     ]
    },
    {
     "data": {
      "text/plain": [
       "array([[0., 0., 0., 0., 0.],\n",
       "       [1., 1., 1., 1., 1.],\n",
       "       [2., 2., 2., 2., 2.]])"
      ]
     },
     "execution_count": 33,
     "metadata": {},
     "output_type": "execute_result"
    }
   ],
   "source": [
    "# 6.6 Numpy-100 (31-34,37-40). Exercise 6\n",
    "#37.2\n",
    "#На вход подаётся 2 строки:\n",
    "#1-я строка содержит 2 натуральных числа: n, m\n",
    "#2-я строка содержит число k\n",
    "#Создайте матрицу размера n*m такую, что каждый её столбец содержит числа от k до k+n-1 (с шагом 1).\n",
    "import numpy as np\n",
    "\n",
    "#n, m = map(int, input().split())\n",
    "#k = int(input())\n",
    "n,m =3, 5\n",
    "k= 0\n",
    "\n",
    "a = np.arange(k,k+n, dtype=np.float)[np.newaxis,:].T\n",
    "print(a)\n",
    "#Z = np.repeat(a, m, axis=1)\n",
    "Z= np.tile(a,m)\n",
    "Z"
   ]
  },
  {
   "cell_type": "code",
   "execution_count": 35,
   "metadata": {},
   "outputs": [
    {
     "data": {
      "text/plain": [
       "array([0., 1., 2., 3., 4., 5., 6., 7., 8., 9.])"
      ]
     },
     "execution_count": 35,
     "metadata": {},
     "output_type": "execute_result"
    }
   ],
   "source": [
    "# 6.6 Numpy-100 (31-34,37-40). Exercise 7\n",
    "#38\n",
    "#Переменная V содержит итерируемый объект.\n",
    "#Превратите его в одномерный numpy массив и сохраните в переменную Z. Массив будет содержать только числа типа float.\n",
    "\n",
    "import numpy as np\n",
    "\n",
    "V = range(10)\n",
    "Z= np.fromiter(V, dtype=np.float)\n",
    "Z"
   ]
  },
  {
   "cell_type": "code",
   "execution_count": 41,
   "metadata": {},
   "outputs": [
    {
     "name": "stdout",
     "output_type": "stream",
     "text": [
      "1\n",
      "9\n",
      "9\n"
     ]
    },
    {
     "data": {
      "text/plain": [
       "array([1.8, 2.6, 3.4, 4.2, 5. , 5.8, 6.6, 7.4, 8.2])"
      ]
     },
     "execution_count": 41,
     "metadata": {},
     "output_type": "execute_result"
    }
   ],
   "source": [
    "# 6.6 Numpy-100 (31-34,37-40). Exercise 8\n",
    "#39.1 (деление отрезка на N+1 часть)\n",
    "#На вход подаются 3 числа (каждое с новой строки):\n",
    "#start\n",
    "#stop\n",
    "#n\n",
    "#Составьте список из n точек на отрезке (start, stop), попарно равноудалённых друг от друга и от концов отрезка (т.е. \n",
    "#разделите отрезок на n+1 часть). Округлите значения точек до 3 знака после запятой.\n",
    "#Результат сохраните в переменную Z.\n",
    "\n",
    "import numpy as np\n",
    "\n",
    "start, stop,n= int(input()) , int(input()), int(input())\n",
    "\n",
    "Z = np.round(np.linspace(start, stop,n+2),3)[1:-1]\n",
    "Z"
   ]
  },
  {
   "cell_type": "code",
   "execution_count": 45,
   "metadata": {},
   "outputs": [
    {
     "data": {
      "text/plain": [
       "array([   1.,   10.,  100., 1000.])"
      ]
     },
     "execution_count": 45,
     "metadata": {},
     "output_type": "execute_result"
    }
   ],
   "source": [
    "# 6.6 Numpy-100 (31-34,37-40). Exercise 8\n",
    "\n",
    "#39.2\n",
    "#На вход подаются 3 числа (каждое с новой строки):\n",
    "#start\n",
    "#stop\n",
    "#n\n",
    "#Составьте список из n точек на отрезке [start, stop] в геометрической прогрессии, включая start и stop.\n",
    "#Округлите значения точек до 3 знака после запятой.\n",
    "#Результат сохраните в переменную Z.\n",
    "\n",
    "import numpy as np\n",
    "\n",
    "#start, stop,n= int(input()) , int(input()), int(input())\n",
    "\n",
    "start, stop,n =1,1000, 4\n",
    "\n",
    "Z = np.round(np.geomspace(start, stop,n),3)\n",
    "Z"
   ]
  },
  {
   "cell_type": "code",
   "execution_count": 1,
   "metadata": {},
   "outputs": [
    {
     "name": "stdout",
     "output_type": "stream",
     "text": [
      "42\n",
      "10\n"
     ]
    },
    {
     "data": {
      "text/plain": [
       "array([0.05808361, 0.15599452, 0.15601864, 0.37454012, 0.59865848,\n",
       "       0.60111501, 0.70807258, 0.73199394, 0.86617615, 0.95071431])"
      ]
     },
     "execution_count": 1,
     "metadata": {},
     "output_type": "execute_result"
    }
   ],
   "source": [
    "# 6.6 Numpy-100 (31-34,37-40). Exercise 9\n",
    "#Считайте 2 числа:\n",
    "#seed\n",
    "#n\n",
    "#С помощью Numpy сгенерируйте n случайных чисел из интервала (0, 1) с фиксированным \n",
    "#seed (https://docs.scipy.org/doc/numpy-1.14.0/reference/generated/numpy.random.seed.html), отсортируйте их \n",
    "#по возрастанию и сохраните в переменную Z.\n",
    "import numpy as np\n",
    "\n",
    "seed,n = int(input()), int(input())\n",
    "np.random.seed(seed)\n",
    "Z = np.sort(np.random.rand(n))\n",
    "Z"
   ]
  },
  {
   "cell_type": "code",
   "execution_count": 4,
   "metadata": {},
   "outputs": [
    {
     "name": "stdout",
     "output_type": "stream",
     "text": [
      "0.24.2\n",
      "\n",
      "INSTALLED VERSIONS\n",
      "------------------\n",
      "commit: None\n",
      "python: 3.6.4.final.0\n",
      "python-bits: 64\n",
      "OS: Windows\n",
      "OS-release: 10\n",
      "machine: AMD64\n",
      "processor: Intel64 Family 6 Model 60 Stepping 3, GenuineIntel\n",
      "byteorder: little\n",
      "LC_ALL: None\n",
      "LANG: None\n",
      "LOCALE: None.None\n",
      "\n",
      "pandas: 0.24.2\n",
      "pytest: 3.3.2\n",
      "pip: 19.1.1\n",
      "setuptools: 38.4.0\n",
      "Cython: 0.27.3\n",
      "numpy: 1.16.4\n",
      "scipy: 1.2.1\n",
      "pyarrow: None\n",
      "xarray: None\n",
      "IPython: 7.6.1\n",
      "sphinx: 1.6.6\n",
      "patsy: 0.5.0\n",
      "dateutil: 2.6.1\n",
      "pytz: 2017.3\n",
      "blosc: None\n",
      "bottleneck: 1.2.1\n",
      "tables: 3.4.2\n",
      "numexpr: 2.6.9\n",
      "feather: None\n",
      "matplotlib: 2.1.2\n",
      "openpyxl: 2.4.10\n",
      "xlrd: 1.1.0\n",
      "xlwt: 1.3.0\n",
      "xlsxwriter: 1.0.2\n",
      "lxml.etree: 4.1.1\n",
      "bs4: 4.6.0\n",
      "html5lib: 1.0.1\n",
      "sqlalchemy: 1.2.1\n",
      "pymysql: None\n",
      "psycopg2: None\n",
      "jinja2: 2.10\n",
      "s3fs: None\n",
      "fastparquet: None\n",
      "pandas_gbq: None\n",
      "pandas_datareader: None\n",
      "gcsfs: None\n",
      "None\n"
     ]
    }
   ],
   "source": [
    "import pandas as pd\n",
    "print(pd.__version__)\n",
    "\n",
    "print(pd.show_versions())"
   ]
  },
  {
   "cell_type": "code",
   "execution_count": 1,
   "metadata": {},
   "outputs": [],
   "source": [
    "import numpy as np\n",
    "data = {'animal': ['cat', 'cat', 'snake', 'dog', 'dog', 'cat', 'snake', 'cat', 'dog', 'dog'],\n",
    "        'age': [2.5, 3, 0.5, np.nan, 5, 2, 4.5, np.nan, 7, 3],\n",
    "        'visits': [1, 3, 2, 3, 2, 3, 1, 1, 2, 1],\n",
    "        'priority': ['yes', 'yes', 'no', 'yes', 'no', 'no', 'no', 'yes', 'no', 'no']}\n",
    "\n",
    "labels = ['a', 'b', 'c', 'd', 'e', 'f', 'g', 'h', 'i', 'j']\n"
   ]
  },
  {
   "cell_type": "code",
   "execution_count": 13,
   "metadata": {},
   "outputs": [
    {
     "data": {
      "text/html": [
       "<div>\n",
       "<style scoped>\n",
       "    .dataframe tbody tr th:only-of-type {\n",
       "        vertical-align: middle;\n",
       "    }\n",
       "\n",
       "    .dataframe tbody tr th {\n",
       "        vertical-align: top;\n",
       "    }\n",
       "\n",
       "    .dataframe thead th {\n",
       "        text-align: right;\n",
       "    }\n",
       "</style>\n",
       "<table border=\"1\" class=\"dataframe\">\n",
       "  <thead>\n",
       "    <tr style=\"text-align: right;\">\n",
       "      <th></th>\n",
       "      <th>animal</th>\n",
       "      <th>age</th>\n",
       "      <th>visits</th>\n",
       "      <th>priority</th>\n",
       "    </tr>\n",
       "  </thead>\n",
       "  <tbody>\n",
       "    <tr>\n",
       "      <th>a</th>\n",
       "      <td>cat</td>\n",
       "      <td>2.5</td>\n",
       "      <td>1</td>\n",
       "      <td>yes</td>\n",
       "    </tr>\n",
       "    <tr>\n",
       "      <th>b</th>\n",
       "      <td>cat</td>\n",
       "      <td>3.0</td>\n",
       "      <td>3</td>\n",
       "      <td>yes</td>\n",
       "    </tr>\n",
       "    <tr>\n",
       "      <th>c</th>\n",
       "      <td>snake</td>\n",
       "      <td>0.5</td>\n",
       "      <td>2</td>\n",
       "      <td>no</td>\n",
       "    </tr>\n",
       "    <tr>\n",
       "      <th>d</th>\n",
       "      <td>dog</td>\n",
       "      <td>NaN</td>\n",
       "      <td>3</td>\n",
       "      <td>yes</td>\n",
       "    </tr>\n",
       "    <tr>\n",
       "      <th>e</th>\n",
       "      <td>dog</td>\n",
       "      <td>5.0</td>\n",
       "      <td>2</td>\n",
       "      <td>no</td>\n",
       "    </tr>\n",
       "    <tr>\n",
       "      <th>f</th>\n",
       "      <td>cat</td>\n",
       "      <td>2.0</td>\n",
       "      <td>3</td>\n",
       "      <td>no</td>\n",
       "    </tr>\n",
       "    <tr>\n",
       "      <th>g</th>\n",
       "      <td>snake</td>\n",
       "      <td>4.5</td>\n",
       "      <td>1</td>\n",
       "      <td>no</td>\n",
       "    </tr>\n",
       "    <tr>\n",
       "      <th>h</th>\n",
       "      <td>cat</td>\n",
       "      <td>NaN</td>\n",
       "      <td>1</td>\n",
       "      <td>yes</td>\n",
       "    </tr>\n",
       "    <tr>\n",
       "      <th>i</th>\n",
       "      <td>dog</td>\n",
       "      <td>7.0</td>\n",
       "      <td>2</td>\n",
       "      <td>no</td>\n",
       "    </tr>\n",
       "    <tr>\n",
       "      <th>j</th>\n",
       "      <td>dog</td>\n",
       "      <td>3.0</td>\n",
       "      <td>1</td>\n",
       "      <td>no</td>\n",
       "    </tr>\n",
       "  </tbody>\n",
       "</table>\n",
       "</div>"
      ],
      "text/plain": [
       "  animal  age  visits priority\n",
       "a    cat  2.5       1      yes\n",
       "b    cat  3.0       3      yes\n",
       "c  snake  0.5       2       no\n",
       "d    dog  NaN       3      yes\n",
       "e    dog  5.0       2       no\n",
       "f    cat  2.0       3       no\n",
       "g  snake  4.5       1       no\n",
       "h    cat  NaN       1      yes\n",
       "i    dog  7.0       2       no\n",
       "j    dog  3.0       1       no"
      ]
     },
     "execution_count": 13,
     "metadata": {},
     "output_type": "execute_result"
    }
   ],
   "source": [
    "import pandas as pd\n",
    "df = pd.DataFrame(data=data, index = labels)\n",
    "df"
   ]
  },
  {
   "cell_type": "code",
   "execution_count": 13,
   "metadata": {},
   "outputs": [
    {
     "data": {
      "text/plain": [
       "'dog'"
      ]
     },
     "execution_count": 13,
     "metadata": {},
     "output_type": "execute_result"
    }
   ],
   "source": [
    "col = \"animal\"\n",
    "row = \"e\"\n",
    "print(df.loc[row, col])"
   ]
  },
  {
   "cell_type": "code",
   "execution_count": 14,
   "metadata": {},
   "outputs": [
    {
     "name": "stdout",
     "output_type": "stream",
     "text": [
      "<class 'pandas.core.frame.DataFrame'>\n",
      "Index: 10 entries, a to j\n",
      "Data columns (total 4 columns):\n",
      "animal      10 non-null object\n",
      "age         8 non-null float64\n",
      "visits      10 non-null int64\n",
      "priority    10 non-null object\n",
      "dtypes: float64(1), int64(1), object(2)\n",
      "memory usage: 720.0+ bytes\n"
     ]
    }
   ],
   "source": [
    "df.info()"
   ]
  },
  {
   "cell_type": "code",
   "execution_count": 23,
   "metadata": {},
   "outputs": [
    {
     "name": "stdout",
     "output_type": "stream",
     "text": [
      "8\n",
      "count    8.000\n",
      "75%      4.625\n",
      "Name: age, dtype: float64\n"
     ]
    }
   ],
   "source": [
    "# 6.7 Pandas-100 (1-10). Exercise 5\n",
    "import pandas as pd\n",
    "\n",
    "print(sum(df.age.notna()))\n",
    "print(df.describe().loc[['count','75%'],'age'])"
   ]
  },
  {
   "cell_type": "code",
   "execution_count": 22,
   "metadata": {},
   "outputs": [
    {
     "data": {
      "text/html": [
       "<div>\n",
       "<style scoped>\n",
       "    .dataframe tbody tr th:only-of-type {\n",
       "        vertical-align: middle;\n",
       "    }\n",
       "\n",
       "    .dataframe tbody tr th {\n",
       "        vertical-align: top;\n",
       "    }\n",
       "\n",
       "    .dataframe thead th {\n",
       "        text-align: right;\n",
       "    }\n",
       "</style>\n",
       "<table border=\"1\" class=\"dataframe\">\n",
       "  <thead>\n",
       "    <tr style=\"text-align: right;\">\n",
       "      <th></th>\n",
       "      <th>age</th>\n",
       "      <th>visits</th>\n",
       "    </tr>\n",
       "  </thead>\n",
       "  <tbody>\n",
       "    <tr>\n",
       "      <th>count</th>\n",
       "      <td>8.000000</td>\n",
       "      <td>10.000000</td>\n",
       "    </tr>\n",
       "    <tr>\n",
       "      <th>mean</th>\n",
       "      <td>3.437500</td>\n",
       "      <td>1.900000</td>\n",
       "    </tr>\n",
       "    <tr>\n",
       "      <th>std</th>\n",
       "      <td>2.007797</td>\n",
       "      <td>0.875595</td>\n",
       "    </tr>\n",
       "    <tr>\n",
       "      <th>min</th>\n",
       "      <td>0.500000</td>\n",
       "      <td>1.000000</td>\n",
       "    </tr>\n",
       "    <tr>\n",
       "      <th>25%</th>\n",
       "      <td>2.375000</td>\n",
       "      <td>1.000000</td>\n",
       "    </tr>\n",
       "    <tr>\n",
       "      <th>50%</th>\n",
       "      <td>3.000000</td>\n",
       "      <td>2.000000</td>\n",
       "    </tr>\n",
       "    <tr>\n",
       "      <th>75%</th>\n",
       "      <td>4.625000</td>\n",
       "      <td>2.750000</td>\n",
       "    </tr>\n",
       "    <tr>\n",
       "      <th>max</th>\n",
       "      <td>7.000000</td>\n",
       "      <td>3.000000</td>\n",
       "    </tr>\n",
       "  </tbody>\n",
       "</table>\n",
       "</div>"
      ],
      "text/plain": [
       "            age     visits\n",
       "count  8.000000  10.000000\n",
       "mean   3.437500   1.900000\n",
       "std    2.007797   0.875595\n",
       "min    0.500000   1.000000\n",
       "25%    2.375000   1.000000\n",
       "50%    3.000000   2.000000\n",
       "75%    4.625000   2.750000\n",
       "max    7.000000   3.000000"
      ]
     },
     "execution_count": 22,
     "metadata": {},
     "output_type": "execute_result"
    }
   ],
   "source": [
    "df.describe()"
   ]
  },
  {
   "cell_type": "code",
   "execution_count": 26,
   "metadata": {},
   "outputs": [
    {
     "name": "stdout",
     "output_type": "stream",
     "text": [
      "  animal  age  visits priority\n",
      "d    dog  NaN       3      yes\n",
      "h    cat  NaN       1      yes\n"
     ]
    }
   ],
   "source": [
    "print(df[df.age.isnull()])"
   ]
  },
  {
   "cell_type": "code",
   "execution_count": 28,
   "metadata": {},
   "outputs": [
    {
     "data": {
      "text/html": [
       "<div>\n",
       "<style scoped>\n",
       "    .dataframe tbody tr th:only-of-type {\n",
       "        vertical-align: middle;\n",
       "    }\n",
       "\n",
       "    .dataframe tbody tr th {\n",
       "        vertical-align: top;\n",
       "    }\n",
       "\n",
       "    .dataframe thead th {\n",
       "        text-align: right;\n",
       "    }\n",
       "</style>\n",
       "<table border=\"1\" class=\"dataframe\">\n",
       "  <thead>\n",
       "    <tr style=\"text-align: right;\">\n",
       "      <th></th>\n",
       "      <th>animal</th>\n",
       "      <th>age</th>\n",
       "      <th>visits</th>\n",
       "      <th>priority</th>\n",
       "    </tr>\n",
       "  </thead>\n",
       "  <tbody>\n",
       "    <tr>\n",
       "      <th>a</th>\n",
       "      <td>cat</td>\n",
       "      <td>2.5</td>\n",
       "      <td>1</td>\n",
       "      <td>yes</td>\n",
       "    </tr>\n",
       "    <tr>\n",
       "      <th>f</th>\n",
       "      <td>cat</td>\n",
       "      <td>2.0</td>\n",
       "      <td>3</td>\n",
       "      <td>no</td>\n",
       "    </tr>\n",
       "  </tbody>\n",
       "</table>\n",
       "</div>"
      ],
      "text/plain": [
       "  animal  age  visits priority\n",
       "a    cat  2.5       1      yes\n",
       "f    cat  2.0       3       no"
      ]
     },
     "execution_count": 28,
     "metadata": {},
     "output_type": "execute_result"
    }
   ],
   "source": [
    "# 6.8 Pandas-100 (11-20). Exercise 1\n",
    "import pandas as pd\n",
    "\n",
    "filter_names = [\"animal\", \"age\"]\n",
    "filter_values = [\"cat\", 3]\n",
    "\n",
    "print(df[(df[filter_names[0]] == filter_values[0]) &(df[filter_names[1]] < filter_values[1])])"
   ]
  },
  {
   "cell_type": "code",
   "execution_count": 29,
   "metadata": {},
   "outputs": [
    {
     "data": {
      "text/html": [
       "<div>\n",
       "<style scoped>\n",
       "    .dataframe tbody tr th:only-of-type {\n",
       "        vertical-align: middle;\n",
       "    }\n",
       "\n",
       "    .dataframe tbody tr th {\n",
       "        vertical-align: top;\n",
       "    }\n",
       "\n",
       "    .dataframe thead th {\n",
       "        text-align: right;\n",
       "    }\n",
       "</style>\n",
       "<table border=\"1\" class=\"dataframe\">\n",
       "  <thead>\n",
       "    <tr style=\"text-align: right;\">\n",
       "      <th></th>\n",
       "      <th>animal</th>\n",
       "      <th>age</th>\n",
       "      <th>visits</th>\n",
       "      <th>priority</th>\n",
       "    </tr>\n",
       "  </thead>\n",
       "  <tbody>\n",
       "    <tr>\n",
       "      <th>a</th>\n",
       "      <td>cat</td>\n",
       "      <td>2.5</td>\n",
       "      <td>1</td>\n",
       "      <td>yes</td>\n",
       "    </tr>\n",
       "    <tr>\n",
       "      <th>b</th>\n",
       "      <td>cat</td>\n",
       "      <td>3.0</td>\n",
       "      <td>3</td>\n",
       "      <td>yes</td>\n",
       "    </tr>\n",
       "    <tr>\n",
       "      <th>f</th>\n",
       "      <td>cat</td>\n",
       "      <td>2.0</td>\n",
       "      <td>3</td>\n",
       "      <td>no</td>\n",
       "    </tr>\n",
       "    <tr>\n",
       "      <th>j</th>\n",
       "      <td>dog</td>\n",
       "      <td>3.0</td>\n",
       "      <td>1</td>\n",
       "      <td>no</td>\n",
       "    </tr>\n",
       "  </tbody>\n",
       "</table>\n",
       "</div>"
      ],
      "text/plain": [
       "  animal  age  visits priority\n",
       "a    cat  2.5       1      yes\n",
       "b    cat  3.0       3      yes\n",
       "f    cat  2.0       3       no\n",
       "j    dog  3.0       1       no"
      ]
     },
     "execution_count": 29,
     "metadata": {},
     "output_type": "execute_result"
    }
   ],
   "source": [
    "# 6.8 Pandas-100 (11-20). Exercise 2\n",
    "#Переменная df содержит DataFrame.\n",
    "#Переменная age_between содержит 2 числа\n",
    "#Выведите только те строки датафрейма, возраст в которых находится в интервале между числами age_between (включая границы).\n",
    "\n",
    "age_between = [2, 4]\n",
    "\n",
    "print(df[df.age.between(*age_between)])"
   ]
  },
  {
   "cell_type": "code",
   "execution_count": 3,
   "metadata": {},
   "outputs": [
    {
     "name": "stdout",
     "output_type": "stream",
     "text": [
      "age:27.5\n",
      "visits:19\n"
     ]
    }
   ],
   "source": [
    "# 6.8 Pandas-100 (11-20). Exercise 6\n",
    "#14.2\n",
    "#Переменная df содержит DataFrame.\n",
    "#Выведите на печать для каждого столбца, содержащего числа его имя и сумму через двоеточие.\n",
    "\n",
    "for a in df.describe().columns:\n",
    "    print(a+':'+str(df[a].sum()))\n"
   ]
  },
  {
   "cell_type": "code",
   "execution_count": 9,
   "metadata": {},
   "outputs": [
    {
     "data": {
      "text/plain": [
       "animal\n",
       "cat      2.5\n",
       "dog      5.0\n",
       "snake    2.5\n",
       "Name: age, dtype: float64"
      ]
     },
     "execution_count": 9,
     "metadata": {},
     "output_type": "execute_result"
    }
   ],
   "source": [
    "# 6.8 Pandas-100 (11-20). Exercise 7\n",
    "15\n",
    "#Переменная df содержит DataFrame.\n",
    "#Переменная group_by содержит имя колонки по которой производится группировка.\n",
    "#Найдите средние значение возраста по всем записям, сгруппированным по значению в колонке group_by и выведите на печать.\n",
    "\n",
    "group_by = \"animal\"\n",
    "\n",
    "print(df.groupby(group_by).mean().age)\n",
    "#df.info(DataFrame.groupby())"
   ]
  },
  {
   "cell_type": "code",
   "execution_count": 28,
   "metadata": {},
   "outputs": [
    {
     "data": {
      "text/html": [
       "<div>\n",
       "<style scoped>\n",
       "    .dataframe tbody tr th:only-of-type {\n",
       "        vertical-align: middle;\n",
       "    }\n",
       "\n",
       "    .dataframe tbody tr th {\n",
       "        vertical-align: top;\n",
       "    }\n",
       "\n",
       "    .dataframe thead th {\n",
       "        text-align: right;\n",
       "    }\n",
       "</style>\n",
       "<table border=\"1\" class=\"dataframe\">\n",
       "  <thead>\n",
       "    <tr style=\"text-align: right;\">\n",
       "      <th></th>\n",
       "      <th>animal</th>\n",
       "      <th>age</th>\n",
       "      <th>name</th>\n",
       "      <th>visits</th>\n",
       "      <th>priority</th>\n",
       "    </tr>\n",
       "  </thead>\n",
       "  <tbody>\n",
       "    <tr>\n",
       "      <th>a</th>\n",
       "      <td>cat</td>\n",
       "      <td>2.5</td>\n",
       "      <td>Murzik</td>\n",
       "      <td>1</td>\n",
       "      <td>yes</td>\n",
       "    </tr>\n",
       "    <tr>\n",
       "      <th>b</th>\n",
       "      <td>cat</td>\n",
       "      <td>3</td>\n",
       "      <td>Pushok</td>\n",
       "      <td>3</td>\n",
       "      <td>yes</td>\n",
       "    </tr>\n",
       "    <tr>\n",
       "      <th>c</th>\n",
       "      <td>snake</td>\n",
       "      <td>0.5</td>\n",
       "      <td>Kaa</td>\n",
       "      <td>2</td>\n",
       "      <td>no</td>\n",
       "    </tr>\n",
       "    <tr>\n",
       "      <th>d</th>\n",
       "      <td>dog</td>\n",
       "      <td>NaN</td>\n",
       "      <td>Bobik</td>\n",
       "      <td>3</td>\n",
       "      <td>yes</td>\n",
       "    </tr>\n",
       "    <tr>\n",
       "      <th>e</th>\n",
       "      <td>dog</td>\n",
       "      <td>5</td>\n",
       "      <td>Strelka</td>\n",
       "      <td>2</td>\n",
       "      <td>no</td>\n",
       "    </tr>\n",
       "    <tr>\n",
       "      <th>g</th>\n",
       "      <td>snake</td>\n",
       "      <td>4.5</td>\n",
       "      <td>Kaa2</td>\n",
       "      <td>1</td>\n",
       "      <td>no</td>\n",
       "    </tr>\n",
       "    <tr>\n",
       "      <th>h</th>\n",
       "      <td>cat</td>\n",
       "      <td>NaN</td>\n",
       "      <td>Murka</td>\n",
       "      <td>1</td>\n",
       "      <td>yes</td>\n",
       "    </tr>\n",
       "    <tr>\n",
       "      <th>i</th>\n",
       "      <td>dog</td>\n",
       "      <td>7</td>\n",
       "      <td>Graf</td>\n",
       "      <td>2</td>\n",
       "      <td>no</td>\n",
       "    </tr>\n",
       "    <tr>\n",
       "      <th>j</th>\n",
       "      <td>dog</td>\n",
       "      <td>3</td>\n",
       "      <td>Muhtar</td>\n",
       "      <td>1</td>\n",
       "      <td>no</td>\n",
       "    </tr>\n",
       "    <tr>\n",
       "      <th>k</th>\n",
       "      <td>5.5</td>\n",
       "      <td>dog</td>\n",
       "      <td>Belka</td>\n",
       "      <td>no</td>\n",
       "      <td>2</td>\n",
       "    </tr>\n",
       "  </tbody>\n",
       "</table>\n",
       "</div>"
      ],
      "text/plain": [
       "  animal  age     name visits priority\n",
       "a    cat  2.5   Murzik      1      yes\n",
       "b    cat    3   Pushok      3      yes\n",
       "c  snake  0.5      Kaa      2       no\n",
       "d    dog  NaN    Bobik      3      yes\n",
       "e    dog    5  Strelka      2       no\n",
       "g  snake  4.5     Kaa2      1       no\n",
       "h    cat  NaN    Murka      1      yes\n",
       "i    dog    7     Graf      2       no\n",
       "j    dog    3   Muhtar      1       no\n",
       "k    5.5  dog    Belka     no        2"
      ]
     },
     "execution_count": 28,
     "metadata": {},
     "output_type": "execute_result"
    }
   ],
   "source": [
    "# 6.8 Pandas-100 (11-20). Exercise 8\n",
    "#16\n",
    "#Переменная df содержит DataFrame.\n",
    "#new_index - индекс для строки, которую надо добавить\n",
    "#new_data - значения для строки, которую надо добавить\n",
    "#del_index - индекс строки, которую надо удалить\n",
    "#Добавьте новую строку (с индексом new_index и значениями new_data) и удалите одну из старых (del_index)\n",
    "#Выведите df на печать.\n",
    "\n",
    "df = pd.DataFrame({'animal': ['cat', 'cat', 'snake', 'dog', 'dog', 'cat', 'snake', 'cat', 'dog', 'dog'],\n",
    "                   'age': [2.5, 3, 0.5, np.nan, 5, 2, 4.5, np.nan, 7, 3],\n",
    "                   'name': ['Murzik', 'Pushok', 'Kaa', 'Bobik', 'Strelka', 'Vaska', 'Kaa2', 'Murka', 'Graf', 'Muhtar'],\n",
    "                   'visits': [1, 3, 2, 3, 2, 3, 1, 1, 2, 1],\n",
    "                   'priority': ['yes', 'yes', 'no', 'yes', 'no', 'no', 'no', 'yes', 'no', 'no']}, \n",
    "                  index = ['a', 'b', 'c', 'd', 'e', 'f', 'g', 'h', 'i', 'j'])\n",
    "                 \n",
    "new_index = \"k\"\n",
    "new_data = [5.5, \"dog\", \"Belka\", \"no\", 2]\n",
    "del_index = \"f\"\n",
    "\n",
    "df.loc[new_index] =new_data\n",
    "df.drop(del_index, inplace=True)\n",
    "df\n"
   ]
  },
  {
   "cell_type": "code",
   "execution_count": 30,
   "metadata": {},
   "outputs": [
    {
     "name": "stdout",
     "output_type": "stream",
     "text": [
      "cat      4\n",
      "dog      3\n",
      "snake    2\n",
      "Name: animal, dtype: int64\n"
     ]
    }
   ],
   "source": [
    "# 6.8 Pandas-100 (11-20). Exercise 9\n",
    "#17\n",
    "#Переменная df содержит DataFrame.\n",
    "#Переменная group_by содержит имя колонки по которой производится группировка.\n",
    "#Найдите количество записей каждого типа, сгруппированным по значению в колонке group_by.\n",
    "\n",
    "\n",
    "df = pd.DataFrame({'animal': ['cat', 'cat', 'snake', 'dog', 'dog', 'cat', 'snake', 'cat', 'dog'],\n",
    "                   'age': [2.5, 3, 0.5, np.nan, 5, 2, 4.5, np.nan, 7],\n",
    "                   'name': ['Murzik', 'Pushok', 'Kaa', 'Bobik', 'Strelka', 'Vaska', 'Kaa2', 'Murka', 'Graf'],\n",
    "                   'visits': [1, 3, 2, 3, 2, 3, 1, 1, 2],\n",
    "                   'priority': ['yes', 'yes', 'no', 'yes', 'no', 'no', 'no', 'yes', 'no']},\n",
    "                 index = ['a', 'b', 'c', 'd', 'e', 'f', 'g', 'h', 'i'])\n",
    "group_by = \"animal\"\n",
    "print(df[group_by].value_counts())\n"
   ]
  },
  {
   "cell_type": "code",
   "execution_count": 34,
   "metadata": {},
   "outputs": [
    {
     "name": "stdout",
     "output_type": "stream",
     "text": [
      "  animal  age     name  visits  priority\n",
      "a    cat  2.5   Murzik       1      True\n",
      "b    cat  3.0   Pushok       3      True\n",
      "c  snake  0.5      Kaa       2     False\n",
      "d    dog  NaN    Bobik       3      True\n",
      "e    dog  5.0  Strelka       2     False\n",
      "f    cat  2.0    Vaska       3     False\n",
      "g  snake  4.5     Kaa2       1     False\n",
      "h    cat  NaN    Murka       1      True\n",
      "i    dog  7.0     Graf       2     False\n",
      "j    dog  3.0   Muhtar       1     False\n"
     ]
    }
   ],
   "source": [
    "# 6.8 Pandas-100 (11-20). Exercise 11\n",
    "#19\n",
    "#Переменная df содержит DataFrame.\n",
    "#Переменная column содержит имя колонки, содержащей строковые значения \"yes\", \"No\", либо числовые 1 или 0.\n",
    "#Замените в column:\n",
    "#\"yes\" и 1 на True\n",
    "#\"no\" и 0 на False\n",
    "#Выведите df на печать\n",
    "\n",
    "df = pd.DataFrame({'animal': ['cat', 'cat', 'snake', 'dog', 'dog', 'cat', 'snake', 'cat', 'dog', 'dog'],\n",
    "                   'age': [2.5, 3, 0.5, np.nan, 5, 2, 4.5, np.nan, 7, 3],\n",
    "                   'name': ['Murzik', 'Pushok', 'Kaa', 'Bobik', 'Strelka', 'Vaska', 'Kaa2', 'Murka', 'Graf', 'Muhtar'],\n",
    "                   'visits': [1, 3, 2, 3, 2, 3, 1, 1, 2, 1],\n",
    "                   'priority': ['yes', 'yes', 'no', 'yes', 'no', 'no', 'no', 'yes', 'no', 'no']},\n",
    "                 index = ['a', 'b', 'c', 'd', 'e', 'f', 'g', 'h', 'i', 'j'])\n",
    "column = \"priority\"\n",
    "\n",
    "df[column] = df[column].map({0:False, \"no\": False, 1:True, \"yes\":True})\n",
    "print(df)"
   ]
  },
  {
   "cell_type": "code",
   "execution_count": 36,
   "metadata": {},
   "outputs": [
    {
     "name": "stdout",
     "output_type": "stream",
     "text": [
      "   animal  age     name  visits  priority\n",
      "a     cat  2.5   Murzik       1      True\n",
      "b     cat  3.0   Pushok       3      True\n",
      "c  python  0.5      Kaa       2     False\n",
      "d     dog  NaN    Bobik       3      True\n",
      "e     dog  5.0  Strelka       2     False\n",
      "f     cat  2.0    Vaska       3     False\n",
      "g  python  4.5     Kaa2       1     False\n",
      "h     cat  NaN    Murka       1      True\n",
      "i     dog  7.0     Graf       2     False\n",
      "j     dog  3.0   Muhtar       1     False\n"
     ]
    }
   ],
   "source": [
    "# 6.8 Pandas-100 (11-20). Exercise 12\n",
    "#20\n",
    "#Переменная df содержит DataFrame.\n",
    "#Переменная column содержит имя колонки, значения в которой надо модифицировать.\n",
    "#Переменные old_value и new_value содержат старое и новое значения, соответственно.\n",
    "#Замените все старые значения на новые в соответсвующей колонке.\n",
    "#Выведите df на печать\n",
    "\n",
    "column = 'animal'\n",
    "old_value = 'snake'\n",
    "new_value = 'python'\n",
    "\n",
    "df.loc[df[column]==old_value, column]=new_value\n",
    "print(df)"
   ]
  },
  {
   "cell_type": "code",
   "execution_count": 62,
   "metadata": {},
   "outputs": [
    {
     "data": {
      "text/plain": [
       "1389.0"
      ]
     },
     "execution_count": 62,
     "metadata": {},
     "output_type": "execute_result"
    }
   ],
   "source": [
    "# 6.9 Объединение таблиц Pandas DataFrame.  Exercise 1\n",
    "#На какую сумму купили и оплатили носков любых видов (как мужских, так и женских)?\n",
    "import pandas as pd\n",
    "\n",
    "df_order = pd.read_csv(r'D:/1/stepic_lesson/stepic_stats/orders.csv', sep=';')\n",
    "\n",
    "df_product = pd.read_csv(r'D:/1/stepic_lesson/stepic_stats/Products.csv', sep=';')\n",
    "\n",
    "#print(df_product.head(5))\n",
    "#print(df_order.head(5))\n",
    "df_all= pd.merge(df_order, df_product, left_on='ID товара', right_on='Product_ID', how='left')\n",
    "#print(df_all.head(5))\n",
    "#print(df_order.count())\n",
    "#print(df_product.count())\n",
    "df_socks=df_all[(df_all['Name'].str.contains('носки', case = False, regex=False, na=False)) & (df_all['Оплачен']=='Да') ]\n",
    "(df_socks['Количество']*df_socks['Price']).sum()"
   ]
  },
  {
   "cell_type": "code",
   "execution_count": 83,
   "metadata": {},
   "outputs": [
    {
     "name": "stdout",
     "output_type": "stream",
     "text": [
      "[-2.00000000e+00 -1.90000000e+00 -1.80000000e+00 -1.70000000e+00\n",
      " -1.60000000e+00 -1.50000000e+00 -1.40000000e+00 -1.30000000e+00\n",
      " -1.20000000e+00 -1.10000000e+00 -1.00000000e+00 -9.00000000e-01\n",
      " -8.00000000e-01 -7.00000000e-01 -6.00000000e-01 -5.00000000e-01\n",
      " -4.00000000e-01 -3.00000000e-01 -2.00000000e-01 -1.00000000e-01\n",
      "  1.77635684e-15  1.00000000e-01  2.00000000e-01  3.00000000e-01\n",
      "  4.00000000e-01  5.00000000e-01  6.00000000e-01  7.00000000e-01\n",
      "  8.00000000e-01  9.00000000e-01  1.00000000e+00  1.10000000e+00\n",
      "  1.20000000e+00  1.30000000e+00  1.40000000e+00  1.50000000e+00\n",
      "  1.60000000e+00  1.70000000e+00  1.80000000e+00  1.90000000e+00]\n",
      "[ 5.00000000e-01  4.73684211e-01  4.44444444e-01  4.11764706e-01\n",
      "  3.75000000e-01  3.33333333e-01  2.85714286e-01  2.30769231e-01\n",
      "  1.66666667e-01  9.09090909e-02 -8.88178420e-16 -1.11111111e-01\n",
      " -2.50000000e-01 -4.28571429e-01 -6.66666667e-01 -1.00000000e+00\n",
      " -1.50000000e+00 -2.33333333e+00 -4.00000000e+00 -9.00000000e+00\n",
      "  5.62949953e+14  1.10000000e+01  6.00000000e+00  4.33333333e+00\n",
      "  3.50000000e+00  3.00000000e+00  2.66666667e+00  2.42857143e+00\n",
      "  2.25000000e+00  2.11111111e+00  2.00000000e+00  1.90909091e+00\n",
      "  1.83333333e+00  1.76923077e+00  1.71428571e+00  1.66666667e+00\n",
      "  1.62500000e+00  1.58823529e+00  1.55555556e+00  1.52631579e+00]\n"
     ]
    },
    {
     "data": {
      "image/png": "[encoded data removed]",
      "text/plain": [
       "<matplotlib.figure.Figure at 0x17b021bba20>"
      ]
     },
     "metadata": {
      "needs_background": "light"
     },
     "output_type": "display_data"
    }
   ],
   "source": [
    "# 6.10 Matplotlib.  Exercise 2\n",
    "# Изучение функций с помощью MatplotLib\n",
    "%matplotlib inline\n",
    "import numpy as np\n",
    "import matplotlib.pyplot as plt\n",
    "\n",
    "def f(x,a,b):\n",
    "    #return (x**b+a**b)/x**b\n",
    "    return (x**b+a**b)/x\n",
    "\n",
    "x = np.arange(-2, 2, 0.1)\n",
    "\n",
    "print(x)\n",
    "print(f(x, 1, 1))\n",
    "\n",
    "fig = plt.figure()\n",
    "axes = fig.add_axes([0,0,1,1])\n",
    "axes.plot(x, f(x, 1, 1))\n",
    "fig.show()\n",
    "\n",
    "\n"
   ]
  },
  {
   "cell_type": "code",
   "execution_count": null,
   "metadata": {},
   "outputs": [],
   "source": []
  }
 ],
 "metadata": {
  "kernelspec": {
   "display_name": "Python 3",
   "language": "python",
   "name": "python3"
  },
  "language_info": {
   "codemirror_mode": {
    "name": "ipython",
    "version": 3
   },
   "file_extension": ".py",
   "mimetype": "text/x-python",
   "name": "python",
   "nbconvert_exporter": "python",
   "pygments_lexer": "ipython3",
   "version": "3.6.4"
  }
 },
 "nbformat": 4,
 "nbformat_minor": 2
}
