{
 "cells": [
  {
   "cell_type": "code",
   "execution_count": 1,
   "metadata": {
    "ExecuteTime": {
     "end_time": "2019-07-26T18:38:06.758405Z",
     "start_time": "2019-07-26T18:38:03.979805Z"
    }
   },
   "outputs": [
    {
     "name": "stdout",
     "output_type": "stream",
     "text": [
      "[[2. 1. 0. 0.]\n",
      " [0. 2. 1. 0.]\n",
      " [0. 0. 2. 1.]]\n"
     ]
    }
   ],
   "source": [
    "import numpy as np\n",
    "\n",
    "a = 2*np.eye(3, 4, 0)+np.eye(3, 4, 1)\n",
    "print(a)"
   ]
  },
  {
   "cell_type": "code",
   "execution_count": 11,
   "metadata": {
    "ExecuteTime": {
     "end_time": "2019-07-25T17:55:24.363520Z",
     "start_time": "2019-07-25T17:55:24.360520Z"
    }
   },
   "outputs": [
    {
     "name": "stdout",
     "output_type": "stream",
     "text": [
      "[[2.]\n",
      " [1.]\n",
      " [0.]\n",
      " [0.]\n",
      " [0.]\n",
      " [2.]\n",
      " [1.]\n",
      " [0.]\n",
      " [0.]\n",
      " [0.]\n",
      " [2.]\n",
      " [1.]]\n"
     ]
    }
   ],
   "source": [
    "mat = a\n",
    "print(mat.reshape(12,1))"
   ]
  },
  {
   "cell_type": "code",
   "execution_count": 9,
   "metadata": {
    "ExecuteTime": {
     "end_time": "2019-07-26T18:44:08.696645Z",
     "start_time": "2019-07-26T18:43:41.251642Z"
    }
   },
   "outputs": [
    {
     "name": "stdout",
     "output_type": "stream",
     "text": [
      "2 3\n",
      "8 7 7 14 4 6\n",
      "4 3\n",
      "5 5 1 5 2 6 3 3 9 1 4 6\n",
      "[[ 82  96 108  78]\n",
      " [ 96 114 108  66]]\n"
     ]
    }
   ],
   "source": [
    "x_shape = tuple(map(int, input().split()))\n",
    "X = np.fromiter(map(int, input().split()), np.int).reshape(x_shape)\n",
    "y_shape = tuple(map(int, input().split()))\n",
    "Y = np.fromiter(map(int, input().split()), np.int).reshape(y_shape)\n",
    "\n",
    "try:\n",
    "    n = np.dot(X, Y.T)\n",
    "    print(n)\n",
    "except:\n",
    "    print(\"matrix shapes do not match\")"
   ]
  },
  {
   "cell_type": "code",
   "execution_count": 8,
   "metadata": {
    "ExecuteTime": {
     "end_time": "2019-07-26T18:43:36.925518Z",
     "start_time": "2019-07-26T18:43:36.921520Z"
    }
   },
   "outputs": [
    {
     "name": "stdout",
     "output_type": "stream",
     "text": [
      "[[ 82  96 108  78]\n",
      " [ 96 114 108  66]]\n"
     ]
    }
   ],
   "source": [
    "n = np.dot(X, Y.T)\n",
    "print(n)"
   ]
  },
  {
   "cell_type": "code",
   "execution_count": 7,
   "metadata": {},
   "outputs": [
    {
     "name": "stdout",
     "output_type": "stream",
     "text": [
      "сумма квадратов отклонений 7.0\n",
      "сумма модулей отклонений 6.0\n",
      "Итоговый ответ 7.0\n"
     ]
    }
   ],
   "source": [
    "# 1.7 Линейная алгебра в деле. Exercise 3\n",
    "# посчитайте сумму квадратов отклонений и сумму модулей отклонений. В ответе напишите максимальное из этих двух значений\n",
    "\n",
    "arr = ((0.25, 0), (0.5, 1), (0.75, 0), (1.25, 0), (1.75, 1), (2,2))\n",
    "\n",
    "def func(x):\n",
    "    return 2*x-1\n",
    "\n",
    "sum_sq, sum_abs =0, 0\n",
    "\n",
    "for a in arr:\n",
    "    sum_sq += (func(a[0]) - a[1])**2\n",
    "    sum_abs += abs(func(a[0]) - a[1])\n",
    "    \n",
    "print('сумма квадратов отклонений', sum_sq)\n",
    "print('сумма модулей отклонений', sum_abs)\n",
    "print('Итоговый ответ', max(sum_sq,sum_abs))"
   ]
  },
  {
   "cell_type": "code",
   "execution_count": 1,
   "metadata": {},
   "outputs": [
    {
     "name": "stdout",
     "output_type": "stream",
     "text": [
      "7.0\n",
      "6.0 7.0\n"
     ]
    }
   ],
   "source": [
    "# 1.7 Линейная алгебра в деле. Exercise 3\n",
    "# чужая реализация предыдущей задачи с другим форматом входных данных (y и y^)\n",
    "arr = ((0, -0.5), (1, 0), (0, 0.5), (0, 1.5), (1, 2.5), (2,3))\n",
    "\n",
    "def sqerr(a, b):\n",
    "  return (a - b)**2\n",
    "\n",
    "def abserr(a, b):\n",
    "  return abs(a - b)\n",
    "\n",
    "def errsum(err_fun):\n",
    "  return sum(list(map(lambda pair: err_fun(pair[0], pair[1]), arr)))\n",
    "\n",
    "print(str(max(errsum(abserr), errsum(sqerr))))\n",
    "\n",
    "print(errsum(abserr), errsum(sqerr))"
   ]
  },
  {
   "cell_type": "code",
   "execution_count": 15,
   "metadata": {},
   "outputs": [
    {
     "name": "stdout",
     "output_type": "stream",
     "text": [
      "[[3600 3000 4500]\n",
      " [3000 2500 3750]\n",
      " [4500 3750 5625]]\n"
     ]
    }
   ],
   "source": [
    "# 1.7 Линейная алгебра в деле. Exercise 5\n",
    "\n",
    "import numpy as np\n",
    "\n",
    "y = np.array(((10,), (7,), (12,)))\n",
    "x = np.array(((60,),(50,),(75,)))\n",
    "B = np.dot(x,x.T)\n",
    "print(B)"
   ]
  },
  {
   "cell_type": "code",
   "execution_count": null,
   "metadata": {},
   "outputs": [],
   "source": []
  }
 ],
 "metadata": {
  "kernelspec": {
   "display_name": "Python 3",
   "language": "python",
   "name": "python3"
  },
  "language_info": {
   "codemirror_mode": {
    "name": "ipython",
    "version": 3
   },
   "file_extension": ".py",
   "mimetype": "text/x-python",
   "name": "python",
   "nbconvert_exporter": "python",
   "pygments_lexer": "ipython3",
   "version": "3.6.4"
  }
 },
 "nbformat": 4,
 "nbformat_minor": 2
}
