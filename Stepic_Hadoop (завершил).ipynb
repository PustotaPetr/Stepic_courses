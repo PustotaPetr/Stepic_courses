{
 "cells": [
  {
   "cell_type": "markdown",
   "metadata": {},
   "source": [
    "Задачи к курсу на Stepic \"Hadoop. Система для обработки больших объемов данных\" https://stepik.org/course/150"
   ]
  },
  {
   "cell_type": "code",
   "execution_count": 11,
   "metadata": {
    "ExecuteTime": {
     "end_time": "2019-10-21T06:20:05.289386Z",
     "start_time": "2019-10-21T06:20:05.286393Z"
    }
   },
   "outputs": [],
   "source": [
    "import sys\n",
    "In=['aut Caesar aut nihil','aut aut','de mortuis aut bene aut nihil']\n",
    "\n",
    "sys.stdin=In"
   ]
  },
  {
   "cell_type": "code",
   "execution_count": 13,
   "metadata": {
    "ExecuteTime": {
     "end_time": "2019-10-21T06:20:19.079299Z",
     "start_time": "2019-10-21T06:20:19.074298Z"
    }
   },
   "outputs": [
    {
     "name": "stdout",
     "output_type": "stream",
     "text": [
      "aut\t1\n",
      "Caesar\t1\n",
      "aut\t1\n",
      "nihil\t1\n",
      "aut\t1\n",
      "aut\t1\n",
      "de\t1\n",
      "mortuis\t1\n",
      "aut\t1\n",
      "bene\t1\n",
      "aut\t1\n",
      "nihil\t1\n"
     ]
    }
   ],
   "source": [
    "#3.5 Hadoop Streaming Exercise 1\n",
    "import sys\n",
    "\n",
    "for line in sys.stdin:\n",
    "    for token in line.strip().split(\" \"):\n",
    "        if token: print(token + '\\t1')"
   ]
  },
  {
   "cell_type": "code",
   "execution_count": null,
   "metadata": {},
   "outputs": [],
   "source": [
    "#3.5 Hadoop Streaming Exercise 2\n",
    "import sys\n",
    "\n",
    "lastKey, sum = None, 0\n",
    "\n",
    "for line in sys.stdin:\n",
    "    Key, value = line.split('\\t')\n",
    "    if lastKey and lastKey != Key:\n",
    "        print(lastKey+'\\t'+str(sum))\n",
    "        lastKey, sum = Key, int(value)\n",
    "    else:\n",
    "        lastKey, sum = Key, sum+ int(value)\n",
    "if lastKey:\n",
    "    print(lastKey+'\\t'+str(sum))"
   ]
  },
  {
   "cell_type": "code",
   "execution_count": 15,
   "metadata": {
    "ExecuteTime": {
     "end_time": "2019-10-21T06:30:01.771597Z",
     "start_time": "2019-10-21T06:30:01.766598Z"
    }
   },
   "outputs": [
    {
     "name": "stdout",
     "output_type": "stream",
     "text": [
      "aut\t2\n",
      "Caesar\t1\n",
      "nihil\t1\n",
      "aut\t2\n",
      "de\t1\n",
      "mortuis\t1\n",
      "aut\t2\n",
      "bene\t1\n",
      "nihil\t1\n"
     ]
    }
   ],
   "source": [
    "#4.1 Алгоритмы на MapReduce Exercise 1\n",
    "#Напишите программу, которая реализует In-mapper combining v.1 для задачи WordCount в Hadoop Streaming.\n",
    "import sys\n",
    "\n",
    "for line in sys.stdin:\n",
    "    arry = {}\n",
    "    for token in line.strip().split():\n",
    "        if token:\n",
    "            arry[token] = arry.get(token, 0) +1\n",
    "            \n",
    "    for token, val in arry.items():\n",
    "        print(token,val, sep='\\t')"
   ]
  },
  {
   "cell_type": "code",
   "execution_count": 16,
   "metadata": {
    "ExecuteTime": {
     "end_time": "2019-10-21T06:33:23.725253Z",
     "start_time": "2019-10-21T06:33:23.720260Z"
    }
   },
   "outputs": [
    {
     "name": "stdout",
     "output_type": "stream",
     "text": [
      "aut\t6\n",
      "Caesar\t1\n",
      "nihil\t2\n",
      "de\t1\n",
      "mortuis\t1\n",
      "bene\t1\n"
     ]
    }
   ],
   "source": [
    "#4.1 Алгоритмы на MapReduce Exercise 2\n",
    "#Напишите программу, которая реализует In-mapper combining v.2 для задачи WordCount в Hadoop Streaming.\n",
    "import sys\n",
    "\n",
    "arry = {}\n",
    "for line in sys.stdin:\n",
    "    \n",
    "    for token in line.strip().split():\n",
    "        if token:\n",
    "            arry[token] = arry.get(token, 0) +1\n",
    "            \n",
    "for token, val in arry.items():\n",
    "    print(token,val, sep='\\t')"
   ]
  },
  {
   "cell_type": "code",
   "execution_count": 19,
   "metadata": {
    "ExecuteTime": {
     "end_time": "2019-10-21T06:43:56.115973Z",
     "start_time": "2019-10-21T06:43:56.111991Z"
    }
   },
   "outputs": [],
   "source": [
    "In=['www.facebook.com100', 'www.google.com\\t10', 'www.google.com\\t5', 'www.google.com\\t15', \n",
    "    'www.stepic.org\\t60', 'www.stepic.org\\t100']\n",
    "    "
   ]
  },
  {
   "cell_type": "code",
   "execution_count": 20,
   "metadata": {
    "ExecuteTime": {
     "end_time": "2019-10-21T06:43:59.490802Z",
     "start_time": "2019-10-21T06:43:59.479794Z"
    }
   },
   "outputs": [
    {
     "ename": "ValueError",
     "evalue": "not enough values to unpack (expected 2, got 1)",
     "output_type": "error",
     "traceback": [
      "\u001b[1;31m---------------------------------------------------------------------------\u001b[0m",
      "\u001b[1;31mValueError\u001b[0m                                Traceback (most recent call last)",
      "\u001b[1;32m<ipython-input-20-3aa19229b3cc>\u001b[0m in \u001b[0;36m<module>\u001b[1;34m\u001b[0m\n\u001b[0;32m      6\u001b[0m \u001b[1;33m\u001b[0m\u001b[0m\n\u001b[0;32m      7\u001b[0m \u001b[1;32mfor\u001b[0m \u001b[0mline\u001b[0m \u001b[1;32min\u001b[0m \u001b[0msys\u001b[0m\u001b[1;33m.\u001b[0m\u001b[0mstdin\u001b[0m\u001b[1;33m:\u001b[0m\u001b[1;33m\u001b[0m\u001b[0m\n\u001b[1;32m----> 8\u001b[1;33m     \u001b[0mKey\u001b[0m\u001b[1;33m,\u001b[0m \u001b[0mvalue\u001b[0m \u001b[1;33m=\u001b[0m \u001b[0mline\u001b[0m\u001b[1;33m.\u001b[0m\u001b[0msplit\u001b[0m\u001b[1;33m(\u001b[0m\u001b[1;34m'\\t'\u001b[0m\u001b[1;33m)\u001b[0m\u001b[1;33m\u001b[0m\u001b[0m\n\u001b[0m\u001b[0;32m      9\u001b[0m     \u001b[1;32mif\u001b[0m \u001b[0mlastKey\u001b[0m \u001b[1;32mand\u001b[0m \u001b[0mlastKey\u001b[0m \u001b[1;33m!=\u001b[0m \u001b[0mKey\u001b[0m\u001b[1;33m:\u001b[0m\u001b[1;33m\u001b[0m\u001b[0m\n\u001b[0;32m     10\u001b[0m         \u001b[0mprint\u001b[0m\u001b[1;33m(\u001b[0m\u001b[0mlastKey\u001b[0m\u001b[1;33m+\u001b[0m\u001b[1;34m'\\t'\u001b[0m\u001b[1;33m+\u001b[0m\u001b[0mstr\u001b[0m\u001b[1;33m(\u001b[0m\u001b[0msum\u001b[0m\u001b[1;33m/\u001b[0m\u001b[0mcount\u001b[0m\u001b[1;33m)\u001b[0m\u001b[1;33m)\u001b[0m\u001b[1;33m\u001b[0m\u001b[0m\n",
      "\u001b[1;31mValueError\u001b[0m: not enough values to unpack (expected 2, got 1)"
     ]
    }
   ],
   "source": [
    "#4.1 Алгоритмы на MapReduce Exercise 3\n",
    "#Реализуйте reducer в задаче подсчета среднего времени, проведенного пользователем на странице.\n",
    "import sys\n",
    "\n",
    "lastKey, sum, count = None, 0, 0\n",
    "\n",
    "for line in sys.stdin:\n",
    "    Key, value = line.split('\\t')\n",
    "    if lastKey and lastKey != Key:\n",
    "        print(lastKey+'\\t'+str(round(sum/count)))\n",
    "        lastKey, sum, count = Key, int(value), 1\n",
    "    else:\n",
    "        lastKey, sum, count= Key, sum+ int(value), count+1\n",
    "if lastKey:\n",
    "    print(lastKey+'\\t'+str(round(sum/count)))"
   ]
  },
  {
   "cell_type": "code",
   "execution_count": null,
   "metadata": {},
   "outputs": [],
   "source": [
    "#4.1 Алгоритмы на MapReduce Exercise 5\n",
    "#Реализуйте mapper из фазы 1 задачи Distinct Values v1. \n",
    "import sys\n",
    "\n",
    "for line in sys.stdin:\n",
    "    key, list_gr = line.strip().split(\"\\t\")\n",
    "    for gr in list_gr.strip().split(\",\"):\n",
    "        if gr: print(key.strip() +','+gr.strip() +'\\t'+ '1')"
   ]
  },
  {
   "cell_type": "code",
   "execution_count": null,
   "metadata": {},
   "outputs": [],
   "source": [
    "# 4.1 Алгоритмы на MapReduce Exercise 5\n",
    "# Реализуйте reducer из фазы 1 задачи Distinct Values v1.\n",
    "\n",
    "import sys\n",
    "\n",
    "arry = {}\n",
    "for line in sys.stdin:\n",
    "    key, val = line.strip().split(\"\\t\")\n",
    "    key, gr = key.strip().split(\",\")\n",
    "    elem = arry.get(key, set())\n",
    "    elem.add(gr)\n",
    "    arry[key] = elem\n",
    "\n",
    "for key, elem in arry.items():\n",
    "    for gr in elem:\n",
    "        print(key+','+gr)"
   ]
  },
  {
   "cell_type": "code",
   "execution_count": null,
   "metadata": {},
   "outputs": [],
   "source": [
    "# 4.1 Алгоритмы на MapReduce Exercise 7\n",
    "# Реализуйте mapper из фазы 2 задачи Distinct Values v1.\n",
    "\n",
    "import sys\n",
    "for line in sys.stdin:\n",
    "    key, val = line.strip().split(',')\n",
    "    print(val, '1', sep='\\t')"
   ]
  },
  {
   "cell_type": "code",
   "execution_count": null,
   "metadata": {},
   "outputs": [],
   "source": [
    "# 4.1 Алгоритмы на MapReduce Exercise 8\n",
    "# Реализуйте reducer из задачи Distinct Values v2.\n",
    "import sys\n",
    "\n",
    "arry = {}\n",
    "for line in sys.stdin:\n",
    "    key, val = line.strip().split(\"\\t\")\n",
    "    elem = arry.get(val, set())\n",
    "    elem.add(key)\n",
    "    arry[val] = elem\n",
    "\n",
    "for key, elem in arry.items():\n",
    "    print(key, len(elem), sep='\\t')"
   ]
  },
  {
   "cell_type": "code",
   "execution_count": null,
   "metadata": {},
   "outputs": [],
   "source": [
    "# 4.1 Алгоритмы на MapReduce Exercise 8\n",
    "# Реализуйте reducer из задачи Distinct Values v2.\n",
    "# variant 2\n",
    "\n",
    "lastkey, lastval = None, None\n",
    "arry = {}\n",
    "for line in sys.stdin:\n",
    "    key, val = line.strip().split('\\t')\n",
    "    if lastkey and (lastkey != key) and lastval and lastval != val:\n",
    "        arry[val] = arry.get(val, 0)+1\n",
    "    lastkey, lastval = key, val\n",
    "\n",
    "for key, val in arry.items():\n",
    "    print(val, str(key), sep='\\t')"
   ]
  },
  {
   "cell_type": "code",
   "execution_count": null,
   "metadata": {},
   "outputs": [],
   "source": [
    "# 4.1 Алгоритмы на MapReduce Exercise 9\n",
    "# Реализуйте mapper для задачи Cross-Correlation, который для каждого кортежа создает все пары элементов, входящих в него.\n",
    "import sys\n",
    "\n",
    "for line in sys.stdin:\n",
    "    tokens = line.split()\n",
    "    for a in tokens:\n",
    "        for b in rokens:\n",
    "            if a!=b:\n",
    "                print(a+','+b, '1', sep='\\t')"
   ]
  },
  {
   "cell_type": "code",
   "execution_count": 5,
   "metadata": {
    "ExecuteTime": {
     "end_time": "2019-10-23T15:27:49.726967Z",
     "start_time": "2019-10-23T15:27:49.720917Z"
    }
   },
   "outputs": [
    {
     "name": "stdout",
     "output_type": "stream",
     "text": [
      "a\tb:1\n",
      "b\ta:1\n",
      "a\tb:1, c:1\n",
      "b\ta:2, c:1\n",
      "a\tb:1, c:1\n",
      "c\ta:2, b:1\n"
     ]
    }
   ],
   "source": [
    "# 4.1 Алгоритмы на MapReduce Exercise 10\n",
    "# Реализуйте mapper для задачи Cross-Correlation, который для каждого объекта из кортежа создает stripe.\n",
    "import sys\n",
    "\n",
    "sys.stdin = ['a b', 'a b a c']\n",
    "\n",
    "\n",
    "for line in sys.stdin:\n",
    "\n",
    "    tokens = line.split()\n",
    "    for a in tokens:\n",
    "        arry = {}\n",
    "        for b in tokens:\n",
    "            if a != b:\n",
    "                elem = arry.get(a, dict())\n",
    "                elem[b] = elem.get(b, 0)+1\n",
    "                arry[a] = elem\n",
    "\n",
    "        for a, elem in arry.items():\n",
    "            print(a, ', '.join(sorted([b+':'+str(c)\n",
    "                                       for b, c in elem.items()])), sep='\\t')"
   ]
  },
  {
   "cell_type": "code",
   "execution_count": null,
   "metadata": {},
   "outputs": [],
   "source": [
    "#4.2 Реляционные функции  Exercise 1\n",
    "# Напишите mapper с помощью Hadoop Streaming, печатающий только те строки из файла, которые соответствуют пользователю user10.\n",
    "import sys\n",
    "\n",
    "for line in sys.stdin:\n",
    "    ts, user, url = line.split('\\t')\n",
    "    if user.strip() =='user10':\n",
    "        print(line.strip())"
   ]
  },
  {
   "cell_type": "code",
   "execution_count": null,
   "metadata": {},
   "outputs": [],
   "source": [
    "# 4.2 Реляционные функции  Exercise 3\n",
    "# Напишите reducer, который объединяет элементы из множества A и B.\n",
    "import sys\n",
    "lastSet, lastItem = None, None\n",
    "\n",
    "for line in sys.stdin:\n",
    "    Item, Set = line.split('\\t')\n",
    "    if Set != lastSet:\n",
    "        if Item != lastItem:\n",
    "            print(Item)\n",
    "    else:\n",
    "        print(Item)\n",
    "    lastItem, lastSet = Item, Set"
   ]
  },
  {
   "cell_type": "code",
   "execution_count": null,
   "metadata": {},
   "outputs": [],
   "source": [
    "# 4.2 Реляционные функции Exercise 4\n",
    "# Напишите reducer, который делает пересечение элементов из множества A и B\n",
    "\n",
    "import sys\n",
    "lastSet, lastItem = None, None\n",
    "\n",
    "for line in sys.stdin:\n",
    "    Item, Set = line.split('\\t')\n",
    "    if Set != lastSet and Item == lastItem:\n",
    "        print(Item)\n",
    "\n",
    "    lastItem, lastSet = Item, Set"
   ]
  },
  {
   "cell_type": "code",
   "execution_count": 8,
   "metadata": {
    "ExecuteTime": {
     "end_time": "2019-10-23T19:28:22.829050Z",
     "start_time": "2019-10-23T19:28:22.824046Z"
    }
   },
   "outputs": [
    {
     "name": "stdout",
     "output_type": "stream",
     "text": [
      "1\n",
      "4\n",
      "6\n"
     ]
    }
   ],
   "source": [
    "# 4.2 Реляционные функции Exercise 5\n",
    "# Напишите reducer, который делает вычитание элементов множества B из множества A.\n",
    "import sys\n",
    "lastSet, lastItem=None, None\n",
    "\n",
    "sys.stdin = ['1\tA','2\tA','2\tB','3\tB','4\tA','5\tA','5\tB','6\tA']\n",
    "\n",
    "for line in sys.stdin:\n",
    "    Item, Set = line.strip().split('\\t')    \n",
    "    if (Item != lastItem)  and (lastSet =='A'):\n",
    "        print(lastItem)       \n",
    "    lastItem,lastSet=Item, Set\n",
    "else:\n",
    "    if lastSet =='A':\n",
    "        print(lastItem)"
   ]
  },
  {
   "cell_type": "code",
   "execution_count": 10,
   "metadata": {
    "ExecuteTime": {
     "end_time": "2019-10-23T19:43:01.697886Z",
     "start_time": "2019-10-23T19:43:01.692874Z"
    }
   },
   "outputs": [
    {
     "name": "stdout",
     "output_type": "stream",
     "text": [
      "1\n",
      "3\n",
      "4\n",
      "6\n"
     ]
    }
   ],
   "source": [
    "# 4.2 Реляционные функции Exercise 6\n",
    "# Напишите reducer, который реализует симметричную разность множеств A и B \n",
    "#               (т.е. оставляет только те элементы, которые есть только в одном из множеств)\n",
    "\n",
    "import sys\n",
    "\n",
    "lastSet, lastItem, isOneBefore = None, None, False\n",
    "\n",
    "sys.stdin = ['1\tA','2\tA','2\tB','3\tB','4\tA','5\tA','5\tB','6\tA']\n",
    "\n",
    "for line in sys.stdin:\n",
    "    Item,Set = line.strip().split('\\t')\n",
    "    if lastItem != Item:\n",
    "        if isOneBefore:\n",
    "            print(lastItem)\n",
    "        isOneBefore = True\n",
    "    else:\n",
    "        isOneBefore = False\n",
    "    lastItem,lastSet=Item, Set\n",
    "else:\n",
    "    if isOneBefore:\n",
    "            print(lastItem)"
   ]
  },
  {
   "cell_type": "code",
   "execution_count": 3,
   "metadata": {
    "ExecuteTime": {
     "end_time": "2019-10-24T06:48:38.488827Z",
     "start_time": "2019-10-24T06:48:38.479840Z"
    }
   },
   "outputs": [
    {
     "name": "stdout",
     "output_type": "stream",
     "text": [
      "None\n",
      "user1\tгугл\tgoogle.ru\n",
      "user2\tстэпик\tstepic.org\n",
      "user2\tстэпик\tstepic.org/explore/courses\n",
      "user2\tстэпик курсы\tstepic.org\n",
      "user2\tстэпик курсы\tstepic.org/explore/courses\n"
     ]
    }
   ],
   "source": [
    "# 4.2 Реляционные функции Exercise 7\n",
    "#Напишите reducer, реализующий объединение двух файлов (Join) по id пользователя. \n",
    "import sys\n",
    "lastKey, lastValue = None, None\n",
    "\n",
    "sys.stdin = [\n",
    "    'user1\tquery:гугл',\n",
    "'user1\turl:google.ru',\n",
    "'user2\tquery:стэпик',\n",
    "'user2\tquery:стэпик курсы',\n",
    "'user2\turl:stepic.org',\n",
    "'user2\turl:stepic.org/explore/courses',\n",
    "'user3\tquery:вконтакте'\n",
    "]\n",
    "\n",
    "\n",
    "for line in sys.stdin:\n",
    "    Key, Value = line.strip().split('\\t')\n",
    "    if Key != lastKey:   #если новый блок данных\n",
    "        # формируем join  из прошлого блока\n",
    "        if lastKey != None: #не первый блок\n",
    "            for que in listQuery:\n",
    "                for url in listUrl:\n",
    "                    print (lastKey + '\\t'+que + '\\t'+ url)\n",
    "        \n",
    "        \n",
    "        listQuery, listUrl = [], [] #обнуляем списки\n",
    "        if Value[:3] == 'que':  \n",
    "            listQuery.append(Value.strip().split(':')[1])\n",
    "        elif Value[:3] == 'url':\n",
    "            listUrl.append(Value.strip().split(':')[1])\n",
    "    else:                 #если старый блок блок данных\n",
    "        if Value[:3] == 'que':  \n",
    "            listQuery.append(Value.strip().split(':')[1])\n",
    "        elif Value[:3] == 'url':\n",
    "            listUrl.append(Value.strip().split(':')[1])     \n",
    "            \n",
    "    lastKey, lastValue = Key, Value # текущие данные в прошлые\n",
    "else:\n",
    "    for que in listQuery:\n",
    "        for url in listUrl:\n",
    "            print (lastKey + '\\t'+que + '\\t'+ url)"
   ]
  },
  {
   "cell_type": "code",
   "execution_count": 6,
   "metadata": {
    "ExecuteTime": {
     "end_time": "2019-10-24T09:57:34.423251Z",
     "start_time": "2019-10-24T09:57:34.419251Z"
    }
   },
   "outputs": [
    {
     "name": "stdout",
     "output_type": "stream",
     "text": [
      "aut#1\t1\n",
      "Caesar#1\t1\n",
      "aut#1\t1\n",
      "nihil#1\t1\n",
      "aut#1\t1\n",
      "aut#1\t1\n",
      "de#2\t1\n",
      "mortuis#2\t1\n",
      "aut#2\t1\n",
      "bene#2\t1\n",
      "aut#2\t1\n",
      "nihil#2\t1\n"
     ]
    }
   ],
   "source": [
    "# 4.3 Расчет TF-IDF. Exercise 1\n",
    "# Реализуйте mapper первой mapreduce задачи для расчета TF-IDF с помощью Hadoop Streaming.\n",
    "import sys\n",
    "import re\n",
    "\n",
    "sys.stdin = ['1:aut Caesar aut nihil',\n",
    "             '1:aut aut',\n",
    "             '2:de mortuis aut bene aut nihil']\n",
    "\n",
    "tokenise_string = r'[\\d\\w]+'\n",
    "for line in sys.stdin:\n",
    "    tokens = re.findall(tokenise_string, line)\n",
    "    for token in tokens[1:]:\n",
    "        print(token+'#'+tokens[0]+'\\t'+'1')"
   ]
  },
  {
   "cell_type": "code",
   "execution_count": 11,
   "metadata": {
    "ExecuteTime": {
     "end_time": "2019-10-24T10:17:36.984147Z",
     "start_time": "2019-10-24T10:17:36.977167Z"
    }
   },
   "outputs": [
    {
     "name": "stdout",
     "output_type": "stream",
     "text": [
      "aut\t1\t4\n",
      "aut\t2\t2\n",
      "bene\t2\t1\n",
      "de\t2\t1\n",
      "mortuis\t2\t1\n",
      "nihil\t1\t1\n",
      "nihil\t2\t1\n",
      "Caesar\t1\t1\n"
     ]
    }
   ],
   "source": [
    "# 4.3 Расчет TF-IDF. Exercise 2\n",
    "# Реализуйте reducer первой mapreduce задачи для расчета TF-IDF с помощью Hadoop Streaming.\n",
    "import sys\n",
    "\n",
    "sys.stdin = ['aut#1\t1', 'aut#1\t1', 'aut#1\t1', 'aut#1\t1', 'aut#2\t1', 'aut#2\t1',\n",
    "             'bene#2\t1', 'de#2\t1',  'mortuis#2\t1', 'nihil#1\t1',\n",
    "             'nihil#2\t1', 'Caesar#1\t1']\n",
    "lastWord, lastDoc, count = None, None, 0\n",
    "\n",
    "for line in sys.stdin:\n",
    "    word, doc_id = line.strip().split('\\t')[0].split('#')\n",
    "    if (lastWord and lastWord != word) or (lastDoc and lastDoc != doc_id):\n",
    "        print(lastWord, lastDoc, str(count), sep='\\t')\n",
    "        count = 1\n",
    "    else:\n",
    "        count += 1\n",
    "    lastWord, lastDoc = word, doc_id\n",
    "else:\n",
    "    print(lastWord, lastDoc, str(count), sep='\\t')"
   ]
  },
  {
   "cell_type": "code",
   "execution_count": null,
   "metadata": {},
   "outputs": [],
   "source": [
    "# 4.3 Расчет TF-IDF. Exercise 3\n",
    "# Реализуйте mapper второй mapreduce задачи для расчета TF-IDF с помощью Hadoop Streaming.\n",
    "import sys\n",
    "\n",
    "for line in sys.stdin:\n",
    "    word, doc_id, count = line.strip().split('\\t')\n",
    "    print(word+'\\t'+doc_id+';'+count+';1')\n"
   ]
  },
  {
   "cell_type": "code",
   "execution_count": 17,
   "metadata": {
    "ExecuteTime": {
     "end_time": "2019-10-24T11:40:46.622412Z",
     "start_time": "2019-10-24T11:40:46.615413Z"
    }
   },
   "outputs": [
    {
     "name": "stdout",
     "output_type": "stream",
     "text": [
      "aut#1\t4\t2\n",
      "aut#2\t2\t2\n",
      "bene#2\t1\t1\n",
      "de#2\t1\t1\n",
      "mortuis#2\t1\t1\n",
      "nihil#1\t1\t2\n",
      "nihil#2\t1\t2\n",
      "Caesar#1\t1\t1\n"
     ]
    }
   ],
   "source": [
    "# 4.3 Расчет TF-IDF. Exercise 4\n",
    "# Реализуйте reducer второй mapreduce задачи для расчета TF-IDF с помощью Hadoop Streaming.\n",
    "import sys\n",
    "\n",
    "sys.stdin = ['aut\t1;4;1', 'aut\t2;2;1', 'bene\t2;1;1', 'de\t2;1;1', 'mortuis\t2;1;1', 'nihil\t1;1;1',\n",
    "             'nihil\t2;1;1', 'Caesar\t1;1;1']\n",
    "\n",
    "last_word, word_list, doc_count = None, [], 0\n",
    "\n",
    "for line in sys.stdin:\n",
    "    word, doc_num = line.strip().split('\\t')\n",
    "    doc_id, word_count = doc_num.split(';')[0:2]\n",
    "    if last_word and last_word != word:\n",
    "        for doc_id_count in word_list:            \n",
    "            print(last_word+'#'+doc_id_count[0]+'\\t'+doc_id_count[1]+'\\t'+str(doc_count))\n",
    "        word_list, doc_count = [], 0\n",
    "    doc_count += 1\n",
    "    word_list.append((doc_id, word_count))\n",
    "    last_word= word\n",
    "else:\n",
    "    for doc_id_count in word_list:            \n",
    "        print(last_word+'#'+doc_id_count[0]+'\\t'+doc_id_count[1]+'\\t'+str(doc_count))\n"
   ]
  },
  {
   "cell_type": "code",
   "execution_count": 15,
   "metadata": {
    "ExecuteTime": {
     "end_time": "2019-10-25T06:46:31.519066Z",
     "start_time": "2019-10-25T06:46:31.512070Z"
    }
   },
   "outputs": [
    {
     "name": "stdout",
     "output_type": "stream",
     "text": [
      "9\n"
     ]
    }
   ],
   "source": [
    "# 5.2 Поиск кратчайшего пути в графе. Exercise 1\n",
    "# Реализуйте алгоритм Дейкстры поиска кратчайшего пути в графе.\n",
    "\n",
    "import sys\n",
    "\n",
    "sys.stdin = [\n",
    "    '4 8',\n",
    "    '1 2 6',\n",
    "    '1 3 2',\n",
    "    '1 4 10',\n",
    "    '2 4 4',\n",
    "    '3 1 5',\n",
    "    '3 2 3',\n",
    "    '3 4 8',\n",
    "    '4 2 1',\n",
    "    '1 4']\n",
    "\n",
    "graf = []\n",
    "\n",
    "for line in sys.stdin:\n",
    "    graf.append(list(map(int, line.strip().split())))\n",
    "\n",
    "param = graf.pop(0)\n",
    "task = graf.pop(-1)\n",
    "\n",
    "d = [100000 if i != task[0]-1 else 0 for i in range(param[0])]\n",
    "\n",
    "for N in graf:\n",
    "    for M in graf:\n",
    "        if d[M[1]-1] > d[M[0]-1]+M[2]:\n",
    "            d[M[1]-1] = d[M[0]-1]+M[2]\n",
    "\n",
    "print(str(d[task[1]-1]) if d[task[1]-1] != 100000 else '-1')"
   ]
  },
  {
   "cell_type": "code",
   "execution_count": 24,
   "metadata": {
    "ExecuteTime": {
     "end_time": "2019-10-25T07:56:05.113818Z",
     "start_time": "2019-10-25T07:56:05.106821Z"
    }
   },
   "outputs": [
    {
     "name": "stdout",
     "output_type": "stream",
     "text": [
      "1\t0\t{2,3,4}\n",
      "2\t1\t{}\n",
      "3\t1\t{}\n",
      "4\t1\t{}\n",
      "2\t1\t{5,6}\n",
      "5\t2\t{}\n",
      "6\t2\t{}\n",
      "3\t1\t{}\n",
      "4\t1\t{7,8}\n",
      "7\t2\t{}\n",
      "8\t2\t{}\n",
      "5\tINF\t{9,10}\n",
      "9\tINF\t{}\n",
      "10\tINF\t{}\n",
      "6\tINF\t{}\n",
      "7\tINF\t{}\n",
      "8\tINF\t{}\n",
      "9\tINF\t{}\n",
      "10\tINF\t{}\n"
     ]
    }
   ],
   "source": [
    "# 5.2 Поиск кратчайшего пути в графе. Exercise 2\n",
    "# Реализуйте mapper в задаче поиска кратчайшего пути с помощью Hadoop Streaming.\n",
    "\n",
    "import sys\n",
    "sys.stdin = ['1\t0\t{2,3,4}', '2\t1\t{5,6}',\n",
    "             '3\t1\t{}', '4\t1\t{7,8}',\n",
    "             '5\tINF\t{9,10}', '6\tINF\t{}',\n",
    "             '7\tINF\t{}', '8\tINF\t{}',\n",
    "             '9\tINF\t{}', '10\tINF\t{}']\n",
    "for line in sys.stdin:\n",
    "    node,min_dist,child_nodes = line.strip().split('\\t')\n",
    "    print(line.strip())\n",
    "    for child_node in child_nodes.strip()[1:-1].split(','):\n",
    "        if child_node:\n",
    "            print(child_node+'\\t'+ ('INF' if min_dist=='INF' else str(int(min_dist)+1)) +'\\t{}')"
   ]
  },
  {
   "cell_type": "code",
   "execution_count": 6,
   "metadata": {
    "ExecuteTime": {
     "end_time": "2019-10-29T09:52:28.729263Z",
     "start_time": "2019-10-29T09:52:28.720257Z"
    }
   },
   "outputs": [
    {
     "name": "stdout",
     "output_type": "stream",
     "text": [
      "1\t0\t{2,3,4}\n",
      "10\tINF\t{}\n",
      "2\t1\t{5,6}\n",
      "3\t1\t{}\n",
      "4\t1\t{7,8}\n",
      "5\t2\t{9,10}\n",
      "6\t2\t{}\n",
      "7\t2\t{}\n",
      "8\t2\t{}\n",
      "9\tINF\t{}\n"
     ]
    }
   ],
   "source": [
    "# 5.2 Поиск кратчайшего пути в графе. Exercise 2\n",
    "# Реализуйте reducer в задаче поиска кратчайшего пути с помощью Hadoop Streaming.\n",
    "import sys\n",
    "\n",
    "sys.stdin= [\n",
    "'1\t0\t{2,3,4}',\n",
    "'10\tINF\t{}',\n",
    "'10\tINF\t{}',\n",
    "'2\t1\t{}',\n",
    "'2\t1\t{5,6}',\n",
    "'3\t1\t{}',\n",
    "'3\t1\t{}',\n",
    "'4\t1\t{}',\n",
    "'4\t1\t{7,8}',\n",
    "'5\t2\t{}',\n",
    "'5\tINF\t{9,10}',\n",
    "'6\t2\t{}',\n",
    "'6\tINF\t{}',\n",
    "'7\t2\t{}',\n",
    "'7\tINF\t{}',\n",
    "'8\t2\t{}',\n",
    "'8\tINF\t{}',\n",
    "'9\tINF\t{}',\n",
    "'9\tINF\t{}']\n",
    "\n",
    "last_node, last_dist, last_childs = None, 'INF', '{}'\n",
    "\n",
    "for line in sys.stdin:\n",
    "    node,dist,ch_nodes = line.strip().split('\\t')\n",
    "    if last_node and node != last_node:\n",
    "        # выводим предыдущую ноду\n",
    "\n",
    "        print(last_node + '\\t'+ last_dist+ '\\t'+last_childs)\n",
    "        #обнуляем начальные данные\n",
    "        last_dist, last_childs = 'INF', '{}'\n",
    "    \n",
    "    last_node = node\n",
    "    if dist != 'INF':\n",
    "        if last_dist == 'INF':\n",
    "            last_dist = dist\n",
    "        else:\n",
    "            if int(last_dist) > int(dist):\n",
    "                last_dist = dist\n",
    "    if ch_nodes != '{}':\n",
    "        last_childs = ch_nodes\n",
    "else:\n",
    "     print(last_node + '\\t'+ last_dist + '\\t'+last_childs)\n"
   ]
  },
  {
   "cell_type": "code",
   "execution_count": 16,
   "metadata": {
    "ExecuteTime": {
     "end_time": "2019-10-29T10:58:22.437801Z",
     "start_time": "2019-10-29T10:58:22.431808Z"
    }
   },
   "outputs": [
    {
     "name": "stdout",
     "output_type": "stream",
     "text": [
      "1\t0.200\t{2,4}\n",
      "2\t0.100\t{}\n",
      "4\t0.100\t{}\n",
      "2\t0.200\t{3,5}\n",
      "3\t0.100\t{}\n",
      "5\t0.100\t{}\n",
      "3\t0.200\t{4}\n",
      "4\t0.200\t{}\n",
      "4\t0.200\t{5}\n",
      "5\t0.200\t{}\n",
      "5\t0.200\t{1,2,3}\n",
      "1\t0.067\t{}\n",
      "2\t0.067\t{}\n",
      "3\t0.067\t{}\n"
     ]
    }
   ],
   "source": [
    "# 5.3 PageRank. Exercise 1\n",
    "# Реализуйте mapper для алгоритма расчета PageRank с помощью Hadoop Streaming. \n",
    "import sys\n",
    "\n",
    "sys.stdin = [\n",
    "'1\t0.200\t{2,4}',\n",
    "'2\t0.200\t{3,5}',\n",
    "'3\t0.200\t{4}',\n",
    "'4\t0.200\t{5}',\n",
    "'5\t0.200\t{1,2,3}'    \n",
    "]\n",
    "\n",
    "for line in sys.stdin:\n",
    "    node, weight, ch_nodes = line.strip().split()\n",
    "    ch_nodes_list = ch_nodes[1:-1].split(',')\n",
    "    weight = float(weight)\n",
    "    print(line.strip())\n",
    "    for child_node in ch_nodes_list:\n",
    "        print(child_node+'\\t'+'{:.3f}'.format(round(weight/len(ch_nodes_list),3))+'\\t'+'{}')\n",
    "        "
   ]
  },
  {
   "cell_type": "code",
   "execution_count": 20,
   "metadata": {
    "ExecuteTime": {
     "end_time": "2019-10-29T11:19:43.808890Z",
     "start_time": "2019-10-29T11:19:43.799888Z"
    }
   },
   "outputs": [
    {
     "name": "stdout",
     "output_type": "stream",
     "text": [
      "1\t0.067\t{2,4}\n",
      "2\t0.167\t{3,5}\n",
      "3\t0.167\t{4}\n",
      "4\t0.300\t{5}\n",
      "5\t0.300\t{1,2,3}\n"
     ]
    }
   ],
   "source": [
    "# 5.3 PageRank Exercise 2\n",
    "# Реализуйте reducer для алгоритма расчета PageRank с помощью Hadoop Streaming. \n",
    "#     Используйте упрощенный алгоритм (без случайных переходов).\n",
    "import sys\n",
    "\n",
    "sys.stdin = ['1\t0.067\t{}',\n",
    "'1\t0.200\t{2,4}',\n",
    "'2\t0.067\t{}',\n",
    "'2\t0.100\t{}',\n",
    "'2\t0.200\t{3,5}',\n",
    "'3\t0.067\t{}',\n",
    "'3\t0.100\t{}',\n",
    "'3\t0.200\t{4}',\n",
    "'4\t0.100\t{}',\n",
    "'4\t0.200\t{}',\n",
    "'4\t0.200\t{5}',\n",
    "'5\t0.100\t{}',\n",
    "'5\t0.200\t{}',\n",
    "'5\t0.200\t{1,2,3}']\n",
    "\n",
    "graph = {}\n",
    "for line in sys.stdin:    \n",
    "    node, weight, ch_nodes = line.strip().split()\n",
    "    if ch_nodes == '{}':\n",
    "        graph[node] = [graph.get(node,[0,''])[0] + float(weight),graph.get(node,[0,''])[1]]\n",
    "    else:\n",
    "        graph[node] = [graph.get(node,[0,''])[0], graph.get(node,[0,''])[1] + ch_nodes]\n",
    "        \n",
    "for node, param in graph.items():\n",
    "    print(node+'\\t'+'{:.3f}'.format(param[0])+'\\t'+param[1])"
   ]
  },
  {
   "cell_type": "code",
   "execution_count": 23,
   "metadata": {
    "ExecuteTime": {
     "end_time": "2019-10-29T11:27:59.020977Z",
     "start_time": "2019-10-29T11:27:59.011976Z"
    }
   },
   "outputs": [
    {
     "name": "stdout",
     "output_type": "stream",
     "text": [
      "1\t0.080\t{2,4}\n",
      "2\t0.170\t{3,5}\n",
      "3\t0.170\t{4}\n",
      "4\t0.290\t{5}\n",
      "5\t0.290\t{1,2,3}\n"
     ]
    }
   ],
   "source": [
    "# 5.3 PageRank Exercise 3\n",
    "#Модифицируйте reducer из предыдущего задания так, чтобы он расcчитывал PageRank \n",
    "#с учетом случайного перехода, т.е. первого члена в формуле:\n",
    "#Для всех тестов считайте, что N = 5,  α = 0,1.\n",
    "import sys\n",
    "\n",
    "sys.stdin = ['1\t0.067\t{}',\n",
    "'1\t0.200\t{2,4}',\n",
    "'2\t0.067\t{}',\n",
    "'2\t0.100\t{}',\n",
    "'2\t0.200\t{3,5}',\n",
    "'3\t0.067\t{}',\n",
    "'3\t0.100\t{}',\n",
    "'3\t0.200\t{4}',\n",
    "'4\t0.100\t{}',\n",
    "'4\t0.200\t{}',\n",
    "'4\t0.200\t{5}',\n",
    "'5\t0.100\t{}',\n",
    "'5\t0.200\t{}',\n",
    "'5\t0.200\t{1,2,3}']\n",
    "\n",
    "graph = {}\n",
    "alfa=0.1\n",
    "for line in sys.stdin:    \n",
    "    node, weight, ch_nodes = line.strip().split()\n",
    "    if ch_nodes == '{}':\n",
    "        graph[node] = [graph.get(node,[0,''])[0] + float(weight),graph.get(node,[0,''])[1]]\n",
    "    else:\n",
    "        graph[node] = [graph.get(node,[0,''])[0], graph.get(node,[0,''])[1] + ch_nodes]\n",
    "        \n",
    "for node, param in graph.items():\n",
    "    print(node+'\\t'+'{:.3f}'.format((1-alfa)*param[0]+alfa/len(graph))+'\\t'+param[1])"
   ]
  },
  {
   "cell_type": "code",
   "execution_count": 6,
   "metadata": {
    "ExecuteTime": {
     "end_time": "2019-10-27T20:16:21.177271Z",
     "start_time": "2019-10-27T20:16:21.173272Z"
    }
   },
   "outputs": [
    {
     "name": "stdout",
     "output_type": "stream",
     "text": [
      "[('a', 7), ('i', 6), ('t', 5), ('e', 4), ('v', 3), ('c', 3), ('d', 2), ('l', 2), ('V', 1), ('n', 1), ('A', 1), ('j', 1), ('s', 1), ('G', 1), ('u', 1), ('p', 1), ('m', 1)]\n"
     ]
    }
   ],
   "source": [
    "text = 'Veni, vidi, vici. Alea jacta est. Gutta cavat lapidem.'\n",
    "arry ={}\n",
    "\n",
    "for a in text:\n",
    "    if a>='A' and a<='z':\n",
    "        arry[a]=arry.get(a,0)+1\n",
    "\n",
    "arry = sorted(arry.items(), key=lambda x: x[1], reverse=True)     \n",
    "print(arry)"
   ]
  },
  {
   "cell_type": "code",
   "execution_count": null,
   "metadata": {},
   "outputs": [],
   "source": []
  }
 ],
 "metadata": {
  "kernelspec": {
   "display_name": "Python 3",
   "language": "python",
   "name": "python3"
  },
  "language_info": {
   "codemirror_mode": {
    "name": "ipython",
    "version": 3
   },
   "file_extension": ".py",
   "mimetype": "text/x-python",
   "name": "python",
   "nbconvert_exporter": "python",
   "pygments_lexer": "ipython3",
   "version": "3.6.4"
  }
 },
 "nbformat": 4,
 "nbformat_minor": 2
}
